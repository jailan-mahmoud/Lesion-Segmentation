{
  "nbformat": 4,
  "nbformat_minor": 0,
  "metadata": {
    "colab": {
      "name": "Assignment 4: Lesion Segmentation.ipynb",
      "provenance": [],
      "collapsed_sections": [
        "EIMoiacPbUN-",
        "OkX8Rp8tEqoe",
        "mpCgzuLOW4SN",
        "YoxgKUMLkfBs",
        "qoX-L7g73xNJ",
        "RRedvIwT35q3",
        "B3C-V9RScA1T",
        "mrxXrKONa1VS",
        "MWttzsCSWyGa",
        "amNb3m2GTS0Y",
        "RTsg5tYEP-RQ",
        "QMzbZQcPP-RS",
        "v1CMUwEKnEfY",
        "E8MDXmpKwYJX",
        "U4eLuYrvwbiW",
        "40ChAAGK8TXh",
        "EM0TzIWWlGB9",
        "jzPybrt8lXhG",
        "38hSQvGh880M"
      ],
      "toc_visible": true,
      "machine_shape": "hm",
      "include_colab_link": true
    },
    "kernelspec": {
      "name": "python3",
      "display_name": "Python 3"
    },
    "language_info": {
      "name": "python"
    },
    "accelerator": "GPU",
    "widgets": {
      "application/vnd.jupyter.widget-state+json": {
        "280f4bb6755b4834afa2ddcb1e23c8f3": {
          "model_module": "@jupyter-widgets/controls",
          "model_name": "HBoxModel",
          "model_module_version": "1.5.0",
          "state": {
            "_view_name": "HBoxView",
            "_dom_classes": [],
            "_model_name": "HBoxModel",
            "_view_module": "@jupyter-widgets/controls",
            "_model_module_version": "1.5.0",
            "_view_count": null,
            "_view_module_version": "1.5.0",
            "box_style": "",
            "layout": "IPY_MODEL_726b04fd754c4c11b70cfa7093fccefb",
            "_model_module": "@jupyter-widgets/controls",
            "children": [
              "IPY_MODEL_b799ba145d2a407787befd92c21a28c8",
              "IPY_MODEL_fcdcf75b7b6b43e085716a17d37149c6",
              "IPY_MODEL_9ac6b8c4cc074e74ac5bd81202baa392"
            ]
          }
        },
        "726b04fd754c4c11b70cfa7093fccefb": {
          "model_module": "@jupyter-widgets/base",
          "model_name": "LayoutModel",
          "model_module_version": "1.2.0",
          "state": {
            "_view_name": "LayoutView",
            "grid_template_rows": null,
            "right": null,
            "justify_content": null,
            "_view_module": "@jupyter-widgets/base",
            "overflow": null,
            "_model_module_version": "1.2.0",
            "_view_count": null,
            "flex_flow": null,
            "width": null,
            "min_width": null,
            "border": null,
            "align_items": null,
            "bottom": null,
            "_model_module": "@jupyter-widgets/base",
            "top": null,
            "grid_column": null,
            "overflow_y": null,
            "overflow_x": null,
            "grid_auto_flow": null,
            "grid_area": null,
            "grid_template_columns": null,
            "flex": null,
            "_model_name": "LayoutModel",
            "justify_items": null,
            "grid_row": null,
            "max_height": null,
            "align_content": null,
            "visibility": null,
            "align_self": null,
            "height": null,
            "min_height": null,
            "padding": null,
            "grid_auto_rows": null,
            "grid_gap": null,
            "max_width": null,
            "order": null,
            "_view_module_version": "1.2.0",
            "grid_template_areas": null,
            "object_position": null,
            "object_fit": null,
            "grid_auto_columns": null,
            "margin": null,
            "display": null,
            "left": null
          }
        },
        "b799ba145d2a407787befd92c21a28c8": {
          "model_module": "@jupyter-widgets/controls",
          "model_name": "HTMLModel",
          "model_module_version": "1.5.0",
          "state": {
            "_view_name": "HTMLView",
            "style": "IPY_MODEL_3aa6f32479c54da1b103c354b77d7326",
            "_dom_classes": [],
            "description": "",
            "_model_name": "HTMLModel",
            "placeholder": "​",
            "_view_module": "@jupyter-widgets/controls",
            "_model_module_version": "1.5.0",
            "value": "100%",
            "_view_count": null,
            "_view_module_version": "1.5.0",
            "description_tooltip": null,
            "_model_module": "@jupyter-widgets/controls",
            "layout": "IPY_MODEL_fc7b480c2d2d4bbba6f60488687b8bba"
          }
        },
        "fcdcf75b7b6b43e085716a17d37149c6": {
          "model_module": "@jupyter-widgets/controls",
          "model_name": "FloatProgressModel",
          "model_module_version": "1.5.0",
          "state": {
            "_view_name": "ProgressView",
            "style": "IPY_MODEL_a23ab99d262341d89e3d1b448057594a",
            "_dom_classes": [],
            "description": "",
            "_model_name": "FloatProgressModel",
            "bar_style": "success",
            "max": 553433881,
            "_view_module": "@jupyter-widgets/controls",
            "_model_module_version": "1.5.0",
            "value": 553433881,
            "_view_count": null,
            "_view_module_version": "1.5.0",
            "orientation": "horizontal",
            "min": 0,
            "description_tooltip": null,
            "_model_module": "@jupyter-widgets/controls",
            "layout": "IPY_MODEL_676312b6730848bc829f133b4a356e4e"
          }
        },
        "9ac6b8c4cc074e74ac5bd81202baa392": {
          "model_module": "@jupyter-widgets/controls",
          "model_name": "HTMLModel",
          "model_module_version": "1.5.0",
          "state": {
            "_view_name": "HTMLView",
            "style": "IPY_MODEL_7bbd2404ee82433ba5417fba5645d831",
            "_dom_classes": [],
            "description": "",
            "_model_name": "HTMLModel",
            "placeholder": "​",
            "_view_module": "@jupyter-widgets/controls",
            "_model_module_version": "1.5.0",
            "value": " 528M/528M [00:01&lt;00:00, 330MB/s]",
            "_view_count": null,
            "_view_module_version": "1.5.0",
            "description_tooltip": null,
            "_model_module": "@jupyter-widgets/controls",
            "layout": "IPY_MODEL_ca5437eede2e4104930ca1e1a6665746"
          }
        },
        "3aa6f32479c54da1b103c354b77d7326": {
          "model_module": "@jupyter-widgets/controls",
          "model_name": "DescriptionStyleModel",
          "model_module_version": "1.5.0",
          "state": {
            "_view_name": "StyleView",
            "_model_name": "DescriptionStyleModel",
            "description_width": "",
            "_view_module": "@jupyter-widgets/base",
            "_model_module_version": "1.5.0",
            "_view_count": null,
            "_view_module_version": "1.2.0",
            "_model_module": "@jupyter-widgets/controls"
          }
        },
        "fc7b480c2d2d4bbba6f60488687b8bba": {
          "model_module": "@jupyter-widgets/base",
          "model_name": "LayoutModel",
          "model_module_version": "1.2.0",
          "state": {
            "_view_name": "LayoutView",
            "grid_template_rows": null,
            "right": null,
            "justify_content": null,
            "_view_module": "@jupyter-widgets/base",
            "overflow": null,
            "_model_module_version": "1.2.0",
            "_view_count": null,
            "flex_flow": null,
            "width": null,
            "min_width": null,
            "border": null,
            "align_items": null,
            "bottom": null,
            "_model_module": "@jupyter-widgets/base",
            "top": null,
            "grid_column": null,
            "overflow_y": null,
            "overflow_x": null,
            "grid_auto_flow": null,
            "grid_area": null,
            "grid_template_columns": null,
            "flex": null,
            "_model_name": "LayoutModel",
            "justify_items": null,
            "grid_row": null,
            "max_height": null,
            "align_content": null,
            "visibility": null,
            "align_self": null,
            "height": null,
            "min_height": null,
            "padding": null,
            "grid_auto_rows": null,
            "grid_gap": null,
            "max_width": null,
            "order": null,
            "_view_module_version": "1.2.0",
            "grid_template_areas": null,
            "object_position": null,
            "object_fit": null,
            "grid_auto_columns": null,
            "margin": null,
            "display": null,
            "left": null
          }
        },
        "a23ab99d262341d89e3d1b448057594a": {
          "model_module": "@jupyter-widgets/controls",
          "model_name": "ProgressStyleModel",
          "model_module_version": "1.5.0",
          "state": {
            "_view_name": "StyleView",
            "_model_name": "ProgressStyleModel",
            "description_width": "",
            "_view_module": "@jupyter-widgets/base",
            "_model_module_version": "1.5.0",
            "_view_count": null,
            "_view_module_version": "1.2.0",
            "bar_color": null,
            "_model_module": "@jupyter-widgets/controls"
          }
        },
        "676312b6730848bc829f133b4a356e4e": {
          "model_module": "@jupyter-widgets/base",
          "model_name": "LayoutModel",
          "model_module_version": "1.2.0",
          "state": {
            "_view_name": "LayoutView",
            "grid_template_rows": null,
            "right": null,
            "justify_content": null,
            "_view_module": "@jupyter-widgets/base",
            "overflow": null,
            "_model_module_version": "1.2.0",
            "_view_count": null,
            "flex_flow": null,
            "width": null,
            "min_width": null,
            "border": null,
            "align_items": null,
            "bottom": null,
            "_model_module": "@jupyter-widgets/base",
            "top": null,
            "grid_column": null,
            "overflow_y": null,
            "overflow_x": null,
            "grid_auto_flow": null,
            "grid_area": null,
            "grid_template_columns": null,
            "flex": null,
            "_model_name": "LayoutModel",
            "justify_items": null,
            "grid_row": null,
            "max_height": null,
            "align_content": null,
            "visibility": null,
            "align_self": null,
            "height": null,
            "min_height": null,
            "padding": null,
            "grid_auto_rows": null,
            "grid_gap": null,
            "max_width": null,
            "order": null,
            "_view_module_version": "1.2.0",
            "grid_template_areas": null,
            "object_position": null,
            "object_fit": null,
            "grid_auto_columns": null,
            "margin": null,
            "display": null,
            "left": null
          }
        },
        "7bbd2404ee82433ba5417fba5645d831": {
          "model_module": "@jupyter-widgets/controls",
          "model_name": "DescriptionStyleModel",
          "model_module_version": "1.5.0",
          "state": {
            "_view_name": "StyleView",
            "_model_name": "DescriptionStyleModel",
            "description_width": "",
            "_view_module": "@jupyter-widgets/base",
            "_model_module_version": "1.5.0",
            "_view_count": null,
            "_view_module_version": "1.2.0",
            "_model_module": "@jupyter-widgets/controls"
          }
        },
        "ca5437eede2e4104930ca1e1a6665746": {
          "model_module": "@jupyter-widgets/base",
          "model_name": "LayoutModel",
          "model_module_version": "1.2.0",
          "state": {
            "_view_name": "LayoutView",
            "grid_template_rows": null,
            "right": null,
            "justify_content": null,
            "_view_module": "@jupyter-widgets/base",
            "overflow": null,
            "_model_module_version": "1.2.0",
            "_view_count": null,
            "flex_flow": null,
            "width": null,
            "min_width": null,
            "border": null,
            "align_items": null,
            "bottom": null,
            "_model_module": "@jupyter-widgets/base",
            "top": null,
            "grid_column": null,
            "overflow_y": null,
            "overflow_x": null,
            "grid_auto_flow": null,
            "grid_area": null,
            "grid_template_columns": null,
            "flex": null,
            "_model_name": "LayoutModel",
            "justify_items": null,
            "grid_row": null,
            "max_height": null,
            "align_content": null,
            "visibility": null,
            "align_self": null,
            "height": null,
            "min_height": null,
            "padding": null,
            "grid_auto_rows": null,
            "grid_gap": null,
            "max_width": null,
            "order": null,
            "_view_module_version": "1.2.0",
            "grid_template_areas": null,
            "object_position": null,
            "object_fit": null,
            "grid_auto_columns": null,
            "margin": null,
            "display": null,
            "left": null
          }
        }
      }
    }
  },
  "cells": [
    {
      "cell_type": "markdown",
      "metadata": {
        "id": "view-in-github",
        "colab_type": "text"
      },
      "source": [
        "<a href=\"https://colab.research.google.com/github/jailan-mahmoud/Lesion-Segmentation/blob/main/Assignment_4_Lesion_Segmentation.ipynb\" target=\"_parent\"><img src=\"https://colab.research.google.com/assets/colab-badge.svg\" alt=\"Open In Colab\"/></a>"
      ]
    },
    {
      "cell_type": "markdown",
      "source": [
        "## Assignment 4: Lesion Segmentation <br>\n",
        "Done by:<br>\n",
        "> Jailan Mahmoud - 5733 <br>\n",
        "  Salma ElBanna - 5734\n"
      ],
      "metadata": {
        "id": "EIMoiacPbUN-"
      }
    },
    {
      "cell_type": "code",
      "source": [
        "gpu_info = !nvidia-smi\n",
        "gpu_info = '\\n'.join(gpu_info)\n",
        "if gpu_info.find('failed') >= 0:\n",
        "  print('Not connected to a GPU')\n",
        "else:\n",
        "  print(gpu_info)\n",
        "  \n",
        "from psutil import virtual_memory\n",
        "ram_gb = virtual_memory().total / 1e9\n",
        "print('Your runtime has {:.1f} gigabytes of available RAM\\n'.format(ram_gb))\n",
        "\n",
        "if ram_gb < 20:\n",
        "  print('Not using a high-RAM runtime')\n",
        "else:\n",
        "  print('You are using a high-RAM runtime!')"
      ],
      "metadata": {
        "colab": {
          "base_uri": "https://localhost:8080/"
        },
        "id": "nU4pruPrQUr0",
        "outputId": "036a3132-fa99-488e-aeb8-6b297a1a3b1a"
      },
      "execution_count": null,
      "outputs": [
        {
          "output_type": "stream",
          "name": "stdout",
          "text": [
            "Tue Feb  1 12:55:39 2022       \n",
            "+-----------------------------------------------------------------------------+\n",
            "| NVIDIA-SMI 495.46       Driver Version: 460.32.03    CUDA Version: 11.2     |\n",
            "|-------------------------------+----------------------+----------------------+\n",
            "| GPU  Name        Persistence-M| Bus-Id        Disp.A | Volatile Uncorr. ECC |\n",
            "| Fan  Temp  Perf  Pwr:Usage/Cap|         Memory-Usage | GPU-Util  Compute M. |\n",
            "|                               |                      |               MIG M. |\n",
            "|===============================+======================+======================|\n",
            "|   0  Tesla P100-PCIE...  Off  | 00000000:00:04.0 Off |                    0 |\n",
            "| N/A   36C    P0    27W / 250W |      0MiB / 16280MiB |      0%      Default |\n",
            "|                               |                      |                  N/A |\n",
            "+-------------------------------+----------------------+----------------------+\n",
            "                                                                               \n",
            "+-----------------------------------------------------------------------------+\n",
            "| Processes:                                                                  |\n",
            "|  GPU   GI   CI        PID   Type   Process name                  GPU Memory |\n",
            "|        ID   ID                                                   Usage      |\n",
            "|=============================================================================|\n",
            "|  No running processes found                                                 |\n",
            "+-----------------------------------------------------------------------------+\n",
            "Your runtime has 27.3 gigabytes of available RAM\n",
            "\n",
            "You are using a high-RAM runtime!\n"
          ]
        }
      ]
    },
    {
      "cell_type": "markdown",
      "source": [
        "Install required librarires"
      ],
      "metadata": {
        "id": "mZyqWK1yzse_"
      }
    },
    {
      "cell_type": "code",
      "source": [
        "!pip install albumentations==0.4.6"
      ],
      "metadata": {
        "colab": {
          "base_uri": "https://localhost:8080/"
        },
        "id": "fUS9njov-VkE",
        "outputId": "55854dfb-c72f-4055-c9a8-c8fb49277a2f"
      },
      "execution_count": null,
      "outputs": [
        {
          "output_type": "stream",
          "name": "stdout",
          "text": [
            "Collecting albumentations==0.4.6\n",
            "  Downloading albumentations-0.4.6.tar.gz (117 kB)\n",
            "\u001b[K     |████████████████████████████████| 117 kB 8.4 MB/s \n",
            "\u001b[?25hRequirement already satisfied: numpy>=1.11.1 in /usr/local/lib/python3.7/dist-packages (from albumentations==0.4.6) (1.19.5)\n",
            "Requirement already satisfied: scipy in /usr/local/lib/python3.7/dist-packages (from albumentations==0.4.6) (1.4.1)\n",
            "Collecting imgaug>=0.4.0\n",
            "  Downloading imgaug-0.4.0-py2.py3-none-any.whl (948 kB)\n",
            "\u001b[K     |████████████████████████████████| 948 kB 64.0 MB/s \n",
            "\u001b[?25hRequirement already satisfied: PyYAML in /usr/local/lib/python3.7/dist-packages (from albumentations==0.4.6) (3.13)\n",
            "Requirement already satisfied: opencv-python>=4.1.1 in /usr/local/lib/python3.7/dist-packages (from albumentations==0.4.6) (4.1.2.30)\n",
            "Requirement already satisfied: Pillow in /usr/local/lib/python3.7/dist-packages (from imgaug>=0.4.0->albumentations==0.4.6) (7.1.2)\n",
            "Requirement already satisfied: imageio in /usr/local/lib/python3.7/dist-packages (from imgaug>=0.4.0->albumentations==0.4.6) (2.4.1)\n",
            "Requirement already satisfied: Shapely in /usr/local/lib/python3.7/dist-packages (from imgaug>=0.4.0->albumentations==0.4.6) (1.8.0)\n",
            "Requirement already satisfied: six in /usr/local/lib/python3.7/dist-packages (from imgaug>=0.4.0->albumentations==0.4.6) (1.15.0)\n",
            "Requirement already satisfied: matplotlib in /usr/local/lib/python3.7/dist-packages (from imgaug>=0.4.0->albumentations==0.4.6) (3.2.2)\n",
            "Requirement already satisfied: scikit-image>=0.14.2 in /usr/local/lib/python3.7/dist-packages (from imgaug>=0.4.0->albumentations==0.4.6) (0.18.3)\n",
            "Requirement already satisfied: networkx>=2.0 in /usr/local/lib/python3.7/dist-packages (from scikit-image>=0.14.2->imgaug>=0.4.0->albumentations==0.4.6) (2.6.3)\n",
            "Requirement already satisfied: PyWavelets>=1.1.1 in /usr/local/lib/python3.7/dist-packages (from scikit-image>=0.14.2->imgaug>=0.4.0->albumentations==0.4.6) (1.2.0)\n",
            "Requirement already satisfied: tifffile>=2019.7.26 in /usr/local/lib/python3.7/dist-packages (from scikit-image>=0.14.2->imgaug>=0.4.0->albumentations==0.4.6) (2021.11.2)\n",
            "Requirement already satisfied: kiwisolver>=1.0.1 in /usr/local/lib/python3.7/dist-packages (from matplotlib->imgaug>=0.4.0->albumentations==0.4.6) (1.3.2)\n",
            "Requirement already satisfied: cycler>=0.10 in /usr/local/lib/python3.7/dist-packages (from matplotlib->imgaug>=0.4.0->albumentations==0.4.6) (0.11.0)\n",
            "Requirement already satisfied: python-dateutil>=2.1 in /usr/local/lib/python3.7/dist-packages (from matplotlib->imgaug>=0.4.0->albumentations==0.4.6) (2.8.2)\n",
            "Requirement already satisfied: pyparsing!=2.0.4,!=2.1.2,!=2.1.6,>=2.0.1 in /usr/local/lib/python3.7/dist-packages (from matplotlib->imgaug>=0.4.0->albumentations==0.4.6) (3.0.7)\n",
            "Building wheels for collected packages: albumentations\n",
            "  Building wheel for albumentations (setup.py) ... \u001b[?25l\u001b[?25hdone\n",
            "  Created wheel for albumentations: filename=albumentations-0.4.6-py3-none-any.whl size=65174 sha256=13ec1e17e75a5e0bbc9cb48fd4da5971ba279c5cea75cf690dfefbd91f97bbcd\n",
            "  Stored in directory: /root/.cache/pip/wheels/cf/34/0f/cb2a5f93561a181a4bcc84847ad6aaceea8b5a3127469616cc\n",
            "Successfully built albumentations\n",
            "Installing collected packages: imgaug, albumentations\n",
            "  Attempting uninstall: imgaug\n",
            "    Found existing installation: imgaug 0.2.9\n",
            "    Uninstalling imgaug-0.2.9:\n",
            "      Successfully uninstalled imgaug-0.2.9\n",
            "  Attempting uninstall: albumentations\n",
            "    Found existing installation: albumentations 0.1.12\n",
            "    Uninstalling albumentations-0.1.12:\n",
            "      Successfully uninstalled albumentations-0.1.12\n",
            "Successfully installed albumentations-0.4.6 imgaug-0.4.0\n"
          ]
        }
      ]
    },
    {
      "cell_type": "markdown",
      "source": [
        "Imports"
      ],
      "metadata": {
        "id": "D2bqOYMyjXE6"
      }
    },
    {
      "cell_type": "code",
      "source": [
        "# To mount Google Drive\n",
        "from google.colab import drive\n",
        "\n",
        "# OS\n",
        "import os\n",
        "\n",
        "# Other\n",
        "import time\n",
        "import glob\n",
        "import numpy as np\n",
        "from zipfile import ZipFile\n",
        "import random\n",
        "\n",
        "# Images\n",
        "import cv2\n",
        "from PIL import Image\n",
        "\n",
        "# Plotting\n",
        "import matplotlib.pyplot as plt\n",
        "\n",
        "## Image Transforms\n",
        "import albumentations as A\n",
        "import albumentations.augmentations.functional as F\n",
        "from albumentations.pytorch import ToTensorV2\n",
        "\n",
        "## PyTorch \n",
        "import torch\n",
        "# 1. Datasets\n",
        "from torch.utils.data import Dataset, DataLoader\n",
        "from torchvision import transforms, datasets, models\n",
        "# 2. Model\n",
        "from torchvision import models\n",
        "from torch.nn import Sequential, ConvTranspose2d, Conv2d, MaxPool2d, Module, ModuleList, ReLU, Sequential, BatchNorm2d\n",
        "from torchvision.transforms import CenterCrop\n",
        "from torch.nn import functional as F\n",
        "from torchsummary import summary\n",
        "# 3. Training Loop\n",
        "from torch.nn import BCEWithLogitsLoss\n",
        "from torch.optim import Adam\n",
        "from torchvision import transforms\n",
        "from imutils import paths\n",
        "\n",
        "# Progress Bar\n",
        "from tqdm import tqdm\n",
        "\n",
        "# EXTRA \n",
        "import torch.nn as nn\n",
        "import torchvision.transforms.functional as TF\n",
        "import torch.optim as optim\n",
        "import torchvision"
      ],
      "metadata": {
        "id": "aGrQhe10pi_N"
      },
      "execution_count": null,
      "outputs": []
    },
    {
      "cell_type": "markdown",
      "source": [
        "Mount Drive"
      ],
      "metadata": {
        "id": "cko-zQbGDCxI"
      }
    },
    {
      "cell_type": "code",
      "source": [
        "drive.mount('/content/drive')"
      ],
      "metadata": {
        "colab": {
          "base_uri": "https://localhost:8080/"
        },
        "id": "2ktAzRa-Ij9_",
        "outputId": "e4fb6b94-a426-44ed-92ec-c1f5d089cb5f"
      },
      "execution_count": null,
      "outputs": [
        {
          "output_type": "stream",
          "name": "stdout",
          "text": [
            "Mounted at /content/drive\n"
          ]
        }
      ]
    },
    {
      "cell_type": "markdown",
      "source": [
        "Global Parameters"
      ],
      "metadata": {
        "id": "ng0kkxFeRbAr"
      }
    },
    {
      "cell_type": "code",
      "source": [
        "# Device \n",
        "DEVICE = torch.device('cuda' if torch.cuda.is_available() else 'cpu')\n",
        "print(f'Device in use = {DEVICE}')\n",
        "\n",
        "# Number of Classes (= 1 for binary segmentation)\n",
        "NUM_CLASSES = 1    # Background and Foreground -> Binary\n",
        "\n",
        "# Image Input Size\n",
        "IMAGE_HEIGHT = 300  # 767 originally\n",
        "IMAGE_WIDTH= 400    # 1022 originally"
      ],
      "metadata": {
        "colab": {
          "base_uri": "https://localhost:8080/"
        },
        "id": "ouihQEonRagU",
        "outputId": "187fde63-fac1-4aaf-91dd-cae381e93912"
      },
      "execution_count": null,
      "outputs": [
        {
          "output_type": "stream",
          "name": "stdout",
          "text": [
            "Device in use = cuda\n"
          ]
        }
      ]
    },
    {
      "cell_type": "markdown",
      "source": [
        "Seed everything"
      ],
      "metadata": {
        "id": "oxsSFgfgNl2D"
      }
    },
    {
      "cell_type": "code",
      "source": [
        "SEED = 0\n",
        "def seed_everything(seed):\n",
        "  torch.cuda.seed_all()\n",
        "  torch.manual_seed(seed)\n",
        "  np.random.seed(seed)\n",
        "  random.seed(seed)\n",
        "seed_everything(SEED)"
      ],
      "metadata": {
        "id": "HXB5baCSNldL"
      },
      "execution_count": null,
      "outputs": []
    },
    {
      "cell_type": "markdown",
      "source": [
        "# 1. Unzip Dataset"
      ],
      "metadata": {
        "id": "OkX8Rp8tEqoe"
      }
    },
    {
      "cell_type": "code",
      "source": [
        "# Dataset Path\n",
        "dataset_path = '/content/drive/MyDrive/ISIC-2017'\n",
        "\n",
        "# Zip Files (Not used - can be used to make sure zip file exists)\n",
        "train_zip = os.path.join(dataset_path, 'Train.zip')\n",
        "val_zip = os.path.join(dataset_path, 'Validation.zip')\n",
        "test_zip = os.path.join(dataset_path, 'Test.zip')\n",
        "\n",
        "# Directory to unzip files in\n",
        "train_dir = os.path.join(dataset_path, 'Train')\n",
        "val_dir = os.path.join(dataset_path, 'Validation')\n",
        "test_dir= os.path.join(dataset_path, 'Test')"
      ],
      "metadata": {
        "id": "gION92CMEwT5"
      },
      "execution_count": null,
      "outputs": []
    },
    {
      "cell_type": "code",
      "source": [
        "# Unzip Train.zip\n",
        "if not os.path.exists(train_dir):\n",
        "  if os.path.exists(train_zip): \n",
        "    with ZipFile(train_zip, 'r') as zipObj:\n",
        "      zipObj.extractall(train_dir)\n",
        "  else: print('Train.zip does not exist')\n",
        "else: print('Train.zip has already been extracted.')\n",
        "\n",
        "# Unzip Validation.zip\n",
        "if not os.path.exists(val_dir):\n",
        "  if os.path.exists(val_zip): \n",
        "    with ZipFile(test_zip, 'r') as zipObj:\n",
        "      zipObj.extractall(test_dir)\n",
        "  else: print('Validation.zip does not exist')\n",
        "else: print('Validation.zip has already been extracted.')\n",
        "\n",
        "# Unzip Test.zip\n",
        "if not os.path.exists(test_dir):\n",
        "  if os.path.exists(test_zip): \n",
        "    with ZipFile(test_zip, 'r') as zipObj:\n",
        "      zipObj.extractall(test_dir)\n",
        "  else: print('Test.zip does not exist')\n",
        "else: print('Test.zip has already been extracted.')"
      ],
      "metadata": {
        "colab": {
          "base_uri": "https://localhost:8080/"
        },
        "id": "o_TIwzd0Eth_",
        "outputId": "80c6b756-381d-4aba-9346-82e8b49064fb"
      },
      "execution_count": null,
      "outputs": [
        {
          "output_type": "stream",
          "name": "stdout",
          "text": [
            "Train.zip has already been extracted.\n",
            "Validation.zip has already been extracted.\n",
            "Test.zip has already been extracted.\n"
          ]
        }
      ]
    },
    {
      "cell_type": "markdown",
      "source": [
        "# 2. Dataset"
      ],
      "metadata": {
        "id": "mpCgzuLOW4SN"
      }
    },
    {
      "cell_type": "markdown",
      "source": [
        "Dataset Class"
      ],
      "metadata": {
        "id": "eJ5EAi_Tv98I"
      }
    },
    {
      "cell_type": "code",
      "execution_count": null,
      "metadata": {
        "id": "Hs4o1nx1oAgY"
      },
      "outputs": [],
      "source": [
        "class ISIC_Dataset(Dataset):\n",
        "\n",
        "  def __init__(self, directory, transform=None, small_sample=0):\n",
        "\n",
        "    self.directory = directory\n",
        "    self.transform = transform\n",
        "\n",
        "    data_path = directory + '/Data/*.jpg'\n",
        "    gt_path = directory + '/GroundTruth/*.png'\n",
        "\n",
        "    self.Data_paths = sorted(glob.glob(data_path), key=lambda x: int(os.path.splitext(x)[0].split('_')[1]))\n",
        "    self.GroundTruth_paths = sorted(glob.glob(gt_path), key=lambda x: int(os.path.splitext(x)[0].split('_')[1]))\n",
        "\n",
        "    # If small sample of the dataset is required (for hypertuning) (small_sample should be input as an int)\n",
        "    if small_sample:\n",
        "      self.Data_paths = self.Data_paths[0:small_sample]\n",
        "      self.GroundTruth_paths = self.GroundTruth_paths[0:small_sample]\n",
        "\n",
        "  def __len__(self):  \n",
        "    return len(self.Data_paths)\n",
        "\n",
        "  def __getitem__(self, index):\n",
        "    \n",
        "    # read image and corresponding mask\n",
        "    image = np.array(Image.open(self.Data_paths[index]).convert(\"RGB\"))\n",
        "    mask = np.array(Image.open(self.GroundTruth_paths[index]).convert(\"L\"), dtype=np.float32) #read mask in grayscale mode\n",
        "\n",
        "    # thresholding (convert the mask to 0, and 1 values before feeding it to the network)\n",
        "    mask[mask < 128] = 0\n",
        "    mask[mask >= 128] = 1\n",
        "    \n",
        "    # Transforms \n",
        "    if self.transform:\n",
        "      transformed = self.transform(image=image, mask=mask)\n",
        "      image = transformed[\"image\"]\n",
        "      mask = transformed[\"mask\"]\n",
        "\n",
        "    return [image, mask]"
      ]
    },
    {
      "cell_type": "markdown",
      "source": [
        "Visualize a sample"
      ],
      "metadata": {
        "id": "7p8PY_VxwAyL"
      }
    },
    {
      "cell_type": "code",
      "source": [
        "# helper function for data visualization\n",
        "def visualize(**images):\n",
        "    \"\"\"PLot images in one row.\"\"\"\n",
        "    n = len(images)\n",
        "    plt.figure(figsize=(16, 5))\n",
        "    for i, (name, image) in enumerate(images.items()):\n",
        "        plt.subplot(1, n, i + 1)\n",
        "        plt.xticks([])\n",
        "        plt.yticks([])\n",
        "        plt.title(' '.join(name.split('_')).title())\n",
        "        plt.imshow(image)\n",
        "    plt.show() \n",
        "\n",
        "# Test\n",
        "dataset = ISIC_Dataset(directory = train_dir)\n",
        "print(f'[INFO] Total Images in Train Set = {dataset.__len__()}')\n",
        "img, mask = dataset.__getitem__(0)\n",
        "\n",
        "visualize(\n",
        "    Image = img,\n",
        "    Mask = mask\n",
        ")\n",
        "\n",
        "print('Image shape: ',img.shape)\n",
        "print('Mask shape: ',mask.shape)\n",
        "\n",
        "print('Image unique values: ', np.unique(img))\n",
        "print('Mask unique values: ', np.unique(mask))"
      ],
      "metadata": {
        "colab": {
          "base_uri": "https://localhost:8080/"
        },
        "id": "MFIU9h7TpZUp",
        "outputId": "8da5be7c-8efc-47a8-f1d7-f4304a44869c"
      },
      "execution_count": null,
      "outputs": [
        {
          "output_type": "stream",
          "name": "stdout",
          "text": [
            "[INFO] Total Images in Train Set = 2000\n"
          ]
        },
        {
          "output_type": "display_data",
          "data": {
            "image/png": "[encoded data removed]",
            "text/plain": [
              "<Figure size 1152x360 with 2 Axes>"
            ]
          },
          "metadata": {}
        },
        {
          "output_type": "stream",
          "name": "stdout",
          "text": [
            "Image shape:  (767, 1022, 3)\n",
            "Mask shape:  (767, 1022)\n",
            "Image unique values:  [ 16  17  18  19  20  21  22  23  24  25  26  27  28  29  30  31  32  33\n",
            "  34  35  36  37  38  39  40  41  42  43  44  45  46  47  48  49  50  51\n",
            "  52  53  54  55  56  57  58  59  60  61  62  63  64  65  66  67  68  69\n",
            "  70  71  72  73  74  75  76  77  78  79  80  81  82  83  84  85  86  87\n",
            "  88  89  90  91  92  93  94  95  96  97  98  99 100 101 102 103 104 105\n",
            " 106 107 108 109 110 111 112 113 114 115 116 117 118 119 120 121 122 123\n",
            " 124 125 126 127 128 129 130 131 132 133 134 135 136 137 138 139 140 141\n",
            " 142 143 144 145 146 147 148 149 150 151 152 153 154 155 156 157 158 159\n",
            " 160 161 162 163 164 165 166 167 168 169 170 171 172 173 174 175 176 177\n",
            " 178 179 180 181 182 183 184 185 186 187 188 189 190 191 192 193 194 195\n",
            " 196 197 198 199 200 201 202 203 204 205 206 207 208 209 210 211 212 213\n",
            " 214 215 216 217 218 219 220 221 222 223 224 225 226 227 228 229 230 231\n",
            " 232 233 234 235 236 237 238 239 240 241 242 243 244 245 246 247 248 249\n",
            " 250 251 252 253 254 255]\n",
            "Mask unique values:  [0. 1.]\n"
          ]
        }
      ]
    },
    {
      "cell_type": "markdown",
      "source": [
        "# 3. Models"
      ],
      "metadata": {
        "id": "YoxgKUMLkfBs"
      }
    },
    {
      "cell_type": "markdown",
      "source": [
        "> ## 1. FCN\n",
        "\n",
        "For deconvolution: [Link](https://machinelearningmastery.com/upsampling-and-transpose-convolution-layers-for-generative-adversarial-networks/)\n",
        "\n",
        "![image.png](data:image/png;base64,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)"
      ],
      "metadata": {
        "id": "qoX-L7g73xNJ"
      }
    },
    {
      "cell_type": "code",
      "source": [
        "class FCN_VGG16(Module):\n",
        "  def __init__(self, num_classes=NUM_CLASSES, pretrained=False):\n",
        "    super(FCN_VGG16, self).__init__()\n",
        "\n",
        "    # VGG-16 Model\n",
        "    vgg16 = models.vgg16(pretrained=pretrained)\n",
        "\n",
        "\t\t# Extract VGG-16 Feature Layers\n",
        "    self.features = vgg16.features\n",
        "\n",
        "\t\t# Extract VGG-16 Average Pooling Layer\n",
        "    # self.pooling = vgg16.avgpool            (-> Don't need it)\n",
        "\n",
        "\t\t# Extract the 3 fully-connected layers and replace them with 1*1 conv\n",
        "    vgg16.classifier[0] = Conv2d(512, 4096, kernel_size=1, padding='same')\n",
        "    vgg16.classifier[3] = Conv2d(4096, 4096, kernel_size=1, padding='same')\n",
        "    vgg16.classifier[6] = Conv2d(4096, num_classes, kernel_size=1, padding='same')\n",
        "\n",
        "    # 1*1 Convolution Layers\n",
        "    self.conv_1_1 = vgg16.classifier\n",
        "\n",
        "    # Deconvolution Layer\n",
        "    self.upconv = ConvTranspose2d(num_classes, num_classes, kernel_size=48, stride=32) # upsampling by a factor of 32\n",
        "\n",
        "  def forward(self, x):\n",
        "\t\t# It will take the input 'x' until it returns the feature vector called 'out'\n",
        "    out = self.features(x)\n",
        "    out = self.conv_1_1(out) \n",
        "    out = self.upconv(out)\n",
        "\n",
        "    # reshape to input size \n",
        "    out = CenterCrop((IMAGE_HEIGHT,IMAGE_WIDTH))(out)\n",
        "\n",
        "    return out "
      ],
      "metadata": {
        "id": "bbC6CcGa28GN"
      },
      "execution_count": null,
      "outputs": []
    },
    {
      "cell_type": "code",
      "source": [
        "# Check Model\n",
        "fcn = FCN_VGG16()\n",
        "fcn.to(device=DEVICE)\n",
        "summary(fcn, (3,IMAGE_HEIGHT,IMAGE_WIDTH))"
      ],
      "metadata": {
        "colab": {
          "base_uri": "https://localhost:8080/"
        },
        "id": "wDO9y7SMP8TT",
        "outputId": "7a84ea7d-f39a-41bd-d26e-76936e16231a"
      },
      "execution_count": null,
      "outputs": [
        {
          "output_type": "stream",
          "name": "stdout",
          "text": [
            "----------------------------------------------------------------\n",
            "        Layer (type)               Output Shape         Param #\n",
            "================================================================\n",
            "            Conv2d-1         [-1, 64, 300, 400]           1,792\n",
            "              ReLU-2         [-1, 64, 300, 400]               0\n",
            "            Conv2d-3         [-1, 64, 300, 400]          36,928\n",
            "              ReLU-4         [-1, 64, 300, 400]               0\n",
            "         MaxPool2d-5         [-1, 64, 150, 200]               0\n",
            "            Conv2d-6        [-1, 128, 150, 200]          73,856\n",
            "              ReLU-7        [-1, 128, 150, 200]               0\n",
            "            Conv2d-8        [-1, 128, 150, 200]         147,584\n",
            "              ReLU-9        [-1, 128, 150, 200]               0\n",
            "        MaxPool2d-10         [-1, 128, 75, 100]               0\n",
            "           Conv2d-11         [-1, 256, 75, 100]         295,168\n",
            "             ReLU-12         [-1, 256, 75, 100]               0\n",
            "           Conv2d-13         [-1, 256, 75, 100]         590,080\n",
            "             ReLU-14         [-1, 256, 75, 100]               0\n",
            "           Conv2d-15         [-1, 256, 75, 100]         590,080\n",
            "             ReLU-16         [-1, 256, 75, 100]               0\n",
            "        MaxPool2d-17          [-1, 256, 37, 50]               0\n",
            "           Conv2d-18          [-1, 512, 37, 50]       1,180,160\n",
            "             ReLU-19          [-1, 512, 37, 50]               0\n",
            "           Conv2d-20          [-1, 512, 37, 50]       2,359,808\n",
            "             ReLU-21          [-1, 512, 37, 50]               0\n",
            "           Conv2d-22          [-1, 512, 37, 50]       2,359,808\n",
            "             ReLU-23          [-1, 512, 37, 50]               0\n",
            "        MaxPool2d-24          [-1, 512, 18, 25]               0\n",
            "           Conv2d-25          [-1, 512, 18, 25]       2,359,808\n",
            "             ReLU-26          [-1, 512, 18, 25]               0\n",
            "           Conv2d-27          [-1, 512, 18, 25]       2,359,808\n",
            "             ReLU-28          [-1, 512, 18, 25]               0\n",
            "           Conv2d-29          [-1, 512, 18, 25]       2,359,808\n",
            "             ReLU-30          [-1, 512, 18, 25]               0\n",
            "        MaxPool2d-31           [-1, 512, 9, 12]               0\n",
            "           Conv2d-32          [-1, 4096, 9, 12]       2,101,248\n",
            "             ReLU-33          [-1, 4096, 9, 12]               0\n",
            "          Dropout-34          [-1, 4096, 9, 12]               0\n",
            "           Conv2d-35          [-1, 4096, 9, 12]      16,781,312\n",
            "             ReLU-36          [-1, 4096, 9, 12]               0\n",
            "          Dropout-37          [-1, 4096, 9, 12]               0\n",
            "           Conv2d-38             [-1, 1, 9, 12]           4,097\n",
            "  ConvTranspose2d-39          [-1, 1, 304, 400]           2,305\n",
            "================================================================\n",
            "Total params: 33,603,650\n",
            "Trainable params: 33,603,650\n",
            "Non-trainable params: 0\n",
            "----------------------------------------------------------------\n",
            "Input size (MB): 1.37\n",
            "Forward/backward pass size (MB): 542.30\n",
            "Params size (MB): 128.19\n",
            "Estimated Total Size (MB): 671.86\n",
            "----------------------------------------------------------------\n"
          ]
        }
      ]
    },
    {
      "cell_type": "markdown",
      "source": [
        "> ## 2. UNet\n",
        "![image.png](data:image/png;base64,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)"
      ],
      "metadata": {
        "id": "RRedvIwT35q3"
      }
    },
    {
      "cell_type": "markdown",
      "source": [
        "> ### 1. ORIGINAL"
      ],
      "metadata": {
        "id": "B3C-V9RScA1T"
      }
    },
    {
      "cell_type": "markdown",
      "source": [
        "1. Block:\n",
        "\n",
        "> Conv -> ReLU -> Conv -> ReLU"
      ],
      "metadata": {
        "id": "d7dByhvo8YUE"
      }
    },
    {
      "cell_type": "code",
      "source": [
        "'''\n",
        "ORIGINAL\n",
        "'''\n",
        "class Block(Module):\n",
        "  # store the convolution and RELU layers\n",
        "\t# inchannels: number of input channels (= filter depth), \n",
        "  # outChannels: number of output channels (= number of filters)\n",
        "\tdef __init__(self, inChannels, outChannels):\n",
        "\t\tsuper(Block, self).__init__()\n",
        "\t\tself.block = Sequential(\n",
        "\t\t\t\tConv2d(inChannels, outChannels, kernel_size=3, padding='same'), \t# padding: default -> valid (unpadded convolution)\n",
        "\t\t\t\tReLU(inplace=True),\n",
        "\t\t \t\tConv2d(outChannels, outChannels, kernel_size=3, padding='same'),\n",
        "\t\t\t\tReLU(inplace=True)\n",
        "\t\t)\n",
        "\t\t\t\t\t\t\t\t\t\t\t\t\t\t\t\t\t\t\t\t\t\t\t\t\t\t\t\t\t\t\n",
        "  # apply CONV => RELU => CONV => RELU block to the inputs and return it\n",
        "\tdef forward(self, x):\n",
        "\t\treturn self.block(x)"
      ],
      "metadata": {
        "id": "3HgJTrug35q3"
      },
      "execution_count": null,
      "outputs": []
    },
    {
      "cell_type": "markdown",
      "source": [
        "2. Encoder"
      ],
      "metadata": {
        "id": "cOxpRQiIAuEn"
      }
    },
    {
      "cell_type": "code",
      "source": [
        "class Encoder(Module):\n",
        "\n",
        "\t# store the encoder blocks and maxpooling layer\n",
        "\tdef __init__(self, in_channels=3, num_feature_maps=[64,128,256,512]): \n",
        "\t\tsuper(Encoder, self).__init__()\n",
        "\t\n",
        "\t\t# Create encoder blocks\n",
        "\t\tself.encBlocks = ModuleList()\n",
        "\t\tfor feature in num_feature_maps:\n",
        "\t\t\tself.encBlocks.append(Block(in_channels, feature))\n",
        "\t\t\tin_channels = feature\n",
        "\n",
        "\t\t# Create MaxPool Layer\t\n",
        "\t\tself.pool = MaxPool2d(kernel_size=2, stride=2)\n",
        "\t\n",
        "\t\t# Create bottleneck layer\n",
        "\t\tself.bottleneck = Block(num_feature_maps[-1], num_feature_maps[-1]*2)\n",
        "\n",
        "\tdef forward(self, x):\n",
        "   \n",
        "\t\t# initialize an empty list to store the intermediate outputs\n",
        "\t\tskip_connections = []\n",
        "\n",
        "\t\t# loop through the encoder blocks\n",
        "\t\tfor block in self.encBlocks:\n",
        "\t\t\tx = block(x) \t            \t\t# 1. pass the inputs through the current encoder block,\n",
        "\t\t\tskip_connections.append(x)    # 2. store the outputs\n",
        "\t\t\tx = self.pool(x)          \t\t# 3. apply maxpooling on the output\n",
        "\t\t\n",
        "\t\t# pass through bottleneck\n",
        "\t\tskip_connections.append(self.bottleneck(x))\n",
        "\n",
        "\t\t# return final output of the encoder AND the list containing the intermediate outputs (reversed)\n",
        "\t\treturn skip_connections"
      ],
      "metadata": {
        "id": "a9BnNL5vAtLB"
      },
      "execution_count": null,
      "outputs": []
    },
    {
      "cell_type": "markdown",
      "source": [
        "3. Decoder"
      ],
      "metadata": {
        "id": "qheWEIqvAxxZ"
      }
    },
    {
      "cell_type": "code",
      "source": [
        "class Decoder(Module):\n",
        "  \n",
        "\t# initialize the number of channels, upsampler blocks and decoder blocks\n",
        "\tdef __init__(self, num_feature_maps=[64,128,256,512]):\n",
        "\t\tsuper(Decoder, self).__init__()\n",
        "\t\n",
        "\t\t# Up part of UNET\n",
        "\t\tself.upconvs = ModuleList()\n",
        "\t\tself.dec_blocks = ModuleList()\n",
        "\t\tfor feature in reversed(num_feature_maps):\n",
        "\t\t\t# 1. Upsampling using upconvolution\n",
        "\t\t\tself.upconvs.append(\n",
        "\t\t\t\t\tConvTranspose2d(feature*2, feature, kernel_size=2, stride=2)\n",
        "\t\t\t)\n",
        "\t \t\t# 2. Double 3x3 CONV (each followed by a ReLU)\n",
        "\t\t\tself.dec_blocks.append(Block(feature*2, feature))\n",
        "  \n",
        "\tdef forward(self, x, encFeatures):\n",
        "   \n",
        "\t\t# loop through the number of channels\n",
        "\t\tfor i in range(len(self.upconvs)):\n",
        "\t\t\t\n",
        "\t\t\tx = self.upconvs[i](x)                        # 1. pass the inputs through the upsampler blocks\n",
        "\t\t\tencFeat = encFeatures[i] \n",
        "\t\t\t\n",
        "\t\t\tif(x.shape!=encFeatures[i].shape):\t\t\t\t\t\t# 2. crop the current features from the encoder blocks (if sizes don't match in case of unpadded convolutions)\n",
        "\t\t\t\tencFeat = self.crop(encFeatures[i], x)      \n",
        "\t\t \t\n",
        "\t\t\tx = torch.cat([encFeat, x], dim=1)            # 3. concatenate them with the current upsampled features\n",
        "\t\t\tx = self.dec_blocks[i](x)                     # 4. pass the concatenated output through the current decoder block\n",
        "   \n",
        "\t\t# return the final decoder output\n",
        "\t\treturn x\n",
        "\n",
        "\tdef crop(self, encFeatures, x):\n",
        "\t\n",
        "\t\t(_, _, H, W) = x.shape                                 \t# grab the dimensions of the inputs\n",
        "\t\tencFeatures = CenterCrop([H, W])(encFeatures)           # crop the encoder features to match the dimensions\n",
        "\t\n",
        "  \t# return the cropped features\n",
        "\t\treturn encFeatures"
      ],
      "metadata": {
        "id": "q-D_QW4ZAxxa"
      },
      "execution_count": null,
      "outputs": []
    },
    {
      "cell_type": "markdown",
      "source": [
        "4. UNet Model"
      ],
      "metadata": {
        "id": "M5rBwKtpKcWN"
      }
    },
    {
      "cell_type": "code",
      "source": [
        "class UNet(Module):\n",
        "  \n",
        "  def __init__(self, in_channels=3, num_classes=1, \n",
        "               num_feature_maps=[64,128,256,512], \n",
        "               retainDim=True,outSize=(IMAGE_HEIGHT,IMAGE_WIDTH)):\n",
        "    \n",
        "    super(UNet, self).__init__()\n",
        "  \n",
        "\t\t# 1. initialize the encoder and decoder\n",
        "    self.encoder = Encoder(in_channels, num_feature_maps)\n",
        "    self.decoder = Decoder(num_feature_maps)\n",
        "  \n",
        "\t\t# 2. initialize the final 1*1 CONV and store the class variables\n",
        "    self.conv_1_1 = Conv2d(num_feature_maps[0], num_classes,  kernel_size=1)\n",
        "    self.retainDim = retainDim\n",
        "    self.outSize = outSize    \n",
        "    \n",
        "  def forward(self, x):\n",
        "\t\t# 1. grab the features from the encoder\n",
        "    encFeatures = self.encoder(x)\n",
        "    encOutput = encFeatures[::-1][0]\n",
        "    encFeatures = encFeatures[::-1][1:]\n",
        "    \n",
        "\t\t# 2. pass the encoder features through decoder making sure that\n",
        "\t\t# their dimensions are suited for concatenation\n",
        "    decFeatures = self.decoder(encOutput,encFeatures)\n",
        "  \n",
        "\t\t# 3. pass the decoder features through the regression head to\n",
        "\t\t# obtain the segmentation mask\n",
        "    map = self.conv_1_1(decFeatures)    # Do we need a sigmoid function??\n",
        "  \n",
        "\t\t# 4. check to see if we are retaining the original output\n",
        "\t\t# dimensions and if so, then resize the output to match them \n",
        "    # CHECK IF THERE'S ANOTHER WAY TO DO THIS (OR if we can use padded convolutions) \n",
        "    if self.retainDim:\n",
        "        map = F.interpolate(map, self.outSize)   \n",
        "   \n",
        "\t\t# return the segmentation map\n",
        "    return map"
      ],
      "metadata": {
        "id": "yeMpyHJ0LAZW"
      },
      "execution_count": null,
      "outputs": []
    },
    {
      "cell_type": "code",
      "source": [
        "# Check Model\n",
        "unet = UNet().to(DEVICE)\n",
        "summary(unet, (3,IMAGE_HEIGHT,IMAGE_WIDTH))"
      ],
      "metadata": {
        "colab": {
          "base_uri": "https://localhost:8080/"
        },
        "id": "n44xFUmdPHlf",
        "outputId": "33e12611-f484-421d-c421-49a229ce7d60"
      },
      "execution_count": null,
      "outputs": [
        {
          "output_type": "stream",
          "name": "stdout",
          "text": [
            "----------------------------------------------------------------\n",
            "        Layer (type)               Output Shape         Param #\n",
            "================================================================\n",
            "            Conv2d-1         [-1, 64, 300, 400]           1,792\n",
            "              ReLU-2         [-1, 64, 300, 400]               0\n",
            "            Conv2d-3         [-1, 64, 300, 400]          36,928\n",
            "              ReLU-4         [-1, 64, 300, 400]               0\n",
            "             Block-5         [-1, 64, 300, 400]               0\n",
            "         MaxPool2d-6         [-1, 64, 150, 200]               0\n",
            "            Conv2d-7        [-1, 128, 150, 200]          73,856\n",
            "              ReLU-8        [-1, 128, 150, 200]               0\n",
            "            Conv2d-9        [-1, 128, 150, 200]         147,584\n",
            "             ReLU-10        [-1, 128, 150, 200]               0\n",
            "            Block-11        [-1, 128, 150, 200]               0\n",
            "        MaxPool2d-12         [-1, 128, 75, 100]               0\n",
            "           Conv2d-13         [-1, 256, 75, 100]         295,168\n",
            "             ReLU-14         [-1, 256, 75, 100]               0\n",
            "           Conv2d-15         [-1, 256, 75, 100]         590,080\n",
            "             ReLU-16         [-1, 256, 75, 100]               0\n",
            "            Block-17         [-1, 256, 75, 100]               0\n",
            "        MaxPool2d-18          [-1, 256, 37, 50]               0\n",
            "           Conv2d-19          [-1, 512, 37, 50]       1,180,160\n",
            "             ReLU-20          [-1, 512, 37, 50]               0\n",
            "           Conv2d-21          [-1, 512, 37, 50]       2,359,808\n",
            "             ReLU-22          [-1, 512, 37, 50]               0\n",
            "            Block-23          [-1, 512, 37, 50]               0\n",
            "        MaxPool2d-24          [-1, 512, 18, 25]               0\n",
            "           Conv2d-25         [-1, 1024, 18, 25]       4,719,616\n",
            "             ReLU-26         [-1, 1024, 18, 25]               0\n",
            "           Conv2d-27         [-1, 1024, 18, 25]       9,438,208\n",
            "             ReLU-28         [-1, 1024, 18, 25]               0\n",
            "            Block-29         [-1, 1024, 18, 25]               0\n",
            "          Encoder-30  [[-1, 64, 300, 400], [-1, 128, 150, 200], [-1, 256, 75, 100], [-1, 512, 37, 50], [-1, 1024, 18, 25]]               0\n",
            "  ConvTranspose2d-31          [-1, 512, 36, 50]       2,097,664\n",
            "           Conv2d-32          [-1, 512, 36, 50]       4,719,104\n",
            "             ReLU-33          [-1, 512, 36, 50]               0\n",
            "           Conv2d-34          [-1, 512, 36, 50]       2,359,808\n",
            "             ReLU-35          [-1, 512, 36, 50]               0\n",
            "            Block-36          [-1, 512, 36, 50]               0\n",
            "  ConvTranspose2d-37         [-1, 256, 72, 100]         524,544\n",
            "           Conv2d-38         [-1, 256, 72, 100]       1,179,904\n",
            "             ReLU-39         [-1, 256, 72, 100]               0\n",
            "           Conv2d-40         [-1, 256, 72, 100]         590,080\n",
            "             ReLU-41         [-1, 256, 72, 100]               0\n",
            "            Block-42         [-1, 256, 72, 100]               0\n",
            "  ConvTranspose2d-43        [-1, 128, 144, 200]         131,200\n",
            "           Conv2d-44        [-1, 128, 144, 200]         295,040\n",
            "             ReLU-45        [-1, 128, 144, 200]               0\n",
            "           Conv2d-46        [-1, 128, 144, 200]         147,584\n",
            "             ReLU-47        [-1, 128, 144, 200]               0\n",
            "            Block-48        [-1, 128, 144, 200]               0\n",
            "  ConvTranspose2d-49         [-1, 64, 288, 400]          32,832\n",
            "           Conv2d-50         [-1, 64, 288, 400]          73,792\n",
            "             ReLU-51         [-1, 64, 288, 400]               0\n",
            "           Conv2d-52         [-1, 64, 288, 400]          36,928\n",
            "             ReLU-53         [-1, 64, 288, 400]               0\n",
            "            Block-54         [-1, 64, 288, 400]               0\n",
            "          Decoder-55         [-1, 64, 288, 400]               0\n",
            "           Conv2d-56          [-1, 1, 288, 400]              65\n",
            "================================================================\n",
            "Total params: 31,031,745\n",
            "Trainable params: 31,031,745\n",
            "Non-trainable params: 0\n",
            "----------------------------------------------------------------\n",
            "Input size (MB): 1.37\n",
            "Forward/backward pass size (MB): 22127671507708.31\n",
            "Params size (MB): 118.38\n",
            "Estimated Total Size (MB): 22127671507828.06\n",
            "----------------------------------------------------------------\n"
          ]
        }
      ]
    },
    {
      "cell_type": "markdown",
      "source": [
        "> ### 2. WITH BATCH NORMALIZATION"
      ],
      "metadata": {
        "id": "mrxXrKONa1VS"
      }
    },
    {
      "cell_type": "code",
      "source": [
        "'''\n",
        "WITH BATCH NORMALIZATION\n",
        "'''\n",
        "class Block_BN(Module):\n",
        "  # store the convolution and RELU layers\n",
        "\t# inchannels: number of input channels (= filter depth), \n",
        "  # outChannels: number of output channels (= number of filters)\n",
        "\tdef __init__(self, inChannels, outChannels):\n",
        "\t\tsuper(Block_BN, self).__init__()\n",
        "\t\tself.block = Sequential(\n",
        "\t\t\t\tConv2d(inChannels, outChannels, kernel_size=3, padding='same'), \t# padding: default -> valid (unpadded convolution)\n",
        "\t\t\t\tBatchNorm2d(outChannels),\n",
        "\t\t\t\tReLU(inplace=True),\n",
        "\t\t \t\tConv2d(outChannels, outChannels, kernel_size=3, padding='same'),\n",
        "\t\t\t\tBatchNorm2d(outChannels),\n",
        "\t\t\t\tReLU(inplace=True),\t\n",
        "\t\t)\n",
        "\t\t\t\t\t\t\t\t\t\t\t\t\t\t\t\t\t\t\t\t\t\t\t\t\t\t\t\t\t\t\n",
        "  # apply CONV => RELU => CONV => RELU block to the inputs and return it\n",
        "\tdef forward(self, x):\n",
        "\t\treturn self.block(x)"
      ],
      "metadata": {
        "id": "--dHU2Uya7p1"
      },
      "execution_count": null,
      "outputs": []
    },
    {
      "cell_type": "code",
      "source": [
        "class Encoder_BN(Module):\n",
        "\n",
        "\t# store the encoder blocks and maxpooling layer\n",
        "\tdef __init__(self, in_channels=3, num_feature_maps=[64,128,256,512]): \n",
        "\t\tsuper(Encoder_BN, self).__init__()\n",
        "\t\n",
        "\t\t# Create encoder blocks\n",
        "\t\tself.encBlocks = ModuleList()\n",
        "\t\tfor feature in num_feature_maps:\n",
        "\t\t\tself.encBlocks.append(Block_BN(in_channels, feature))\n",
        "\t\t\tin_channels = feature\n",
        "\n",
        "\t\t# Create MaxPool Layer\t\n",
        "\t\tself.pool = MaxPool2d(kernel_size=2, stride=2)\n",
        "\t\n",
        "\t\t# Create bottleneck layer\n",
        "\t\tself.bottleneck = Block_BN(num_feature_maps[-1], num_feature_maps[-1]*2)\n",
        "\n",
        "\tdef forward(self, x):\n",
        "   \n",
        "\t\t# initialize an empty list to store the intermediate outputs\n",
        "\t\tskip_connections = []\n",
        "\n",
        "\t\t# loop through the encoder blocks\n",
        "\t\tfor block in self.encBlocks:\n",
        "\t\t\tx = block(x) \t            \t\t# 1. pass the inputs through the current encoder block,\n",
        "\t\t\tskip_connections.append(x)    # 2. store the outputs\n",
        "\t\t\tx = self.pool(x)          \t\t# 3. apply maxpooling on the output\n",
        "\t\t\n",
        "\t\t# pass through bottleneck\n",
        "\t\tskip_connections.append(self.bottleneck(x))\n",
        "\n",
        "\t\t# return final output of the encoder AND the list containing the intermediate outputs (reversed)\n",
        "\t\treturn skip_connections"
      ],
      "metadata": {
        "id": "ItwptrDhbFAw"
      },
      "execution_count": null,
      "outputs": []
    },
    {
      "cell_type": "markdown",
      "source": [
        "3. Decoder"
      ],
      "metadata": {
        "id": "ykEQ5lCWbKKg"
      }
    },
    {
      "cell_type": "code",
      "source": [
        "class Decoder_BN(Module):\n",
        "  \n",
        "\t# initialize the number of channels, upsampler blocks and decoder blocks\n",
        "\tdef __init__(self, num_feature_maps=[64,128,256,512]):\n",
        "\t\tsuper(Decoder_BN, self).__init__()\n",
        "\t\n",
        "\t\t# Up part of UNET\n",
        "\t\tself.upconvs = ModuleList()\n",
        "\t\tself.dec_blocks = ModuleList()\n",
        "\t\tfor feature in reversed(num_feature_maps):\n",
        "\t\t\t# 1. Upsampling using upconvolution\n",
        "\t\t\tself.upconvs.append(\n",
        "\t\t\t\t\tConvTranspose2d(feature*2, feature, kernel_size=2, stride=2)\n",
        "\t\t\t)\n",
        "\t \t\t# 2. Double 3x3 CONV (each followed by a ReLU)\n",
        "\t\t\tself.dec_blocks.append(Block_BN(feature*2, feature))\n",
        "  \n",
        "\tdef forward(self, x, encFeatures):\n",
        "   \n",
        "\t\t# loop through the number of channels\n",
        "\t\tfor i in range(len(self.upconvs)):\n",
        "\t\t\t\n",
        "\t\t\tx = self.upconvs[i](x)                        # 1. pass the inputs through the upsampler blocks\n",
        "\t\t\tencFeat = encFeatures[i] \n",
        "\t\t\tif(x.shape!=encFeatures[i].shape):\t\t\t\t\t\t# 2. crop the current features from the encoder blocks (if sizes don't match in case of unpadded convolutions)\n",
        "\t\t\t\tencFeat = self.crop(encFeatures[i], x)       \t\n",
        "\t\t\tx = torch.cat([encFeat, x], dim=1)            # 3. concatenate them with the current upsampled features\n",
        "\t\t\tx = self.dec_blocks[i](x)                     # 4. pass the concatenated output through the current decoder block\n",
        "   \n",
        "\t\t# return the final decoder output\n",
        "\t\treturn x\n",
        "\n",
        "\tdef crop(self, encFeatures, x):\n",
        "\t\n",
        "\t\t(_, _, H, W) = x.shape                                 \t# grab the dimensions of the inputs\n",
        "\t\tencFeatures = CenterCrop([H, W])(encFeatures)           # crop the encoder features to match the dimensions\n",
        "\t\n",
        "  \t# return the cropped features\n",
        "\t\treturn encFeatures"
      ],
      "metadata": {
        "id": "ro3AjKzwbKKh"
      },
      "execution_count": null,
      "outputs": []
    },
    {
      "cell_type": "markdown",
      "source": [
        "4. UNet Model"
      ],
      "metadata": {
        "id": "EX95jWrcbKKi"
      }
    },
    {
      "cell_type": "code",
      "source": [
        "class UNet_BN(Module):\n",
        "  \n",
        "  def __init__(self, in_channels=3, num_classes=1, \n",
        "               num_feature_maps=[64,128,256,512], \n",
        "               retainDim=True,outSize=(IMAGE_HEIGHT,IMAGE_WIDTH)):\n",
        "    \n",
        "    super(UNet_BN, self).__init__()\n",
        "  \n",
        "\t\t# 1. initialize the encoder and decoder\n",
        "    self.encoder = Encoder_BN(in_channels, num_feature_maps)\n",
        "    self.decoder = Decoder_BN(num_feature_maps)\n",
        "  \n",
        "\t\t# 2. initialize the final 1*1 CONV and store the class variables\n",
        "    self.conv_1_1 = Conv2d(num_feature_maps[0], num_classes,  kernel_size=1)\n",
        "    self.retainDim = retainDim\n",
        "    self.outSize = outSize    \n",
        "    \n",
        "  def forward(self, x):\n",
        "\t\t# 1. grab the features from the encoder\n",
        "    encFeatures = self.encoder(x)\n",
        "    encOutput = encFeatures[::-1][0]\n",
        "    encFeatures = encFeatures[::-1][1:]\n",
        "    \n",
        "\t\t# 2. pass the encoder features through decoder making sure that\n",
        "\t\t# their dimensions are suited for concatenation\n",
        "    decFeatures = self.decoder(encOutput,encFeatures)\n",
        "  \n",
        "\t\t# 3. pass the decoder features through the regression head to\n",
        "\t\t# obtain the segmentation mask\n",
        "    map = self.conv_1_1(decFeatures)    # Do we need a sigmoid function??\n",
        "  \n",
        "\t\t# 4. check to see if we are retaining the original output\n",
        "\t\t# dimensions and if so, then resize the output to match them \n",
        "    # CHECK IF THERE'S ANOTHER WAY TO DO THIS (OR if we can use padded convolutions) \n",
        "    if self.retainDim:\n",
        "        map = F.interpolate(map, self.outSize)   \n",
        "   \n",
        "\t\t# return the segmentation map\n",
        "    return map"
      ],
      "metadata": {
        "id": "KkRcoM3ObKKj"
      },
      "execution_count": null,
      "outputs": []
    },
    {
      "cell_type": "code",
      "source": [
        "# Check Model\n",
        "unet = UNet_BN().to(DEVICE)\n",
        "summary(unet, (3,IMAGE_HEIGHT,IMAGE_WIDTH))"
      ],
      "metadata": {
        "colab": {
          "base_uri": "https://localhost:8080/"
        },
        "outputId": "238f97c8-44df-4de3-e518-cb97accefb26",
        "id": "JFdrcVJrbKKk"
      },
      "execution_count": null,
      "outputs": [
        {
          "output_type": "stream",
          "name": "stdout",
          "text": [
            "----------------------------------------------------------------\n",
            "        Layer (type)               Output Shape         Param #\n",
            "================================================================\n",
            "            Conv2d-1         [-1, 64, 300, 400]           1,792\n",
            "       BatchNorm2d-2         [-1, 64, 300, 400]             128\n",
            "              ReLU-3         [-1, 64, 300, 400]               0\n",
            "            Conv2d-4         [-1, 64, 300, 400]          36,928\n",
            "       BatchNorm2d-5         [-1, 64, 300, 400]             128\n",
            "              ReLU-6         [-1, 64, 300, 400]               0\n",
            "          Block_BN-7         [-1, 64, 300, 400]               0\n",
            "         MaxPool2d-8         [-1, 64, 150, 200]               0\n",
            "            Conv2d-9        [-1, 128, 150, 200]          73,856\n",
            "      BatchNorm2d-10        [-1, 128, 150, 200]             256\n",
            "             ReLU-11        [-1, 128, 150, 200]               0\n",
            "           Conv2d-12        [-1, 128, 150, 200]         147,584\n",
            "      BatchNorm2d-13        [-1, 128, 150, 200]             256\n",
            "             ReLU-14        [-1, 128, 150, 200]               0\n",
            "         Block_BN-15        [-1, 128, 150, 200]               0\n",
            "        MaxPool2d-16         [-1, 128, 75, 100]               0\n",
            "           Conv2d-17         [-1, 256, 75, 100]         295,168\n",
            "      BatchNorm2d-18         [-1, 256, 75, 100]             512\n",
            "             ReLU-19         [-1, 256, 75, 100]               0\n",
            "           Conv2d-20         [-1, 256, 75, 100]         590,080\n",
            "      BatchNorm2d-21         [-1, 256, 75, 100]             512\n",
            "             ReLU-22         [-1, 256, 75, 100]               0\n",
            "         Block_BN-23         [-1, 256, 75, 100]               0\n",
            "        MaxPool2d-24          [-1, 256, 37, 50]               0\n",
            "           Conv2d-25          [-1, 512, 37, 50]       1,180,160\n",
            "      BatchNorm2d-26          [-1, 512, 37, 50]           1,024\n",
            "             ReLU-27          [-1, 512, 37, 50]               0\n",
            "           Conv2d-28          [-1, 512, 37, 50]       2,359,808\n",
            "      BatchNorm2d-29          [-1, 512, 37, 50]           1,024\n",
            "             ReLU-30          [-1, 512, 37, 50]               0\n",
            "         Block_BN-31          [-1, 512, 37, 50]               0\n",
            "        MaxPool2d-32          [-1, 512, 18, 25]               0\n",
            "           Conv2d-33         [-1, 1024, 18, 25]       4,719,616\n",
            "      BatchNorm2d-34         [-1, 1024, 18, 25]           2,048\n",
            "             ReLU-35         [-1, 1024, 18, 25]               0\n",
            "           Conv2d-36         [-1, 1024, 18, 25]       9,438,208\n",
            "      BatchNorm2d-37         [-1, 1024, 18, 25]           2,048\n",
            "             ReLU-38         [-1, 1024, 18, 25]               0\n",
            "         Block_BN-39         [-1, 1024, 18, 25]               0\n",
            "       Encoder_BN-40  [[-1, 64, 300, 400], [-1, 128, 150, 200], [-1, 256, 75, 100], [-1, 512, 37, 50], [-1, 1024, 18, 25]]               0\n",
            "  ConvTranspose2d-41          [-1, 512, 36, 50]       2,097,664\n",
            "           Conv2d-42          [-1, 512, 36, 50]       4,719,104\n",
            "      BatchNorm2d-43          [-1, 512, 36, 50]           1,024\n",
            "             ReLU-44          [-1, 512, 36, 50]               0\n",
            "           Conv2d-45          [-1, 512, 36, 50]       2,359,808\n",
            "      BatchNorm2d-46          [-1, 512, 36, 50]           1,024\n",
            "             ReLU-47          [-1, 512, 36, 50]               0\n",
            "         Block_BN-48          [-1, 512, 36, 50]               0\n",
            "  ConvTranspose2d-49         [-1, 256, 72, 100]         524,544\n",
            "           Conv2d-50         [-1, 256, 72, 100]       1,179,904\n",
            "      BatchNorm2d-51         [-1, 256, 72, 100]             512\n",
            "             ReLU-52         [-1, 256, 72, 100]               0\n",
            "           Conv2d-53         [-1, 256, 72, 100]         590,080\n",
            "      BatchNorm2d-54         [-1, 256, 72, 100]             512\n",
            "             ReLU-55         [-1, 256, 72, 100]               0\n",
            "         Block_BN-56         [-1, 256, 72, 100]               0\n",
            "  ConvTranspose2d-57        [-1, 128, 144, 200]         131,200\n",
            "           Conv2d-58        [-1, 128, 144, 200]         295,040\n",
            "      BatchNorm2d-59        [-1, 128, 144, 200]             256\n",
            "             ReLU-60        [-1, 128, 144, 200]               0\n",
            "           Conv2d-61        [-1, 128, 144, 200]         147,584\n",
            "      BatchNorm2d-62        [-1, 128, 144, 200]             256\n",
            "             ReLU-63        [-1, 128, 144, 200]               0\n",
            "         Block_BN-64        [-1, 128, 144, 200]               0\n",
            "  ConvTranspose2d-65         [-1, 64, 288, 400]          32,832\n",
            "           Conv2d-66         [-1, 64, 288, 400]          73,792\n",
            "      BatchNorm2d-67         [-1, 64, 288, 400]             128\n",
            "             ReLU-68         [-1, 64, 288, 400]               0\n",
            "           Conv2d-69         [-1, 64, 288, 400]          36,928\n",
            "      BatchNorm2d-70         [-1, 64, 288, 400]             128\n",
            "             ReLU-71         [-1, 64, 288, 400]               0\n",
            "         Block_BN-72         [-1, 64, 288, 400]               0\n",
            "       Decoder_BN-73         [-1, 64, 288, 400]               0\n",
            "           Conv2d-74          [-1, 1, 288, 400]              65\n",
            "================================================================\n",
            "Total params: 31,043,521\n",
            "Trainable params: 31,043,521\n",
            "Non-trainable params: 0\n",
            "----------------------------------------------------------------\n",
            "Input size (MB): 1.37\n",
            "Forward/backward pass size (MB): 22127671507270.81\n",
            "Params size (MB): 118.42\n",
            "Estimated Total Size (MB): 22127671507390.61\n",
            "----------------------------------------------------------------\n"
          ]
        }
      ]
    },
    {
      "cell_type": "markdown",
      "source": [
        "# 4. Utility Functions"
      ],
      "metadata": {
        "id": "LNi2qM8rWu-C"
      }
    },
    {
      "cell_type": "markdown",
      "source": [
        "> ### Checkpoints "
      ],
      "metadata": {
        "id": "kFOaX4bDWo38"
      }
    },
    {
      "cell_type": "code",
      "source": [
        "# 1. Save Checkpoint Function\n",
        "def save_checkpoint(model, optimizer, scaler,\n",
        "                    epoch, val_loss, val_IoU, \n",
        "                    history, checkpoint_path):\n",
        "\n",
        "    # Create Checkpoint\n",
        "    checkpoint = {\n",
        "        'model_state': model.state_dict(),\n",
        "        'optimizer_state' : optimizer.state_dict(),\n",
        "        'scaler_state': scaler.state_dict(),\n",
        "        'epoch': epoch,\n",
        "        'val_loss': val_loss,\n",
        "        'val_IoU': val_IoU,\n",
        "        'history': history\n",
        "        }\n",
        "\n",
        "    # Save Checkpoint\n",
        "    torch.save(checkpoint, checkpoint_path)\n",
        "\n",
        "# 2. Load Checkpoint Function\n",
        "def load_checkpoint(model, checkpoint_model_path):\n",
        "\n",
        "    scaler = torch.cuda.amp.GradScaler()\n",
        "    optimizer = optim.Adam(model.parameters())\n",
        "\n",
        "    # Check if checkpoint file exists\n",
        "    if os.path.isfile(checkpoint_model_path):\n",
        "        checkpoint = torch.load(checkpoint_model_path)\n",
        "        model.load_state_dict(checkpoint['model_state'])\n",
        "        optimizer.load_state_dict(checkpoint['optimizer_state'])\n",
        "        scaler.load_state_dict(checkpoint['scaler_state'])\n",
        "\n",
        "        states = {}\n",
        "        for item in checkpoint.keys():\n",
        "            if item not in ['model_state', 'optimizer_state', 'scaler_state']:\n",
        "                states[item] = checkpoint[item]\n",
        "          \n",
        "        model = model.to(DEVICE)\n",
        "\n",
        "        print(\"=> loaded checkpoint '{}'\".format(checkpoint_model_path))\n",
        "\n",
        "    else: \n",
        "        print(\"=> no checkpoint found at '{}'\".format(checkpoint_model_path))\n",
        "        return\n",
        "\n",
        "    return model, optimizer, scaler, states"
      ],
      "metadata": {
        "id": "yF86ED7i8FhI"
      },
      "execution_count": null,
      "outputs": []
    },
    {
      "cell_type": "markdown",
      "source": [
        "> ### Saving Predictions"
      ],
      "metadata": {
        "id": "MWttzsCSWyGa"
      }
    },
    {
      "cell_type": "code",
      "source": [
        "def save_predictions_as_imgs(loader, model, folder):\n",
        "\n",
        "    # Create Folder (if it doesn't exist)\n",
        "    if not os.path.exists(folder):\n",
        "      os.mkdir(folder)\n",
        "\n",
        "    model.eval()\n",
        "    \n",
        "    for idx, (x, y) in enumerate(loader):\n",
        "        x = x.to(device=DEVICE)\n",
        "        with torch.no_grad():\n",
        "            preds = torch.sigmoid(model(x))\n",
        "            preds = (preds > 0.5).float() # if pred>0.5 -> 1 else 0\n",
        "\n",
        "        torchvision.utils.save_image(preds, f\"{folder}/pred_{idx}.png\")    # Predicted Mask\n",
        "        torchvision.utils.save_image(y.unsqueeze(1), f\"{folder}/gt_{idx}.png\") # True Mask\n",
        "\n",
        "    model.train()"
      ],
      "metadata": {
        "id": "Ituy_O6JfxSM"
      },
      "execution_count": null,
      "outputs": []
    },
    {
      "cell_type": "markdown",
      "source": [
        "> ### IoU "
      ],
      "metadata": {
        "id": "amNb3m2GTS0Y"
      }
    },
    {
      "cell_type": "code",
      "source": [
        "# 1. IoU Metric Function\n",
        "def get_IoU_score(prediction, target, threshold=0.5,smooth=0.0, eps=1e-7):\n",
        "  assert prediction.size() == target.size()\n",
        "  \n",
        "  # 1. Thresholding (In place operation)\n",
        "  preds = prediction.clone() # needed for thresholding\n",
        "  condition = preds >= threshold\n",
        "  preds[condition] = 1\n",
        "  preds[~condition] = 0\n",
        "\n",
        "  # 2. Calculate Intersection and Union\n",
        "  intersection = torch.sum(preds * target)\n",
        "  cardinality = torch.sum(preds + target)\n",
        "  union = cardinality - intersection\n",
        "\n",
        "  # 3. Finally, calculate IoU score\n",
        "  iou_score = (intersection + smooth) / (union + smooth).clamp_min(eps)\n",
        "\n",
        "  return iou_score\n",
        "\n",
        "# 2. IoU Loss \n",
        "class IoULoss(nn.Module):\n",
        "    def __init__(self, weight=None, size_average=True):\n",
        "        super(IoULoss, self).__init__()\n",
        "\n",
        "    '''\n",
        "    calculates IoU score (on probabilities)\n",
        "    '''\n",
        "    def forward(self, prediction, targets, smooth=0, eps=1e-7): \n",
        "        assert prediction.size() == targets.size()\n",
        "\n",
        "        # 1. Thresholding (In place operation)\n",
        "        # preds = prediction.clone() # needed for thresholding\n",
        "        # condition = preds >= threshold\n",
        "        # preds[condition] = 1\n",
        "        # preds[~condition] = 0\n",
        "\n",
        "        # 2. Calculate Intersection and Union\n",
        "        intersection = torch.sum(prediction * targets)\n",
        "        cardinality = torch.sum(prediction + targets)\n",
        "        union = cardinality - intersection\n",
        "\n",
        "        # 3. Finally, calculate IoU score\n",
        "        iou_score = (intersection + smooth) / (union + smooth).clamp_min(eps)\n",
        "                \n",
        "        return 1.0 - iou_score"
      ],
      "metadata": {
        "id": "wruRPsWeTVhn"
      },
      "execution_count": null,
      "outputs": []
    },
    {
      "cell_type": "markdown",
      "source": [
        "# 6. Train, Validation and Test Functions"
      ],
      "metadata": {
        "id": "3K-gzYhKPzzF"
      }
    },
    {
      "cell_type": "markdown",
      "source": [
        "> ### Train Loop"
      ],
      "metadata": {
        "id": "RTsg5tYEP-RQ"
      }
    },
    {
      "cell_type": "code",
      "source": [
        "def train_loop(train_loader,model, optimizer, lossFunc, scaler, epoch, epochs):\n",
        "\n",
        "  model.train()\n",
        "\n",
        "  totalTrainIoU = 0\n",
        "  totalTrainLoss = 0\n",
        "  totalPixelAccuracy = 0\n",
        "  trainSteps = len(train_loader)\n",
        "\n",
        "  loop = tqdm(enumerate(train_loader), total=len(train_loader))\n",
        "  loop.set_description(f\"EPOCH: {epoch}/{epochs} - Training\") \n",
        "  \n",
        "  for batch_idx, (img_batch,mask_batch) in loop: \n",
        "    # send the input to the device\n",
        "    (img_batch, mask_batch) = (img_batch.to(DEVICE), mask_batch.float().unsqueeze(1).to(DEVICE))\n",
        "\n",
        "    # Forward Pass\n",
        "    with torch.cuda.amp.autocast():\n",
        "      pred = torch.sigmoid(model(img_batch))\n",
        "      loss = lossFunc(pred, mask_batch)\n",
        "      IoU_score = get_IoU_score(pred, mask_batch) \n",
        "    \n",
        "    # Backward Pass\n",
        "    optimizer.zero_grad()\n",
        "    scaler.scale(loss).backward()\n",
        "    scaler.step(optimizer)\n",
        "    scaler.update()\n",
        "\n",
        "    # update progress bar \n",
        "    loop.set_postfix(IoU_score=IoU_score.item(), loss=1-IoU_score.item())\n",
        "\n",
        "    # total loss and total IoU\n",
        "    totalTrainLoss += 1-IoU_score\n",
        "    totalTrainIoU += IoU_score\n",
        "  \n",
        "  # 1. Calculate avg IoU for CURRENT EPOCH\n",
        "  avgTrainIoU = totalTrainIoU / trainSteps\n",
        "\n",
        "  # 2. Calculate avg LOSS for CURRENT EPOCH\n",
        "  avgTrainLoss = totalTrainLoss / trainSteps\n",
        "\n",
        "  return model, optimizer, scaler, avgTrainLoss, avgTrainIoU"
      ],
      "metadata": {
        "id": "ZChgcrMDP-RR"
      },
      "execution_count": null,
      "outputs": []
    },
    {
      "cell_type": "markdown",
      "source": [
        "> ### Validation Loop"
      ],
      "metadata": {
        "id": "QMzbZQcPP-RS"
      }
    },
    {
      "cell_type": "code",
      "source": [
        "def validation_loop(model,val_loader, lossFunc):\n",
        "\n",
        "  model.eval()\n",
        "  \n",
        "  totalValIoU = 0\n",
        "  totalValLoss = 0\n",
        "  ValSteps = len(val_loader)\n",
        "\n",
        "  loop = tqdm(enumerate(val_loader),total=len(val_loader))                  # Create validation loop\n",
        "  loop.set_description(f\"             - Validation\")                        # Set description of validation loop\n",
        "\n",
        "  # switch off autograd\n",
        "  with torch.no_grad():\n",
        "    for batch_idx, (img_batch, mask_batch) in loop:        \n",
        "      # send the input to the device\n",
        "      (img_batch, mask_batch) = (img_batch.to(DEVICE), mask_batch.float().unsqueeze(1).to(DEVICE))\n",
        "\n",
        "      # make the predictions and calculate the validation loss\n",
        "      pred = torch.sigmoid(model(img_batch))\n",
        "      loss = lossFunc(pred, mask_batch)\n",
        "      # IoU_score = 1 - loss\n",
        "      IoU_score = get_IoU_score(pred, mask_batch) # leave it or change it?\n",
        "      totalValLoss += 1 - IoU_score\n",
        "      totalValIoU += IoU_score\n",
        "\n",
        "      # update progress bar\n",
        "      loop.set_postfix(IoU_score=IoU_score.item(), loss=1-IoU_score.item())\n",
        "  \n",
        "  # 1. Calculate avg validation IoU for CURRENT EPOCH\n",
        "  avgValIoU = totalValIoU / ValSteps\n",
        "\n",
        "  # 2. Calculate avg validation LOSS for CURRENT EPOCH\n",
        "  avgValLoss = totalValLoss / ValSteps\n",
        "\n",
        "  model.train()\n",
        "\n",
        "  return avgValLoss, avgValIoU"
      ],
      "metadata": {
        "id": "D4QURJ0_P-RS"
      },
      "execution_count": null,
      "outputs": []
    },
    {
      "cell_type": "markdown",
      "source": [
        "> ### Train Function"
      ],
      "metadata": {
        "id": "46sRTW9XQBhu"
      }
    },
    {
      "cell_type": "code",
      "source": [
        "def train(model, epochs, train_loader, val_loader, \n",
        "          best_model_path, checkpoint_model_path, predictions_path,\n",
        "          load_from_checkpoint=None, initial_lr=0.001):\n",
        "  \n",
        "  # Define first and last epochs\n",
        "  first_epoch = 1\n",
        "  last_epoch = epochs\n",
        "\n",
        "  # Initialize a dictionary to store training history\n",
        "  History = {\"train_IoU\": [], \"val_IoU\": [], \"train_loss\": [], \"val_loss\": []}\n",
        "\n",
        "  # Best Loss (validation loss)\n",
        "  best_loss = np.inf\n",
        "  best_epoch = 1\n",
        "  best_iou = 0\n",
        "\n",
        "  # Create loss function, optimzer and scaler\n",
        "  loss_fn = IoULoss()\n",
        "  optimizer = optim.Adam(model.parameters(), lr=LEARNING_RATE, weight_decay=0.01)\n",
        "  scaler = torch.cuda.amp.GradScaler()\n",
        "\n",
        "  # Create a learning rate scheduler\n",
        "  scheduler = torch.optim.lr_scheduler.ReduceLROnPlateau(optimizer, 'min', patience=5, min_lr=0.0000001)\n",
        "\n",
        "  # Load Checkpoint\n",
        "  if load_from_checkpoint:\n",
        "      model, optimizer, scaler, states = load_checkpoint(model, best_model_path)\n",
        "      best_epoch = states['epoch']\n",
        "      best_iou = states['val_IoU']\n",
        "      best_loss = states['val_loss']\n",
        "\n",
        "      if load_from_checkpoint != 'best':\n",
        "        model, optimizer, scaler, states = load_checkpoint(model, checkpoint_model_path)\n",
        "      \n",
        "      History = states['history']\n",
        "      first_epoch = states['epoch'] + 1\n",
        "  \n",
        "      print('Model has been trained for {} epochs with best_IoU = {:.4f} and best_loss = {:.4f} at epoch {}\\n'.format(\n",
        "              states['epoch'], best_iou, best_loss, best_epoch))\n",
        "    \n",
        "  # Train\n",
        "  for epoch in range(first_epoch, last_epoch+1):\n",
        "\n",
        "    # 1. Train Loop\n",
        "    model, optimizer, scaler, avgTrainLoss, avgTrainIoU = train_loop(train_loader, model, optimizer,\n",
        "                                                                     loss_fn, scaler, epoch, epochs)\n",
        "\n",
        "    # 2. Validation Loop\n",
        "    avgValLoss, avgValIoU = validation_loop(model,val_loader, loss_fn)\n",
        "\n",
        "    print(f'Avg Train Loss = {avgTrainLoss}, Avg Train IoU = {avgTrainIoU}, Avg Val Loss = {avgValLoss}, Avg Val IoU = {avgValIoU}  ')\n",
        "\n",
        "    # 3. Update our training history\n",
        "    History[\"train_loss\"].append(avgTrainLoss.cpu().detach().numpy())\n",
        "    History[\"val_loss\"].append(avgValLoss.cpu().detach().numpy())\n",
        "    History[\"train_IoU\"].append(avgTrainIoU.cpu().detach().numpy())\n",
        "    History[\"val_IoU\"].append(avgValIoU.cpu().detach().numpy())\n",
        "\n",
        "    # 4. Save Best Model\n",
        "    if(avgValLoss < best_loss):\n",
        "      save_checkpoint(model, optimizer, scaler, \n",
        "                      epoch, avgValLoss, avgValIoU, \n",
        "                      History, best_model_path)\n",
        "      # update the best parameters\n",
        "      best_loss = avgValLoss\n",
        "      best_epoch = epoch\n",
        "      best_iou = avgValIoU\n",
        "\n",
        "      # Save predictions\n",
        "      save_predictions_as_imgs(val_loader, model, predictions_path) \n",
        "\n",
        "      print(\"=> saved best model\") \n",
        "    print()\n",
        "\n",
        "    # 5. Save Current Model (after current epoch)\n",
        "    save_checkpoint(model, optimizer, scaler, \n",
        "                    epoch, avgValLoss, avgValIoU,\n",
        "                    History, checkpoint_model_path)\n",
        "    \n",
        "    # Learning Rate Scheduler\n",
        "    scheduler.step(avgValLoss)\n",
        "  \n",
        "  print(f\"Best val_loss = {best_loss} , Best val_score = {best_iou} at Epoch {best_epoch}.\")\n",
        "\n",
        "  # Return Model and History\n",
        "  return model, History"
      ],
      "metadata": {
        "id": "HtLgg2IRP-RP"
      },
      "execution_count": null,
      "outputs": []
    },
    {
      "cell_type": "markdown",
      "source": [
        "> ### Test Function"
      ],
      "metadata": {
        "id": "v1CMUwEKnEfY"
      }
    },
    {
      "cell_type": "code",
      "source": [
        "def test(model,test_loader, predictions_path):\n",
        "\n",
        "  # initialize loss function and optimizer\n",
        "  lossFunc = IoULoss() # Jaccard Loss\n",
        "\n",
        "  # number of batches for test set \n",
        "  TestSteps = len(test_loader) \n",
        "\n",
        "  # loss and IoU\n",
        "  totalTestLoss = 0\n",
        "  totalTestIoU = 0\n",
        "\n",
        "  loop = tqdm(enumerate(test_loader),total=len(test_loader))                  # Create validation loop\n",
        "  loop.set_description(f\"Testing: \")                                          # Set description of validation loop\n",
        "\n",
        "  # switch off autograd\n",
        "  with torch.no_grad():\n",
        "    # set the model in evaluation mode\n",
        "    model.eval()\n",
        "    for batch_idx, (img_batch,mask_batch) in loop:\n",
        "      # send the input to the device\n",
        "      (img_batch, mask_batch) = (img_batch.to(DEVICE), mask_batch.float().unsqueeze(1).to(DEVICE))\n",
        "\n",
        "      # make the predictions and calculate the validation loss\n",
        "      pred = torch.sigmoid(model(img_batch))\n",
        "      loss = lossFunc(pred, mask_batch)\n",
        "      # IoU_score = 1 - loss\n",
        "      IoU_score = get_IoU_score(pred, mask_batch) # leave it or change it?\n",
        "      totalTestLoss += loss\n",
        "      totalTestIoU += IoU_score\n",
        "\n",
        "      # update progress bar\n",
        "      loop.set_postfix(IoU_score=IoU_score.item(), loss=loss.item())\n",
        "  \n",
        "  # 1. Calculate avg validation IoU for CURRENT EPOCH\n",
        "  avgTestIoU = totalTestIoU / TestSteps\n",
        "\n",
        "  # 2. Calculate avg validation LOSS for CURRENT EPOCH\n",
        "  avgTestLoss = totalTestLoss / TestSteps\n",
        "\n",
        "  print(f'\\nAvg Test Loss = {avgTestLoss}, Avg Test IoU = {avgTestIoU}')\n",
        "\n",
        "  # Save predictions\n",
        "  save_predictions_as_imgs(test_loader, model, predictions_path) \n",
        "\n",
        "  return avgTestLoss, avgTestIoU"
      ],
      "metadata": {
        "id": "NCYXAjhCnIFt"
      },
      "execution_count": null,
      "outputs": []
    },
    {
      "cell_type": "markdown",
      "source": [
        "# 7. Training"
      ],
      "metadata": {
        "id": "ui031CvmWmPY"
      }
    },
    {
      "cell_type": "code",
      "source": [
        "# To clear GPU memory without restarting runtime (NOT WORKING)\n",
        "torch.cuda.empty_cache()\n",
        "!nvidia-smi"
      ],
      "metadata": {
        "id": "91zYYxCupzZD",
        "colab": {
          "base_uri": "https://localhost:8080/"
        },
        "outputId": "94222abb-a05b-4416-fcb1-50887a2b51ae"
      },
      "execution_count": null,
      "outputs": [
        {
          "output_type": "stream",
          "name": "stdout",
          "text": [
            "Tue Feb  1 12:56:57 2022       \n",
            "+-----------------------------------------------------------------------------+\n",
            "| NVIDIA-SMI 495.46       Driver Version: 460.32.03    CUDA Version: 11.2     |\n",
            "|-------------------------------+----------------------+----------------------+\n",
            "| GPU  Name        Persistence-M| Bus-Id        Disp.A | Volatile Uncorr. ECC |\n",
            "| Fan  Temp  Perf  Pwr:Usage/Cap|         Memory-Usage | GPU-Util  Compute M. |\n",
            "|                               |                      |               MIG M. |\n",
            "|===============================+======================+======================|\n",
            "|   0  Tesla P100-PCIE...  Off  | 00000000:00:04.0 Off |                    0 |\n",
            "| N/A   37C    P0    33W / 250W |   1347MiB / 16280MiB |     29%      Default |\n",
            "|                               |                      |                  N/A |\n",
            "+-------------------------------+----------------------+----------------------+\n",
            "                                                                               \n",
            "+-----------------------------------------------------------------------------+\n",
            "| Processes:                                                                  |\n",
            "|  GPU   GI   CI        PID   Type   Process name                  GPU Memory |\n",
            "|        ID   ID                                                   Usage      |\n",
            "|=============================================================================|\n",
            "|  No running processes found                                                 |\n",
            "+-----------------------------------------------------------------------------+\n"
          ]
        }
      ]
    },
    {
      "cell_type": "markdown",
      "source": [
        "> ### 1. Hyperparameters and Directories"
      ],
      "metadata": {
        "id": "E8MDXmpKwYJX"
      }
    },
    {
      "cell_type": "code",
      "source": [
        "# Hyperparameters\n",
        "LEARNING_RATE = 1e-4\n",
        "DEVICE = \"cuda\" if torch.cuda.is_available() else \"cpu\"\n",
        "BATCH_SIZE = 32\n",
        "NUM_EPOCHS = 50\n",
        "NUM_WORKERS = 2\n",
        "PIN_MEMORY = True\n",
        "LOAD_MODEL = False\n",
        "\n",
        "# Dataset Path\n",
        "dataset_path = '/content/drive/MyDrive/ISIC-2017'\n",
        "\n",
        "# Directories\n",
        "TRAIN_IMG_DIR = os.path.join(dataset_path, 'Train')\n",
        "VAL_IMG_DIR = os.path.join(dataset_path, 'Validation')\n",
        "TEST_IMG_DIR = os.path.join(dataset_path, 'Test')"
      ],
      "metadata": {
        "id": "709w0Jy4s0Lj"
      },
      "execution_count": null,
      "outputs": []
    },
    {
      "cell_type": "code",
      "source": [
        "# Create models/checkpoints directory\n",
        "models_path = os.path.join(dataset_path, \"Models\")\n",
        "if not os.path.exists(models_path):\n",
        "  os.mkdir(models_path)\n",
        "\n",
        "# Predictions path\n",
        "predictions_path = os.path.join(dataset_path, \"Predictions\")\n",
        "\n",
        "# UNet Path\n",
        "unet_predictions_path = os.path.join(predictions_path, \"UNet\")\n",
        "unet_val_predictions_path = os.path.join(unet_predictions_path, \"Validation\") # will conatin several folders for each lr\n",
        "unet_test_predictions_path = os.path.join(unet_predictions_path, \"Test\")\n",
        "\n",
        "# FCN Path\n",
        "fcn_predictions_path = os.path.join(predictions_path, \"FCN\")\n",
        "fcn_val_predictions_path = os.path.join(fcn_predictions_path, \"Validation\") # will conatin several folders for each lr\n",
        "fcn_test_predictions_path = os.path.join(fcn_predictions_path, \"Test\")\n",
        "\n",
        "## Create Directories if they don't already exist\n",
        "if not os.path.exists(predictions_path):\n",
        "  os.mkdir(predictions_path)\n",
        "# UNet\n",
        "if not os.path.exists(unet_predictions_path):\n",
        "  os.mkdir(unet_predictions_path)\n",
        "if not os.path.exists(unet_val_predictions_path):\n",
        "  os.mkdir(unet_val_predictions_path)\n",
        "if not os.path.exists(unet_test_predictions_path):\n",
        "  os.mkdir(unet_test_predictions_path)\n",
        "# FCN\n",
        "if not os.path.exists(fcn_predictions_path):\n",
        "  os.mkdir(fcn_predictions_path)\n",
        "if not os.path.exists(fcn_val_predictions_path):\n",
        "  os.mkdir(fcn_val_predictions_path)\n",
        "if not os.path.exists(fcn_test_predictions_path):\n",
        "  os.mkdir(fcn_test_predictions_path)"
      ],
      "metadata": {
        "id": "i4l6HSyuaPXU"
      },
      "execution_count": null,
      "outputs": []
    },
    {
      "cell_type": "markdown",
      "source": [
        "> ### 2. Transforms and Dataloaders"
      ],
      "metadata": {
        "id": "U4eLuYrvwbiW"
      }
    },
    {
      "cell_type": "code",
      "source": [
        "## 1. Transforms\n",
        "# Train Transforms (with data augmentation)\n",
        "train_transform = A.Compose(\n",
        "    [\n",
        "        A.Resize(height=IMAGE_HEIGHT, width=IMAGE_WIDTH),\n",
        "        A.HorizontalFlip(p=0.5),\n",
        "        A.VerticalFlip(p=0.1),\n",
        "        A.Normalize(\n",
        "            mean=[0.0, 0.0, 0.0],\n",
        "            std=[1.0, 1.0, 1.0],\n",
        "            max_pixel_value=255.0,\n",
        "        ),\n",
        "        ToTensorV2(),\n",
        "    ],\n",
        ")\n",
        "\n",
        "# Validation Transform (NO data augmentation)\n",
        "val_transform = A.Compose(\n",
        "    [\n",
        "        A.Resize(height=IMAGE_HEIGHT, width=IMAGE_WIDTH),\n",
        "        A.Normalize(\n",
        "            mean=[0.0, 0.0, 0.0],\n",
        "            std=[1.0, 1.0, 1.0],\n",
        "            max_pixel_value=255.0,\n",
        "        ),\n",
        "        ToTensorV2(),\n",
        "    ],\n",
        ")\n",
        "\n",
        "\n",
        "### SMALL DATASETS FOR FINETUNING\n",
        "## 2. Datasets\n",
        "small_train_dataset = ISIC_Dataset(directory = train_dir, transform = train_transform, small_sample=500)\n",
        "small_val_dataset = ISIC_Dataset(directory = val_dir, transform = val_transform, small_sample=50)\n",
        "\n",
        "print(\"For finetuning:\")\n",
        "print(f\"[INFO] found {len(small_train_dataset)} examples in the small training set ...\")\n",
        "print(f\"[INFO] found {len(small_val_dataset)} examples in the small validation set ...\")\n",
        "\n",
        "## 3. Dataloaders\n",
        "# Train Dataloader\n",
        "small_train_loader = DataLoader(\n",
        "    small_train_dataset,\n",
        "    batch_size=BATCH_SIZE,\n",
        "    num_workers=NUM_WORKERS,\n",
        "    pin_memory=PIN_MEMORY,\n",
        "    shuffle=True,\n",
        ")\n",
        "\n",
        "# Validation Dataloader\n",
        "small_val_loader = DataLoader(\n",
        "    small_val_dataset,\n",
        "    batch_size=BATCH_SIZE,\n",
        "    num_workers=NUM_WORKERS,\n",
        "    pin_memory=PIN_MEMORY,\n",
        "    shuffle=False,\n",
        ")\n",
        "#################################################### \n",
        "\n",
        "### ENTIRE DATASET FOR TRAINING\n",
        "## 2. Datasets \n",
        "train_dataset = ISIC_Dataset(directory = train_dir, transform = train_transform)\n",
        "val_dataset = ISIC_Dataset(directory = val_dir, transform = val_transform)\n",
        "\n",
        "print(\"\\nFor training:\")\n",
        "print(f\"[INFO] found {len(train_dataset)} examples in the training set...\")\n",
        "print(f\"[INFO] found {len(val_dataset)} examples in the validation set...\")\n",
        "\n",
        "## 3. Dataloaders\n",
        "# Train Dataloader\n",
        "train_loader = DataLoader(\n",
        "    train_dataset,\n",
        "    batch_size=BATCH_SIZE,\n",
        "    num_workers=NUM_WORKERS,\n",
        "    pin_memory=PIN_MEMORY,\n",
        "    shuffle=True,\n",
        ")\n",
        "\n",
        "# Validation Dataloader\n",
        "val_loader = DataLoader(\n",
        "    val_dataset,\n",
        "    batch_size=BATCH_SIZE,\n",
        "    num_workers=NUM_WORKERS,\n",
        "    pin_memory=PIN_MEMORY,\n",
        "    shuffle=False,\n",
        ")"
      ],
      "metadata": {
        "id": "_2SrzO8itYHg",
        "colab": {
          "base_uri": "https://localhost:8080/"
        },
        "outputId": "f48bf015-98b6-4763-db44-c1627b645c4d"
      },
      "execution_count": null,
      "outputs": [
        {
          "output_type": "stream",
          "name": "stdout",
          "text": [
            "For finetuning:\n",
            "[INFO] found 400 examples in the small training set ...\n",
            "[INFO] found 50 examples in the small validation set ...\n",
            "\n",
            "For training:\n",
            "[INFO] found 2000 examples in the training set...\n",
            "[INFO] found 150 examples in the validation set...\n"
          ]
        }
      ]
    },
    {
      "cell_type": "markdown",
      "source": [
        "> ## 3. UNet Training <br>"
      ],
      "metadata": {
        "id": "Q7pmIi47Ve_i"
      }
    },
    {
      "cell_type": "markdown",
      "source": [
        ">> ### Fine-tuning"
      ],
      "metadata": {
        "id": "40ChAAGK8TXh"
      }
    },
    {
      "cell_type": "markdown",
      "source": [
        "1. lr = 0.01"
      ],
      "metadata": {
        "id": "9n5e1Dfm8zFV"
      }
    },
    {
      "cell_type": "code",
      "source": [
        "# Model Paths\n",
        "best_model_path = os.path.join(models_path, \"finetuning_0.01_best_unet.pth\")\n",
        "checkpoint_model_path = os.path.join(models_path, \"finetuning_0.01_checkpoint_unet.pth\")\n",
        "\n",
        "# Predictions Path\n",
        "predictions_path = os.path.join(unet_val_predictions_path, \"Finetuning\")\n",
        "\n",
        "# Choose learning rate\n",
        "initial_lr = 0.01\n",
        "\n",
        "# Create model\n",
        "model = UNet().to(DEVICE)\n",
        "\n",
        "# Train model\n",
        "model, History = train(model, 5, train_loader, val_loader, \n",
        "          best_model_path, checkpoint_model_path, predictions_path,\n",
        "          load_from_checkpoint=None,\n",
        "          initial_lr=initial_lr)"
      ],
      "metadata": {
        "colab": {
          "base_uri": "https://localhost:8080/"
        },
        "id": "Lg9Y797y83ed",
        "outputId": "4d781c1a-a045-465e-de5f-cae9b9c3e662"
      },
      "execution_count": null,
      "outputs": [
        {
          "output_type": "stream",
          "name": "stderr",
          "text": [
            "EPOCH: 1/5 - Training: 100%|██████████| 63/63 [03:59<00:00,  3.80s/it, IoU_score=0.193, loss=0.807]\n",
            "             - Validation: 100%|██████████| 5/5 [00:36<00:00,  7.30s/it, IoU_score=0.438, loss=0.562]\n"
          ]
        },
        {
          "output_type": "stream",
          "name": "stdout",
          "text": [
            "Avg Train Loss = 0.8061298727989197, Avg Train IoU = 0.19387021660804749, Avg Val Loss = 0.8097643852233887, Avg Val IoU = 0.19023564457893372  \n",
            "=> saved best model\n",
            "\n"
          ]
        },
        {
          "output_type": "stream",
          "name": "stderr",
          "text": [
            "EPOCH: 2/5 - Training: 100%|██████████| 63/63 [03:58<00:00,  3.79s/it, IoU_score=0.273, loss=0.727]\n",
            "             - Validation: 100%|██████████| 5/5 [00:37<00:00,  7.40s/it, IoU_score=0.62, loss=0.38]\n"
          ]
        },
        {
          "output_type": "stream",
          "name": "stdout",
          "text": [
            "Avg Train Loss = 0.8013203144073486, Avg Train IoU = 0.19867976009845734, Avg Val Loss = 0.7393876910209656, Avg Val IoU = 0.2606123387813568  \n",
            "=> saved best model\n",
            "\n"
          ]
        },
        {
          "output_type": "stream",
          "name": "stderr",
          "text": [
            "EPOCH: 3/5 - Training: 100%|██████████| 63/63 [04:02<00:00,  3.86s/it, IoU_score=0.245, loss=0.755]\n",
            "             - Validation: 100%|██████████| 5/5 [00:37<00:00,  7.40s/it, IoU_score=0.49, loss=0.51]\n"
          ]
        },
        {
          "output_type": "stream",
          "name": "stdout",
          "text": [
            "Avg Train Loss = 0.5947384834289551, Avg Train IoU = 0.40526139736175537, Avg Val Loss = 0.6878942847251892, Avg Val IoU = 0.3121057450771332  \n",
            "=> saved best model\n",
            "\n"
          ]
        },
        {
          "output_type": "stream",
          "name": "stderr",
          "text": [
            "EPOCH: 4/5 - Training: 100%|██████████| 63/63 [03:56<00:00,  3.76s/it, IoU_score=0.417, loss=0.583]\n",
            "             - Validation: 100%|██████████| 5/5 [00:36<00:00,  7.34s/it, IoU_score=0.599, loss=0.401]\n"
          ]
        },
        {
          "output_type": "stream",
          "name": "stdout",
          "text": [
            "Avg Train Loss = 0.5556933283805847, Avg Train IoU = 0.4443069100379944, Avg Val Loss = 0.6297634243965149, Avg Val IoU = 0.3702365756034851  \n",
            "=> saved best model\n",
            "\n"
          ]
        },
        {
          "output_type": "stream",
          "name": "stderr",
          "text": [
            "EPOCH: 5/5 - Training: 100%|██████████| 63/63 [03:57<00:00,  3.77s/it, IoU_score=0.389, loss=0.611]\n",
            "             - Validation: 100%|██████████| 5/5 [00:36<00:00,  7.35s/it, IoU_score=0.606, loss=0.394]\n"
          ]
        },
        {
          "output_type": "stream",
          "name": "stdout",
          "text": [
            "Avg Train Loss = 0.5508081316947937, Avg Train IoU = 0.44919198751449585, Avg Val Loss = 0.6338517665863037, Avg Val IoU = 0.3661482334136963  \n",
            "\n",
            "Best val_loss = 0.6297634243965149 , Best val_score = 0.3702365756034851 at Epoch 4.\n"
          ]
        }
      ]
    },
    {
      "cell_type": "markdown",
      "source": [
        "2. lr = 0.001"
      ],
      "metadata": {
        "id": "L7HuuqYT8zFV"
      }
    },
    {
      "cell_type": "code",
      "source": [
        "# Model Paths\n",
        "best_model_path = os.path.join(models_path, \"finetuning_0.001_best_unet.pth\")\n",
        "checkpoint_model_path = os.path.join(models_path, \"finetuning_0.001_checkpoint_unet.pth\")\n",
        "\n",
        "# Predictions Path\n",
        "predictions_path = os.path.join(unet_val_predictions_path, \"Finetuning\")\n",
        "\n",
        "# Choose learning rate\n",
        "initial_lr = 0.001\n",
        "\n",
        "# Create model\n",
        "model = UNet().to(DEVICE)\n",
        "\n",
        "# Train model\n",
        "model, History = train(model, 5, train_loader, val_loader, \n",
        "          best_model_path, checkpoint_model_path, predictions_path,\n",
        "          load_from_checkpoint=None,\n",
        "          initial_lr=initial_lr)"
      ],
      "metadata": {
        "colab": {
          "base_uri": "https://localhost:8080/"
        },
        "id": "j0Xc-vCX83IR",
        "outputId": "5b06e560-e391-4f1b-f57c-3e82314c07ff"
      },
      "execution_count": null,
      "outputs": [
        {
          "metadata": {
            "tags": null
          },
          "name": "stderr",
          "output_type": "stream",
          "text": [
            "EPOCH: 1/5 - Training: 100%|██████████| 63/63 [03:56<00:00,  3.76s/it, IoU_score=0.193, loss=0.807]\n",
            "             - Validation: 100%|██████████| 5/5 [00:37<00:00,  7.41s/it, IoU_score=0.438, loss=0.562]\n"
          ]
        },
        {
          "metadata": {
            "tags": null
          },
          "name": "stdout",
          "output_type": "stream",
          "text": [
            "Avg Train Loss = 0.8061298727989197, Avg Train IoU = 0.19387021660804749, Avg Val Loss = 0.8097643852233887, Avg Val IoU = 0.19023564457893372  \n",
            "=> saved best model\n",
            "\n"
          ]
        },
        {
          "metadata": {
            "tags": null
          },
          "name": "stderr",
          "output_type": "stream",
          "text": [
            "EPOCH: 2/5 - Training: 100%|██████████| 63/63 [04:02<00:00,  3.85s/it, IoU_score=0.273, loss=0.727]\n",
            "             - Validation: 100%|██████████| 5/5 [00:37<00:00,  7.43s/it, IoU_score=0.62, loss=0.38]\n"
          ]
        },
        {
          "metadata": {
            "tags": null
          },
          "name": "stdout",
          "output_type": "stream",
          "text": [
            "Avg Train Loss = 0.8013201951980591, Avg Train IoU = 0.1986798793077469, Avg Val Loss = 0.7393892407417297, Avg Val IoU = 0.2606107294559479  \n",
            "=> saved best model\n",
            "\n"
          ]
        },
        {
          "metadata": {
            "tags": null
          },
          "name": "stderr",
          "output_type": "stream",
          "text": [
            "EPOCH: 3/5 - Training: 100%|██████████| 63/63 [04:04<00:00,  3.88s/it, IoU_score=0.245, loss=0.755]\n",
            "             - Validation: 100%|██████████| 5/5 [00:37<00:00,  7.51s/it, IoU_score=0.49, loss=0.51]\n"
          ]
        },
        {
          "metadata": {
            "tags": null
          },
          "name": "stdout",
          "output_type": "stream",
          "text": [
            "Avg Train Loss = 0.5947363376617432, Avg Train IoU = 0.4052635431289673, Avg Val Loss = 0.687874972820282, Avg Val IoU = 0.3121251165866852  \n",
            "=> saved best model\n",
            "\n"
          ]
        },
        {
          "metadata": {
            "tags": null
          },
          "name": "stderr",
          "output_type": "stream",
          "text": [
            "EPOCH: 4/5 - Training: 100%|██████████| 63/63 [03:56<00:00,  3.75s/it, IoU_score=0.417, loss=0.583]\n",
            "             - Validation: 100%|██████████| 5/5 [00:37<00:00,  7.43s/it, IoU_score=0.599, loss=0.401]\n"
          ]
        },
        {
          "metadata": {
            "tags": null
          },
          "name": "stdout",
          "output_type": "stream",
          "text": [
            "Avg Train Loss = 0.5556926131248474, Avg Train IoU = 0.4443073272705078, Avg Val Loss = 0.6297556161880493, Avg Val IoU = 0.37024441361427307  \n",
            "=> saved best model\n",
            "\n"
          ]
        },
        {
          "output_type": "stream",
          "name": "stderr",
          "text": [
            "EPOCH: 5/5 - Training: 100%|██████████| 63/63 [04:01<00:00,  3.83s/it, IoU_score=0.389, loss=0.611]\n",
            "             - Validation: 100%|██████████| 5/5 [00:36<00:00,  7.37s/it, IoU_score=0.606, loss=0.394]\n"
          ]
        },
        {
          "output_type": "stream",
          "name": "stdout",
          "text": [
            "Avg Train Loss = 0.5508068799972534, Avg Train IoU = 0.44919320940971375, Avg Val Loss = 0.6338520050048828, Avg Val IoU = 0.3661479949951172  \n",
            "\n",
            "Best val_loss = 0.6297556161880493 , Best val_score = 0.37024441361427307 at Epoch 4.\n"
          ]
        }
      ]
    },
    {
      "cell_type": "markdown",
      "source": [
        "3. lr = 0.0001"
      ],
      "metadata": {
        "id": "wY2ewWQw8zFV"
      }
    },
    {
      "cell_type": "code",
      "source": [
        "# Model Paths\n",
        "best_model_path = os.path.join(models_path, \"finetuning_0.0001_best_unet.pth\")\n",
        "checkpoint_model_path = os.path.join(models_path, \"finetuning_0.0001_checkpoint_unet.pth\")\n",
        "\n",
        "# Predictions Path\n",
        "predictions_path = os.path.join(unet_val_predictions_path, \"Finetuning\")\n",
        "\n",
        "# Choose learning rate\n",
        "initial_lr = 0.0001\n",
        "\n",
        "# Create model\n",
        "model = UNet().to(DEVICE)\n",
        "\n",
        "# Train model\n",
        "model, History = train(model, 5, train_loader, val_loader, \n",
        "          best_model_path, checkpoint_model_path, predictions_path,\n",
        "          load_from_checkpoint=None,\n",
        "          initial_lr=initial_lr)"
      ],
      "metadata": {
        "colab": {
          "base_uri": "https://localhost:8080/"
        },
        "id": "bB0x3_vo8Szz",
        "outputId": "cd81733f-2997-4deb-96e4-3dd22c136563"
      },
      "execution_count": null,
      "outputs": [
        {
          "output_type": "stream",
          "name": "stderr",
          "text": [
            "EPOCH: 1/5 - Training: 100%|██████████| 63/63 [04:01<00:00,  3.83s/it, IoU_score=0.193, loss=0.807]\n",
            "             - Validation: 100%|██████████| 5/5 [00:37<00:00,  7.46s/it, IoU_score=0.438, loss=0.562]\n"
          ]
        },
        {
          "output_type": "stream",
          "name": "stdout",
          "text": [
            "Avg Train Loss = 0.8061298727989197, Avg Train IoU = 0.19387021660804749, Avg Val Loss = 0.8097643852233887, Avg Val IoU = 0.19023564457893372  \n",
            "=> saved best model\n",
            "\n"
          ]
        },
        {
          "output_type": "stream",
          "name": "stderr",
          "text": [
            "EPOCH: 2/5 - Training: 100%|██████████| 63/63 [03:57<00:00,  3.77s/it, IoU_score=0.273, loss=0.727]\n",
            "             - Validation: 100%|██████████| 5/5 [00:36<00:00,  7.40s/it, IoU_score=0.62, loss=0.38]\n"
          ]
        },
        {
          "output_type": "stream",
          "name": "stdout",
          "text": [
            "Avg Train Loss = 0.8013204336166382, Avg Train IoU = 0.1986796259880066, Avg Val Loss = 0.7393919825553894, Avg Val IoU = 0.260608047246933  \n",
            "=> saved best model\n",
            "\n"
          ]
        },
        {
          "output_type": "stream",
          "name": "stderr",
          "text": [
            "EPOCH: 3/5 - Training: 100%|██████████| 63/63 [04:01<00:00,  3.84s/it, IoU_score=0.245, loss=0.755]\n",
            "             - Validation: 100%|██████████| 5/5 [00:37<00:00,  7.41s/it, IoU_score=0.49, loss=0.51]\n"
          ]
        },
        {
          "output_type": "stream",
          "name": "stdout",
          "text": [
            "Avg Train Loss = 0.5947355628013611, Avg Train IoU = 0.40526437759399414, Avg Val Loss = 0.6878619194030762, Avg Val IoU = 0.31213805079460144  \n",
            "=> saved best model\n",
            "\n"
          ]
        },
        {
          "output_type": "stream",
          "name": "stderr",
          "text": [
            "EPOCH: 4/5 - Training: 100%|██████████| 63/63 [03:55<00:00,  3.74s/it, IoU_score=0.417, loss=0.583]\n",
            "             - Validation: 100%|██████████| 5/5 [00:36<00:00,  7.35s/it, IoU_score=0.599, loss=0.401]\n"
          ]
        },
        {
          "output_type": "stream",
          "name": "stdout",
          "text": [
            "Avg Train Loss = 0.5556918978691101, Avg Train IoU = 0.4443081319332123, Avg Val Loss = 0.6297618746757507, Avg Val IoU = 0.37023812532424927  \n",
            "=> saved best model\n",
            "\n"
          ]
        },
        {
          "output_type": "stream",
          "name": "stderr",
          "text": [
            "EPOCH: 5/5 - Training: 100%|██████████| 63/63 [03:59<00:00,  3.81s/it, IoU_score=0.389, loss=0.611]\n",
            "             - Validation: 100%|██████████| 5/5 [00:36<00:00,  7.23s/it, IoU_score=0.606, loss=0.394]\n"
          ]
        },
        {
          "output_type": "stream",
          "name": "stdout",
          "text": [
            "Avg Train Loss = 0.5508098602294922, Avg Train IoU = 0.44919025897979736, Avg Val Loss = 0.633851945400238, Avg Val IoU = 0.36614805459976196  \n",
            "\n",
            "Best val_loss = 0.6297618746757507 , Best val_score = 0.37023812532424927 at Epoch 4.\n"
          ]
        }
      ]
    },
    {
      "cell_type": "markdown",
      "source": [
        ">> ### Train Original UNet Model\n",
        "*   Learning rate = 1e-4 (0.0001)\n",
        "*   Batch size = 32"
      ],
      "metadata": {
        "id": "Yb2GSHCAi3r-"
      }
    },
    {
      "cell_type": "code",
      "source": [
        "# Model Paths\n",
        "best_model_path = os.path.join(models_path, \"trial_best_unet.pth\")\n",
        "checkpoint_model_path = os.path.join(models_path, \"trial_checkpoint_unet.pth\")\n",
        "\n",
        "# Predictions Path\n",
        "predictions_path = os.path.join(unet_val_predictions_path, \"Trial\")\n",
        "\n",
        "# Choose learning rate\n",
        "initial_lr = 1e-4\n",
        "\n",
        "# Create model\n",
        "model = UNet().to(DEVICE)\n",
        "\n",
        "# Train model\n",
        "model, History = train(model, 65, train_loader, val_loader, \n",
        "          best_model_path, checkpoint_model_path, predictions_path,\n",
        "          load_from_checkpoint='last',\n",
        "          initial_lr=initial_lr)"
      ],
      "metadata": {
        "colab": {
          "base_uri": "https://localhost:8080/"
        },
        "id": "ukAThhRMNQn3",
        "outputId": "41326994-05b2-4078-ed5e-cec3ab055621"
      },
      "execution_count": null,
      "outputs": [
        {
          "output_type": "stream",
          "name": "stdout",
          "text": [
            "=> loaded checkpoint '/content/drive/MyDrive/ISIC-2017/Models/trial_best_unet.pth'\n",
            "=> loaded checkpoint '/content/drive/MyDrive/ISIC-2017/Models/trial_checkpoint_unet.pth'\n",
            "Model has been trained for 60 epochs with best_IoU = 0.6536 and best_loss = 0.3464 at epoch 49\n",
            "\n"
          ]
        },
        {
          "output_type": "stream",
          "name": "stderr",
          "text": [
            "EPOCH: 61/65 - Training: 100%|██████████| 63/63 [03:59<00:00,  3.81s/it, IoU_score=0.818, loss=0.182]\n",
            "             - Validation: 100%|██████████| 5/5 [00:36<00:00,  7.25s/it, IoU_score=0.718, loss=0.282]\n"
          ]
        },
        {
          "output_type": "stream",
          "name": "stdout",
          "text": [
            "Avg Train Loss = 0.17616161704063416, Avg Train IoU = 0.8238597512245178, Avg Val Loss = 0.38068294525146484, Avg Val IoU = 0.6194210648536682  \n",
            "\n"
          ]
        },
        {
          "output_type": "stream",
          "name": "stderr",
          "text": [
            "EPOCH: 62/65 - Training: 100%|██████████| 63/63 [04:04<00:00,  3.89s/it, IoU_score=0.865, loss=0.135]\n",
            "             - Validation: 100%|██████████| 5/5 [00:37<00:00,  7.42s/it, IoU_score=0.724, loss=0.276]\n"
          ]
        },
        {
          "output_type": "stream",
          "name": "stdout",
          "text": [
            "Avg Train Loss = 0.17953304946422577, Avg Train IoU = 0.8204900026321411, Avg Val Loss = 0.3578244149684906, Avg Val IoU = 0.6422598958015442  \n",
            "\n"
          ]
        },
        {
          "output_type": "stream",
          "name": "stderr",
          "text": [
            "EPOCH: 63/65 - Training: 100%|██████████| 63/63 [04:06<00:00,  3.91s/it, IoU_score=0.767, loss=0.233]\n",
            "             - Validation: 100%|██████████| 5/5 [00:38<00:00,  7.65s/it, IoU_score=0.742, loss=0.258]\n"
          ]
        },
        {
          "output_type": "stream",
          "name": "stdout",
          "text": [
            "Avg Train Loss = 0.17197977006435394, Avg Train IoU = 0.8280478119850159, Avg Val Loss = 0.3730471730232239, Avg Val IoU = 0.6270713806152344  \n",
            "\n"
          ]
        },
        {
          "output_type": "stream",
          "name": "stderr",
          "text": [
            "EPOCH: 64/65 - Training: 100%|██████████| 63/63 [03:57<00:00,  3.77s/it, IoU_score=0.823, loss=0.177]\n",
            "             - Validation: 100%|██████████| 5/5 [00:37<00:00,  7.47s/it, IoU_score=0.729, loss=0.271]\n"
          ]
        },
        {
          "output_type": "stream",
          "name": "stdout",
          "text": [
            "Avg Train Loss = 0.1755969524383545, Avg Train IoU = 0.8244290351867676, Avg Val Loss = 0.3523923456668854, Avg Val IoU = 0.6476661562919617  \n",
            "\n"
          ]
        },
        {
          "output_type": "stream",
          "name": "stderr",
          "text": [
            "EPOCH: 65/65 - Training: 100%|██████████| 63/63 [04:02<00:00,  3.85s/it, IoU_score=0.83, loss=0.17]\n",
            "             - Validation: 100%|██████████| 5/5 [00:37<00:00,  7.41s/it, IoU_score=0.736, loss=0.264]\n"
          ]
        },
        {
          "output_type": "stream",
          "name": "stdout",
          "text": [
            "Avg Train Loss = 0.16696538031101227, Avg Train IoU = 0.8330705165863037, Avg Val Loss = 0.3583098351955414, Avg Val IoU = 0.6417323350906372  \n",
            "\n",
            "Best val_loss = 0.34644338488578796 , Best val_score = 0.6535566449165344 at Epoch 49.\n"
          ]
        }
      ]
    },
    {
      "cell_type": "code",
      "source": [
        "# Best Model Path\n",
        "model_path = os.path.join(models_path, \"trial_checkpoint_unet.pth\")\n",
        "\n",
        "# Load Model\n",
        "model = UNet().to(DEVICE)\n",
        "model, optimizer, scaler, states = load_checkpoint(model, model_path)\n",
        "History = states['history']\n",
        "\n",
        "# 1. plot the loss curve\n",
        "plt.style.use(\"ggplot\")\n",
        "plt.figure()\n",
        "plt.plot(History[\"train_loss\"], label=\"train_loss\")\n",
        "plt.plot(History[\"val_loss\"], label=\"val_loss\")\n",
        "plt.title(\"Training Loss on Dataset\")\n",
        "plt.xlabel(\"Epoch #\")\n",
        "plt.ylabel(\"Loss\")\n",
        "plt.legend(loc=\"lower left\")\n",
        "x = plt.show()\n",
        "\n",
        "# Save the loss curve figure\n",
        "# plt.savefig()\n",
        "\n",
        "# 2. plot the IoU score curve\n",
        "plt.style.use(\"ggplot\")\n",
        "plt.figure()\n",
        "plt.plot(History[\"train_IoU\"], label=\"train_IoU\")\n",
        "plt.plot(History[\"val_IoU\"], label=\"val_IoU\")\n",
        "plt.title(\"Training IoU Score on Dataset\")\n",
        "plt.xlabel(\"Epoch #\")\n",
        "plt.ylabel(\"IoU Score\")\n",
        "plt.legend(loc=\"lower left\")\n",
        "x = plt.show()\n",
        "\n",
        "# Save the loss curve figure\n",
        "# plt.savefig()"
      ],
      "metadata": {
        "colab": {
          "base_uri": "https://localhost:8080/",
          "height": 598
        },
        "id": "_Rqtls_WiKXa",
        "outputId": "daf26f8d-8561-4f35-8bfe-38e26a778ea0"
      },
      "execution_count": null,
      "outputs": [
        {
          "output_type": "stream",
          "name": "stdout",
          "text": [
            "=> loaded checkpoint '/content/drive/MyDrive/ISIC-2017/Models/trial_checkpoint_unet.pth'\n"
          ]
        },
        {
          "output_type": "display_data",
          "data": {
            "image/png": "[encoded data removed]",
            "text/plain": [
              "<Figure size 432x288 with 1 Axes>"
            ]
          },
          "metadata": {}
        },
        {
          "output_type": "display_data",
          "data": {
            "image/png": "[encoded data removed]",
            "text/plain": [
              "<Figure size 432x288 with 1 Axes>"
            ]
          },
          "metadata": {}
        }
      ]
    },
    {
      "cell_type": "code",
      "source": [
        "# Train Loss and train accuracy at best epoch\n",
        "print(History[\"train_loss\"][48])\n",
        "print(History[\"train_IoU\"][48]*100,'%')"
      ],
      "metadata": {
        "colab": {
          "base_uri": "https://localhost:8080/"
        },
        "id": "6A3ILNjNZWiY",
        "outputId": "ea78af8c-3b9e-4467-cead-cb3aed2089f5"
      },
      "execution_count": null,
      "outputs": [
        {
          "output_type": "stream",
          "name": "stdout",
          "text": [
            "0.18778275\n",
            "81.22175335884094 %\n"
          ]
        }
      ]
    },
    {
      "cell_type": "markdown",
      "source": [
        ">> ### Train UNet Model with Batch Normalization\n",
        "*   Learning rate = 1e-3 (0.001) \n",
        "*   Batch size = 32\n",
        "\n",
        ">> **Note:** used a bigger learning rate, because of the use of Batch Normalization"
      ],
      "metadata": {
        "id": "OtiZUfTydkVA"
      }
    },
    {
      "cell_type": "code",
      "source": [
        "# Model Paths\n",
        "best_model_path = os.path.join(models_path, \"bn_best_unet.pth\")\n",
        "checkpoint_model_path = os.path.join(models_path, \"bn_checkpoint_unet.pth\")\n",
        "\n",
        "# Predictions Path\n",
        "predictions_path = os.path.join(unet_val_predictions_path, \"With Batch Normalization\")\n",
        "\n",
        "# Choose learning rate\n",
        "initial_lr = 0.001\n",
        "\n",
        "# Create model\n",
        "model = unet = UNet_BN().to(DEVICE)\n",
        "\n",
        "# Train model\n",
        "model, History = train(model, 50, train_loader, val_loader, \n",
        "          best_model_path, checkpoint_model_path, predictions_path,\n",
        "          load_from_checkpoint='last',\n",
        "          initial_lr=initial_lr)"
      ],
      "metadata": {
        "colab": {
          "base_uri": "https://localhost:8080/"
        },
        "id": "pdQA4yHndlnQ",
        "outputId": "8a9d9683-a570-4318-d7b7-1b4aa88cfdb4"
      },
      "execution_count": null,
      "outputs": [
        {
          "output_type": "stream",
          "name": "stdout",
          "text": [
            "=> loaded checkpoint '/content/drive/MyDrive/ISIC-2017/Models/bn_best_unet.pth'\n",
            "=> loaded checkpoint '/content/drive/MyDrive/ISIC-2017/Models/bn_checkpoint_unet.pth'\n",
            "Model has been trained for 20 epochs with best_IoU = 0.5947 and best_loss = 0.4053 at epoch 16\n",
            "\n"
          ]
        },
        {
          "output_type": "stream",
          "name": "stderr",
          "text": [
            "EPOCH: 21/50 - Training: 100%|██████████| 63/63 [04:02<00:00,  3.84s/it, IoU_score=0.831, loss=0.169]\n",
            "             - Validation: 100%|██████████| 5/5 [00:36<00:00,  7.40s/it, IoU_score=0.702, loss=0.298]\n"
          ]
        },
        {
          "output_type": "stream",
          "name": "stdout",
          "text": [
            "Avg Train Loss = 0.2735980749130249, Avg Train IoU = 0.7264019846916199, Avg Val Loss = 0.41404613852500916, Avg Val IoU = 0.5859538912773132  \n",
            "\n"
          ]
        },
        {
          "output_type": "stream",
          "name": "stderr",
          "text": [
            "EPOCH: 22/50 - Training: 100%|██████████| 63/63 [04:02<00:00,  3.85s/it, IoU_score=0.805, loss=0.195]\n",
            "             - Validation: 100%|██████████| 5/5 [00:36<00:00,  7.38s/it, IoU_score=0.726, loss=0.274]\n"
          ]
        },
        {
          "output_type": "stream",
          "name": "stdout",
          "text": [
            "Avg Train Loss = 0.2577436566352844, Avg Train IoU = 0.7422564625740051, Avg Val Loss = 0.3830765187740326, Avg Val IoU = 0.6169235110282898  \n",
            "=> saved best model\n",
            "\n"
          ]
        },
        {
          "output_type": "stream",
          "name": "stderr",
          "text": [
            "EPOCH: 23/50 - Training: 100%|██████████| 63/63 [04:03<00:00,  3.87s/it, IoU_score=0.867, loss=0.133]\n",
            "             - Validation: 100%|██████████| 5/5 [00:39<00:00,  7.89s/it, IoU_score=0.7, loss=0.3]\n"
          ]
        },
        {
          "output_type": "stream",
          "name": "stdout",
          "text": [
            "Avg Train Loss = 0.2702687084674835, Avg Train IoU = 0.7297312021255493, Avg Val Loss = 0.4690333902835846, Avg Val IoU = 0.5309666991233826  \n",
            "\n"
          ]
        },
        {
          "output_type": "stream",
          "name": "stderr",
          "text": [
            "EPOCH: 24/50 - Training: 100%|██████████| 63/63 [04:05<00:00,  3.90s/it, IoU_score=0.616, loss=0.384]\n",
            "             - Validation: 100%|██████████| 5/5 [00:38<00:00,  7.61s/it, IoU_score=0.591, loss=0.409]\n"
          ]
        },
        {
          "output_type": "stream",
          "name": "stdout",
          "text": [
            "Avg Train Loss = 0.26916083693504333, Avg Train IoU = 0.7308390736579895, Avg Val Loss = 0.4838876724243164, Avg Val IoU = 0.5161123275756836  \n",
            "\n"
          ]
        },
        {
          "output_type": "stream",
          "name": "stderr",
          "text": [
            "EPOCH: 25/50 - Training: 100%|██████████| 63/63 [04:09<00:00,  3.96s/it, IoU_score=0.795, loss=0.205]\n",
            "             - Validation: 100%|██████████| 5/5 [00:37<00:00,  7.54s/it, IoU_score=0.626, loss=0.374]\n"
          ]
        },
        {
          "output_type": "stream",
          "name": "stdout",
          "text": [
            "Avg Train Loss = 0.2628730535507202, Avg Train IoU = 0.7371270656585693, Avg Val Loss = 0.4516947865486145, Avg Val IoU = 0.5483052134513855  \n",
            "\n"
          ]
        },
        {
          "output_type": "stream",
          "name": "stderr",
          "text": [
            "EPOCH: 26/50 - Training: 100%|██████████| 63/63 [04:07<00:00,  3.93s/it, IoU_score=0.668, loss=0.332]\n",
            "             - Validation: 100%|██████████| 5/5 [00:38<00:00,  7.64s/it, IoU_score=0.607, loss=0.393]\n"
          ]
        },
        {
          "output_type": "stream",
          "name": "stdout",
          "text": [
            "Avg Train Loss = 0.2588702440261841, Avg Train IoU = 0.7411297559738159, Avg Val Loss = 0.4331183433532715, Avg Val IoU = 0.5668816566467285  \n",
            "\n"
          ]
        },
        {
          "output_type": "stream",
          "name": "stderr",
          "text": [
            "EPOCH: 27/50 - Training: 100%|██████████| 63/63 [04:06<00:00,  3.91s/it, IoU_score=0.75, loss=0.25]\n",
            "             - Validation: 100%|██████████| 5/5 [00:37<00:00,  7.50s/it, IoU_score=0.65, loss=0.35]\n"
          ]
        },
        {
          "output_type": "stream",
          "name": "stdout",
          "text": [
            "Avg Train Loss = 0.2788711488246918, Avg Train IoU = 0.7211287617683411, Avg Val Loss = 0.4236324429512024, Avg Val IoU = 0.5763675570487976  \n",
            "\n"
          ]
        },
        {
          "output_type": "stream",
          "name": "stderr",
          "text": [
            "EPOCH: 28/50 - Training: 100%|██████████| 63/63 [04:10<00:00,  3.97s/it, IoU_score=0.779, loss=0.221]\n",
            "             - Validation: 100%|██████████| 5/5 [00:36<00:00,  7.40s/it, IoU_score=0.513, loss=0.487]\n"
          ]
        },
        {
          "output_type": "stream",
          "name": "stdout",
          "text": [
            "Avg Train Loss = 0.2582383453845978, Avg Train IoU = 0.7417617440223694, Avg Val Loss = 0.6028366088867188, Avg Val IoU = 0.39716342091560364  \n",
            "\n"
          ]
        },
        {
          "output_type": "stream",
          "name": "stderr",
          "text": [
            "EPOCH: 29/50 - Training: 100%|██████████| 63/63 [04:01<00:00,  3.83s/it, IoU_score=0.7, loss=0.3]\n",
            "             - Validation: 100%|██████████| 5/5 [00:36<00:00,  7.37s/it, IoU_score=0.703, loss=0.297]\n"
          ]
        },
        {
          "output_type": "stream",
          "name": "stdout",
          "text": [
            "Avg Train Loss = 0.24886520206928253, Avg Train IoU = 0.7511348128318787, Avg Val Loss = 0.44539472460746765, Avg Val IoU = 0.5546053051948547  \n",
            "\n"
          ]
        },
        {
          "output_type": "stream",
          "name": "stderr",
          "text": [
            "EPOCH: 30/50 - Training: 100%|██████████| 63/63 [04:05<00:00,  3.90s/it, IoU_score=0.651, loss=0.349]\n",
            "             - Validation: 100%|██████████| 5/5 [00:37<00:00,  7.45s/it, IoU_score=0.577, loss=0.423]\n"
          ]
        },
        {
          "output_type": "stream",
          "name": "stdout",
          "text": [
            "Avg Train Loss = 0.26147350668907166, Avg Train IoU = 0.7385265827178955, Avg Val Loss = 0.4784204959869385, Avg Val IoU = 0.5215795040130615  \n",
            "\n"
          ]
        },
        {
          "output_type": "stream",
          "name": "stderr",
          "text": [
            "EPOCH: 31/50 - Training: 100%|██████████| 63/63 [04:04<00:00,  3.88s/it, IoU_score=0.834, loss=0.166]\n",
            "             - Validation: 100%|██████████| 5/5 [00:37<00:00,  7.47s/it, IoU_score=0.714, loss=0.286]\n"
          ]
        },
        {
          "output_type": "stream",
          "name": "stdout",
          "text": [
            "Avg Train Loss = 0.25108715891838074, Avg Train IoU = 0.748913049697876, Avg Val Loss = 0.4035269320011139, Avg Val IoU = 0.5964730978012085  \n",
            "\n"
          ]
        },
        {
          "output_type": "stream",
          "name": "stderr",
          "text": [
            "EPOCH: 32/50 - Training: 100%|██████████| 63/63 [04:06<00:00,  3.91s/it, IoU_score=0.609, loss=0.391]\n",
            "             - Validation: 100%|██████████| 5/5 [00:37<00:00,  7.46s/it, IoU_score=0.73, loss=0.27]\n"
          ]
        },
        {
          "output_type": "stream",
          "name": "stdout",
          "text": [
            "Avg Train Loss = 0.25681546330451965, Avg Train IoU = 0.7431846857070923, Avg Val Loss = 0.4108220040798187, Avg Val IoU = 0.5891780257225037  \n",
            "\n"
          ]
        },
        {
          "output_type": "stream",
          "name": "stderr",
          "text": [
            "EPOCH: 33/50 - Training: 100%|██████████| 63/63 [04:00<00:00,  3.82s/it, IoU_score=0.735, loss=0.265]\n",
            "             - Validation: 100%|██████████| 5/5 [00:36<00:00,  7.37s/it, IoU_score=0.712, loss=0.288]\n"
          ]
        },
        {
          "output_type": "stream",
          "name": "stdout",
          "text": [
            "Avg Train Loss = 0.2642521560192108, Avg Train IoU = 0.7357479929924011, Avg Val Loss = 0.3950765132904053, Avg Val IoU = 0.6049234867095947  \n",
            "\n"
          ]
        },
        {
          "output_type": "stream",
          "name": "stderr",
          "text": [
            "EPOCH: 34/50 - Training: 100%|██████████| 63/63 [03:59<00:00,  3.80s/it, IoU_score=0.772, loss=0.228]\n",
            "             - Validation: 100%|██████████| 5/5 [00:36<00:00,  7.32s/it, IoU_score=0.745, loss=0.255]\n"
          ]
        },
        {
          "output_type": "stream",
          "name": "stdout",
          "text": [
            "Avg Train Loss = 0.2472723126411438, Avg Train IoU = 0.7527278065681458, Avg Val Loss = 0.3864327073097229, Avg Val IoU = 0.6135672926902771  \n",
            "\n"
          ]
        },
        {
          "output_type": "stream",
          "name": "stderr",
          "text": [
            "EPOCH: 35/50 - Training: 100%|██████████| 63/63 [04:01<00:00,  3.83s/it, IoU_score=0.752, loss=0.248]\n",
            "             - Validation: 100%|██████████| 5/5 [00:37<00:00,  7.42s/it, IoU_score=0.741, loss=0.259]\n"
          ]
        },
        {
          "output_type": "stream",
          "name": "stdout",
          "text": [
            "Avg Train Loss = 0.2387538105249405, Avg Train IoU = 0.7612462639808655, Avg Val Loss = 0.4749038815498352, Avg Val IoU = 0.5250961780548096  \n",
            "\n"
          ]
        },
        {
          "output_type": "stream",
          "name": "stderr",
          "text": [
            "EPOCH: 36/50 - Training: 100%|██████████| 63/63 [04:01<00:00,  3.84s/it, IoU_score=0.647, loss=0.353]\n",
            "             - Validation: 100%|██████████| 5/5 [00:36<00:00,  7.39s/it, IoU_score=0.628, loss=0.372]\n"
          ]
        },
        {
          "output_type": "stream",
          "name": "stdout",
          "text": [
            "Avg Train Loss = 0.2485637366771698, Avg Train IoU = 0.7514364123344421, Avg Val Loss = 0.4758683145046234, Avg Val IoU = 0.524131715297699  \n",
            "\n"
          ]
        },
        {
          "output_type": "stream",
          "name": "stderr",
          "text": [
            "EPOCH: 37/50 - Training: 100%|██████████| 63/63 [04:01<00:00,  3.84s/it, IoU_score=0.691, loss=0.309]\n",
            "             - Validation: 100%|██████████| 5/5 [00:37<00:00,  7.42s/it, IoU_score=0.627, loss=0.373]\n"
          ]
        },
        {
          "output_type": "stream",
          "name": "stdout",
          "text": [
            "Avg Train Loss = 0.25413957238197327, Avg Train IoU = 0.7458605766296387, Avg Val Loss = 0.49620792269706726, Avg Val IoU = 0.5037921071052551  \n",
            "\n"
          ]
        },
        {
          "output_type": "stream",
          "name": "stderr",
          "text": [
            "EPOCH: 38/50 - Training: 100%|██████████| 63/63 [03:58<00:00,  3.78s/it, IoU_score=0.795, loss=0.205]\n",
            "             - Validation: 100%|██████████| 5/5 [00:36<00:00,  7.35s/it, IoU_score=0.715, loss=0.285]\n"
          ]
        },
        {
          "output_type": "stream",
          "name": "stdout",
          "text": [
            "Avg Train Loss = 0.25488051772117615, Avg Train IoU = 0.7451194524765015, Avg Val Loss = 0.3819701373577118, Avg Val IoU = 0.6180298924446106  \n",
            "=> saved best model\n",
            "\n"
          ]
        },
        {
          "output_type": "stream",
          "name": "stderr",
          "text": [
            "EPOCH: 39/50 - Training: 100%|██████████| 63/63 [04:02<00:00,  3.86s/it, IoU_score=0.683, loss=0.317]\n",
            "             - Validation: 100%|██████████| 5/5 [00:36<00:00,  7.31s/it, IoU_score=0.624, loss=0.376]\n"
          ]
        },
        {
          "output_type": "stream",
          "name": "stdout",
          "text": [
            "Avg Train Loss = 0.24127231538295746, Avg Train IoU = 0.7587279677391052, Avg Val Loss = 0.4526447355747223, Avg Val IoU = 0.5473552942276001  \n",
            "\n"
          ]
        },
        {
          "output_type": "stream",
          "name": "stderr",
          "text": [
            "EPOCH: 40/50 - Training: 100%|██████████| 63/63 [04:04<00:00,  3.87s/it, IoU_score=0.653, loss=0.347]\n",
            "             - Validation: 100%|██████████| 5/5 [00:36<00:00,  7.39s/it, IoU_score=0.722, loss=0.278]\n"
          ]
        },
        {
          "output_type": "stream",
          "name": "stdout",
          "text": [
            "Avg Train Loss = 0.2475470006465912, Avg Train IoU = 0.7524529695510864, Avg Val Loss = 0.38907191157341003, Avg Val IoU = 0.6109280586242676  \n",
            "\n"
          ]
        },
        {
          "output_type": "stream",
          "name": "stderr",
          "text": [
            "EPOCH: 41/50 - Training: 100%|██████████| 63/63 [04:02<00:00,  3.85s/it, IoU_score=0.739, loss=0.261]\n",
            "             - Validation: 100%|██████████| 5/5 [00:36<00:00,  7.35s/it, IoU_score=0.759, loss=0.241]\n"
          ]
        },
        {
          "output_type": "stream",
          "name": "stdout",
          "text": [
            "Avg Train Loss = 0.2513977587223053, Avg Train IoU = 0.7486023902893066, Avg Val Loss = 0.48384925723075867, Avg Val IoU = 0.5161507725715637  \n",
            "\n"
          ]
        },
        {
          "output_type": "stream",
          "name": "stderr",
          "text": [
            "EPOCH: 42/50 - Training: 100%|██████████| 63/63 [03:59<00:00,  3.81s/it, IoU_score=0.846, loss=0.154]\n",
            "             - Validation: 100%|██████████| 5/5 [00:37<00:00,  7.45s/it, IoU_score=0.676, loss=0.324]\n"
          ]
        },
        {
          "output_type": "stream",
          "name": "stdout",
          "text": [
            "Avg Train Loss = 0.24248255789279938, Avg Train IoU = 0.7575175762176514, Avg Val Loss = 0.4070684611797333, Avg Val IoU = 0.5929315686225891  \n",
            "\n"
          ]
        },
        {
          "output_type": "stream",
          "name": "stderr",
          "text": [
            "EPOCH: 43/50 - Training: 100%|██████████| 63/63 [04:00<00:00,  3.81s/it, IoU_score=0.79, loss=0.21]\n",
            "             - Validation: 100%|██████████| 5/5 [00:36<00:00,  7.36s/it, IoU_score=0.698, loss=0.302]\n"
          ]
        },
        {
          "output_type": "stream",
          "name": "stdout",
          "text": [
            "Avg Train Loss = 0.23440517485141754, Avg Train IoU = 0.7655948996543884, Avg Val Loss = 0.3603489100933075, Avg Val IoU = 0.6396511197090149  \n",
            "=> saved best model\n",
            "\n"
          ]
        },
        {
          "output_type": "stream",
          "name": "stderr",
          "text": [
            "EPOCH: 44/50 - Training: 100%|██████████| 63/63 [04:01<00:00,  3.83s/it, IoU_score=0.788, loss=0.212]\n",
            "             - Validation: 100%|██████████| 5/5 [00:36<00:00,  7.37s/it, IoU_score=0.747, loss=0.253]\n"
          ]
        },
        {
          "output_type": "stream",
          "name": "stdout",
          "text": [
            "Avg Train Loss = 0.2426493912935257, Avg Train IoU = 0.7573508024215698, Avg Val Loss = 0.39838409423828125, Avg Val IoU = 0.6016159653663635  \n",
            "\n"
          ]
        },
        {
          "output_type": "stream",
          "name": "stderr",
          "text": [
            "EPOCH: 45/50 - Training: 100%|██████████| 63/63 [04:01<00:00,  3.83s/it, IoU_score=0.653, loss=0.347]\n",
            "             - Validation: 100%|██████████| 5/5 [00:36<00:00,  7.30s/it, IoU_score=0.676, loss=0.324]\n"
          ]
        },
        {
          "output_type": "stream",
          "name": "stdout",
          "text": [
            "Avg Train Loss = 0.24609409272670746, Avg Train IoU = 0.7539060711860657, Avg Val Loss = 0.43357744812965393, Avg Val IoU = 0.5664225816726685  \n",
            "\n"
          ]
        },
        {
          "output_type": "stream",
          "name": "stderr",
          "text": [
            "EPOCH: 46/50 - Training: 100%|██████████| 63/63 [04:02<00:00,  3.86s/it, IoU_score=0.816, loss=0.184]\n",
            "             - Validation: 100%|██████████| 5/5 [00:36<00:00,  7.36s/it, IoU_score=0.571, loss=0.429]\n"
          ]
        },
        {
          "output_type": "stream",
          "name": "stdout",
          "text": [
            "Avg Train Loss = 0.24819865822792053, Avg Train IoU = 0.7518015503883362, Avg Val Loss = 0.5423714518547058, Avg Val IoU = 0.4576285779476166  \n",
            "\n"
          ]
        },
        {
          "output_type": "stream",
          "name": "stderr",
          "text": [
            "EPOCH: 47/50 - Training: 100%|██████████| 63/63 [03:57<00:00,  3.77s/it, IoU_score=0.8, loss=0.2]\n",
            "             - Validation: 100%|██████████| 5/5 [00:36<00:00,  7.38s/it, IoU_score=0.52, loss=0.48]\n"
          ]
        },
        {
          "output_type": "stream",
          "name": "stdout",
          "text": [
            "Avg Train Loss = 0.2353854477405548, Avg Train IoU = 0.7646145820617676, Avg Val Loss = 0.6062936186790466, Avg Val IoU = 0.39370641112327576  \n",
            "\n"
          ]
        },
        {
          "output_type": "stream",
          "name": "stderr",
          "text": [
            "EPOCH: 48/50 - Training: 100%|██████████| 63/63 [04:02<00:00,  3.85s/it, IoU_score=0.812, loss=0.188]\n",
            "             - Validation: 100%|██████████| 5/5 [00:36<00:00,  7.26s/it, IoU_score=0.548, loss=0.452]\n"
          ]
        },
        {
          "output_type": "stream",
          "name": "stdout",
          "text": [
            "Avg Train Loss = 0.23853373527526855, Avg Train IoU = 0.7614665627479553, Avg Val Loss = 0.4873724579811096, Avg Val IoU = 0.5126276016235352  \n",
            "\n"
          ]
        },
        {
          "output_type": "stream",
          "name": "stderr",
          "text": [
            "EPOCH: 49/50 - Training: 100%|██████████| 63/63 [04:01<00:00,  3.84s/it, IoU_score=0.782, loss=0.218]\n",
            "             - Validation: 100%|██████████| 5/5 [00:37<00:00,  7.42s/it, IoU_score=0.717, loss=0.283]\n"
          ]
        },
        {
          "output_type": "stream",
          "name": "stdout",
          "text": [
            "Avg Train Loss = 0.25179603695869446, Avg Train IoU = 0.7482039928436279, Avg Val Loss = 0.40655097365379333, Avg Val IoU = 0.593449056148529  \n",
            "\n"
          ]
        },
        {
          "output_type": "stream",
          "name": "stderr",
          "text": [
            "EPOCH: 50/50 - Training: 100%|██████████| 63/63 [04:01<00:00,  3.83s/it, IoU_score=0.764, loss=0.236]\n",
            "             - Validation: 100%|██████████| 5/5 [00:36<00:00,  7.29s/it, IoU_score=0.651, loss=0.349]\n"
          ]
        },
        {
          "output_type": "stream",
          "name": "stdout",
          "text": [
            "Avg Train Loss = 0.24021326005458832, Avg Train IoU = 0.7597869634628296, Avg Val Loss = 0.46662554144859314, Avg Val IoU = 0.5333744883537292  \n",
            "\n",
            "Best val_loss = 0.3603489100933075 , Best val_score = 0.6396511197090149 at Epoch 43.\n"
          ]
        }
      ]
    },
    {
      "cell_type": "code",
      "source": [
        "# Best Model Path\n",
        "model_path = os.path.join(models_path, \"bn_checkpoint_unet.pth\")\n",
        "\n",
        "# Load Model\n",
        "model = UNet_BN().to(DEVICE)\n",
        "model, optimizer, scaler, states = load_checkpoint(model, model_path)\n",
        "History = states['history']\n",
        "\n",
        "# 1. plot the loss curve\n",
        "plt.style.use(\"ggplot\")\n",
        "plt.figure()\n",
        "plt.plot(History[\"train_loss\"], label=\"train_loss\")\n",
        "plt.plot(History[\"val_loss\"], label=\"val_loss\")\n",
        "plt.title(\"Training Loss on Dataset\")\n",
        "plt.xlabel(\"Epoch #\")\n",
        "plt.ylabel(\"Loss\")\n",
        "plt.legend(loc=\"lower left\")\n",
        "x = plt.show()\n",
        "\n",
        "# Save the loss curve figure\n",
        "# plt.savefig()\n",
        "\n",
        "# 2. plot the IoU score curve\n",
        "plt.style.use(\"ggplot\")\n",
        "plt.figure()\n",
        "plt.plot(History[\"train_IoU\"], label=\"train_IoU\")\n",
        "plt.plot(History[\"val_IoU\"], label=\"val_IoU\")\n",
        "plt.title(\"Training IoU Score on Dataset\")\n",
        "plt.xlabel(\"Epoch #\")\n",
        "plt.ylabel(\"IoU Score\")\n",
        "plt.legend(loc=\"lower left\")\n",
        "x = plt.show()\n",
        "\n",
        "# Save the loss curve figure\n",
        "# plt.savefig()"
      ],
      "metadata": {
        "id": "t9y3B-_D7doF",
        "colab": {
          "base_uri": "https://localhost:8080/",
          "height": 598
        },
        "outputId": "a19e855b-6171-4452-b359-5ee740932099"
      },
      "execution_count": null,
      "outputs": [
        {
          "output_type": "stream",
          "name": "stdout",
          "text": [
            "=> loaded checkpoint '/content/drive/MyDrive/ISIC-2017/Models/bn_checkpoint_unet.pth'\n"
          ]
        },
        {
          "output_type": "display_data",
          "data": {
            "image/png": "[encoded data removed]",
            "text/plain": [
              "<Figure size 432x288 with 1 Axes>"
            ]
          },
          "metadata": {}
        },
        {
          "output_type": "display_data",
          "data": {
            "image/png": "[encoded data removed]",
            "text/plain": [
              "<Figure size 432x288 with 1 Axes>"
            ]
          },
          "metadata": {}
        }
      ]
    },
    {
      "cell_type": "code",
      "source": [
        "# Train Loss and train accuracy at best epoch\n",
        "print(History[\"train_loss\"][42])\n",
        "print(History[\"train_IoU\"][42]*100,'%')"
      ],
      "metadata": {
        "colab": {
          "base_uri": "https://localhost:8080/"
        },
        "id": "DCyuqmtyXpSg",
        "outputId": "d37c1acf-9f29-41ff-f613-96f3faf74258"
      },
      "execution_count": null,
      "outputs": [
        {
          "output_type": "stream",
          "name": "stdout",
          "text": [
            "0.23440517\n",
            "76.55948996543884 %\n"
          ]
        }
      ]
    },
    {
      "cell_type": "markdown",
      "source": [
        "> ## 4. FCN Training <br>"
      ],
      "metadata": {
        "id": "CUyRAcfyjTsQ"
      }
    },
    {
      "cell_type": "markdown",
      "metadata": {
        "id": "EM0TzIWWlGB9"
      },
      "source": [
        ">> ### Fine-tuning"
      ]
    },
    {
      "cell_type": "markdown",
      "metadata": {
        "id": "O4DH0VSvf49Q"
      },
      "source": [
        "1. lr = 0.1"
      ]
    },
    {
      "cell_type": "code",
      "execution_count": null,
      "metadata": {
        "colab": {
          "base_uri": "https://localhost:8080/"
        },
        "id": "Tpglgz2nf49Q",
        "outputId": "b0a96900-9ead-4938-ef8a-96555ccbe479"
      },
      "outputs": [
        {
          "name": "stderr",
          "output_type": "stream",
          "text": [
            "EPOCH: 1/5 - Training: 100%|██████████| 63/63 [15:33<00:00, 14.81s/it, IoU_score=0.236, loss=0.764]\n",
            "             - Validation: 100%|██████████| 5/5 [02:31<00:00, 30.36s/it, IoU_score=0.438, loss=0.562]\n"
          ]
        },
        {
          "name": "stdout",
          "output_type": "stream",
          "text": [
            "Avg Train Loss = 0.8057842254638672, Avg Train IoU = 0.19421567022800446, Avg Val Loss = 0.8097643852233887, Avg Val IoU = 0.19023564457893372  \n",
            "=> saved best model\n",
            "\n"
          ]
        },
        {
          "name": "stderr",
          "output_type": "stream",
          "text": [
            "EPOCH: 2/5 - Training: 100%|██████████| 63/63 [05:32<00:00,  5.28s/it, IoU_score=0.233, loss=0.767]\n",
            "             - Validation: 100%|██████████| 5/5 [00:48<00:00,  9.64s/it, IoU_score=0.438, loss=0.562]\n"
          ]
        },
        {
          "name": "stdout",
          "output_type": "stream",
          "text": [
            "Avg Train Loss = 0.8058115243911743, Avg Train IoU = 0.19418847560882568, Avg Val Loss = 0.8097643852233887, Avg Val IoU = 0.19023564457893372  \n",
            "\n"
          ]
        },
        {
          "name": "stderr",
          "output_type": "stream",
          "text": [
            "EPOCH: 3/5 - Training: 100%|██████████| 63/63 [05:35<00:00,  5.32s/it, IoU_score=0.182, loss=0.818]\n",
            "             - Validation: 100%|██████████| 5/5 [00:47<00:00,  9.54s/it, IoU_score=0.438, loss=0.562]\n"
          ]
        },
        {
          "name": "stdout",
          "output_type": "stream",
          "text": [
            "Avg Train Loss = 0.8062129020690918, Avg Train IoU = 0.19378729164600372, Avg Val Loss = 0.8097643852233887, Avg Val IoU = 0.19023564457893372  \n",
            "\n"
          ]
        },
        {
          "name": "stderr",
          "output_type": "stream",
          "text": [
            "EPOCH: 4/5 - Training: 100%|██████████| 63/63 [05:39<00:00,  5.39s/it, IoU_score=0.234, loss=0.766]\n",
            "             - Validation: 100%|██████████| 5/5 [00:48<00:00,  9.61s/it, IoU_score=0.438, loss=0.562]\n"
          ]
        },
        {
          "name": "stdout",
          "output_type": "stream",
          "text": [
            "Avg Train Loss = 0.8058038949966431, Avg Train IoU = 0.1941962093114853, Avg Val Loss = 0.8097643852233887, Avg Val IoU = 0.19023564457893372  \n",
            "\n"
          ]
        },
        {
          "name": "stderr",
          "output_type": "stream",
          "text": [
            "EPOCH: 5/5 - Training: 100%|██████████| 63/63 [05:36<00:00,  5.34s/it, IoU_score=0.14, loss=0.86]\n",
            "             - Validation: 100%|██████████| 5/5 [00:47<00:00,  9.57s/it, IoU_score=0.438, loss=0.562]\n"
          ]
        },
        {
          "name": "stdout",
          "output_type": "stream",
          "text": [
            "Avg Train Loss = 0.8065523505210876, Avg Train IoU = 0.19344770908355713, Avg Val Loss = 0.8097643852233887, Avg Val IoU = 0.19023564457893372  \n",
            "\n",
            "Best val_loss = 0.8097643852233887 , Best val_score = 0.19023564457893372 at Epoch 1.\n"
          ]
        }
      ],
      "source": [
        "# Model Paths\n",
        "best_model_path = os.path.join(models_path, \"finetuning_0.1_best_fcn.pth\")\n",
        "checkpoint_model_path = os.path.join(models_path, \"finetuning_0.1_checkpoint_fcn.pth\")\n",
        "\n",
        "# Predictions Path\n",
        "predictions_path = os.path.join(fcn_val_predictions_path, \"Finetuning\")\n",
        "\n",
        "# Choose learning rate\n",
        "initial_lr = 0.1\n",
        "\n",
        "# Create model\n",
        "model = FCN_VGG16().to(DEVICE)\n",
        "\n",
        "# Train model\n",
        "model, History = train(model, 5, small_train_loader, val_loader, \n",
        "          best_model_path, checkpoint_model_path, predictions_path,\n",
        "          load_from_checkpoint=None,\n",
        "          initial_lr=initial_lr)"
      ]
    },
    {
      "cell_type": "markdown",
      "metadata": {
        "id": "-DbsfJRc05vo"
      },
      "source": [
        "1. lr = 0.01"
      ]
    },
    {
      "cell_type": "code",
      "execution_count": null,
      "metadata": {
        "colab": {
          "base_uri": "https://localhost:8080/"
        },
        "id": "adQC2WEGlE8P",
        "outputId": "d31278cc-d377-4603-9d68-b1d0a76dfae9"
      },
      "outputs": [
        {
          "name": "stderr",
          "output_type": "stream",
          "text": [
            "EPOCH: 1/5 - Training: 100%|██████████| 63/63 [05:39<00:00,  5.39s/it, IoU_score=0, loss=1]\n",
            "             - Validation: 100%|██████████| 5/5 [00:47<00:00,  9.59s/it, IoU_score=0, loss=1]\n"
          ]
        },
        {
          "name": "stdout",
          "output_type": "stream",
          "text": [
            "Avg Train Loss = 1.0, Avg Train IoU = 0.0, Avg Val Loss = 1.0, Avg Val IoU = 0.0  \n",
            "=> saved best model\n",
            "\n"
          ]
        },
        {
          "name": "stderr",
          "output_type": "stream",
          "text": [
            "EPOCH: 2/5 - Training: 100%|██████████| 63/63 [05:41<00:00,  5.42s/it, IoU_score=0, loss=1]\n",
            "             - Validation: 100%|██████████| 5/5 [00:48<00:00,  9.72s/it, IoU_score=0, loss=1]\n"
          ]
        },
        {
          "name": "stdout",
          "output_type": "stream",
          "text": [
            "Avg Train Loss = 1.0, Avg Train IoU = 0.0, Avg Val Loss = 1.0, Avg Val IoU = 0.0  \n",
            "\n"
          ]
        },
        {
          "name": "stderr",
          "output_type": "stream",
          "text": [
            "EPOCH: 3/5 - Training: 100%|██████████| 63/63 [05:37<00:00,  5.36s/it, IoU_score=0.235, loss=0.765]\n",
            "             - Validation: 100%|██████████| 5/5 [00:48<00:00,  9.68s/it, IoU_score=0.438, loss=0.562]\n"
          ]
        },
        {
          "name": "stdout",
          "output_type": "stream",
          "text": [
            "Avg Train Loss = 0.8115888833999634, Avg Train IoU = 0.18841131031513214, Avg Val Loss = 0.8097643852233887, Avg Val IoU = 0.19023564457893372  \n",
            "=> saved best model\n",
            "\n"
          ]
        },
        {
          "name": "stderr",
          "output_type": "stream",
          "text": [
            "EPOCH: 4/5 - Training: 100%|██████████| 63/63 [05:41<00:00,  5.42s/it, IoU_score=0.192, loss=0.808]\n",
            "             - Validation: 100%|██████████| 5/5 [00:48<00:00,  9.63s/it, IoU_score=0.438, loss=0.562]\n"
          ]
        },
        {
          "name": "stdout",
          "output_type": "stream",
          "text": [
            "Avg Train Loss = 0.8061374425888062, Avg Train IoU = 0.19386248290538788, Avg Val Loss = 0.8097643852233887, Avg Val IoU = 0.19023564457893372  \n",
            "\n"
          ]
        },
        {
          "name": "stderr",
          "output_type": "stream",
          "text": [
            "EPOCH: 5/5 - Training: 100%|██████████| 63/63 [05:38<00:00,  5.37s/it, IoU_score=0.218, loss=0.782]\n",
            "             - Validation: 100%|██████████| 5/5 [00:48<00:00,  9.73s/it, IoU_score=0.438, loss=0.562]\n"
          ]
        },
        {
          "name": "stdout",
          "output_type": "stream",
          "text": [
            "Avg Train Loss = 0.8059313297271729, Avg Train IoU = 0.19406884908676147, Avg Val Loss = 0.8097643852233887, Avg Val IoU = 0.19023564457893372  \n",
            "\n",
            "Best val_loss = 0.8097643852233887 , Best val_score = 0.19023564457893372 at Epoch 3.\n"
          ]
        }
      ],
      "source": [
        "# Model Paths\n",
        "best_model_path = os.path.join(models_path, \"finetuning_0.01_best_fcn.pth\")\n",
        "checkpoint_model_path = os.path.join(models_path, \"finetuning_0.01_checkpoint_fcn.pth\")\n",
        "\n",
        "# Predictions Path\n",
        "predictions_path = os.path.join(fcn_val_predictions_path, \"Finetuning\")\n",
        "\n",
        "# Choose learning rate\n",
        "initial_lr = 0.01\n",
        "\n",
        "# Create model\n",
        "model = FCN_VGG16().to(DEVICE)\n",
        "\n",
        "# Train model\n",
        "model, History = train(model, 5, small_train_loader, val_loader, \n",
        "          best_model_path, checkpoint_model_path, predictions_path,\n",
        "          load_from_checkpoint=None,\n",
        "          initial_lr=initial_lr)"
      ]
    },
    {
      "cell_type": "markdown",
      "metadata": {
        "id": "kaT0Fs_p08Gt"
      },
      "source": [
        "2. lr = 0.001"
      ]
    },
    {
      "cell_type": "code",
      "execution_count": null,
      "metadata": {
        "colab": {
          "base_uri": "https://localhost:8080/"
        },
        "id": "ZJompve708Gu",
        "outputId": "2222a618-5ab1-4f54-ae49-0af58c8c6dd4"
      },
      "outputs": [
        {
          "name": "stderr",
          "output_type": "stream",
          "text": [
            "EPOCH: 1/5 - Training: 100%|██████████| 63/63 [05:38<00:00,  5.37s/it, IoU_score=0.207, loss=0.793]\n",
            "             - Validation: 100%|██████████| 5/5 [00:48<00:00,  9.65s/it, IoU_score=0.438, loss=0.562]\n"
          ]
        },
        {
          "name": "stdout",
          "output_type": "stream",
          "text": [
            "Avg Train Loss = 0.8060154914855957, Avg Train IoU = 0.19398444890975952, Avg Val Loss = 0.8097643852233887, Avg Val IoU = 0.19023564457893372  \n",
            "=> saved best model\n",
            "\n"
          ]
        },
        {
          "name": "stderr",
          "output_type": "stream",
          "text": [
            "EPOCH: 2/5 - Training: 100%|██████████| 63/63 [05:39<00:00,  5.38s/it, IoU_score=0.191, loss=0.809]\n",
            "             - Validation: 100%|██████████| 5/5 [00:48<00:00,  9.62s/it, IoU_score=0.438, loss=0.562]\n"
          ]
        },
        {
          "name": "stdout",
          "output_type": "stream",
          "text": [
            "Avg Train Loss = 0.8061449527740479, Avg Train IoU = 0.19385510683059692, Avg Val Loss = 0.8097643852233887, Avg Val IoU = 0.19023564457893372  \n",
            "\n"
          ]
        },
        {
          "name": "stderr",
          "output_type": "stream",
          "text": [
            "EPOCH: 3/5 - Training: 100%|██████████| 63/63 [05:37<00:00,  5.36s/it, IoU_score=0.289, loss=0.711]\n",
            "             - Validation: 100%|██████████| 5/5 [00:47<00:00,  9.59s/it, IoU_score=0.438, loss=0.562]\n"
          ]
        },
        {
          "name": "stdout",
          "output_type": "stream",
          "text": [
            "Avg Train Loss = 0.8053645491600037, Avg Train IoU = 0.1946352869272232, Avg Val Loss = 0.8097643852233887, Avg Val IoU = 0.19023564457893372  \n",
            "\n"
          ]
        },
        {
          "name": "stderr",
          "output_type": "stream",
          "text": [
            "EPOCH: 4/5 - Training: 100%|██████████| 63/63 [05:40<00:00,  5.41s/it, IoU_score=0.154, loss=0.846]\n",
            "             - Validation: 100%|██████████| 5/5 [00:48<00:00,  9.61s/it, IoU_score=0.438, loss=0.562]\n"
          ]
        },
        {
          "name": "stdout",
          "output_type": "stream",
          "text": [
            "Avg Train Loss = 0.8064402937889099, Avg Train IoU = 0.19355961680412292, Avg Val Loss = 0.8097643852233887, Avg Val IoU = 0.19023564457893372  \n",
            "\n"
          ]
        },
        {
          "name": "stderr",
          "output_type": "stream",
          "text": [
            "EPOCH: 5/5 - Training: 100%|██████████| 63/63 [05:39<00:00,  5.38s/it, IoU_score=0.155, loss=0.845]\n",
            "             - Validation: 100%|██████████| 5/5 [00:48<00:00,  9.72s/it, IoU_score=0.438, loss=0.562]\n"
          ]
        },
        {
          "name": "stdout",
          "output_type": "stream",
          "text": [
            "Avg Train Loss = 0.8064283728599548, Avg Train IoU = 0.1935717612504959, Avg Val Loss = 0.8097643852233887, Avg Val IoU = 0.19023564457893372  \n",
            "\n",
            "Best val_loss = 0.8097643852233887 , Best val_score = 0.19023564457893372 at Epoch 1.\n"
          ]
        }
      ],
      "source": [
        "# Model Paths\n",
        "best_model_path = os.path.join(models_path, \"finetuning_0.001_best_fcn.pth\")\n",
        "checkpoint_model_path = os.path.join(models_path, \"finetuning_0.001_checkpoint_fcn.pth\")\n",
        "\n",
        "# Predictions Path\n",
        "predictions_path = os.path.join(fcn_val_predictions_path, \"Finetuning\")\n",
        "\n",
        "# Choose learning rate\n",
        "initial_lr = 0.001\n",
        "\n",
        "# Create model\n",
        "model = FCN_VGG16().to(DEVICE)\n",
        "\n",
        "# Train model\n",
        "model, History = train(model, 5, small_train_loader, small_val_loader, \n",
        "          best_model_path, checkpoint_model_path, predictions_path,\n",
        "          load_from_checkpoint=None,\n",
        "          initial_lr=initial_lr)"
      ]
    },
    {
      "cell_type": "markdown",
      "metadata": {
        "id": "rAu--JOs0_2q"
      },
      "source": [
        "3. lr = 0.0001"
      ]
    },
    {
      "cell_type": "code",
      "execution_count": null,
      "metadata": {
        "colab": {
          "base_uri": "https://localhost:8080/"
        },
        "id": "CAN-qMYP0_2r",
        "outputId": "3df39fed-ea0e-49a6-d7e9-d4185dd58583"
      },
      "outputs": [
        {
          "name": "stderr",
          "output_type": "stream",
          "text": [
            "EPOCH: 1/5 - Training: 100%|██████████| 63/63 [16:13<00:00, 15.44s/it, IoU_score=0.236, loss=0.764]\n",
            "             - Validation: 100%|██████████| 5/5 [02:08<00:00, 25.69s/it, IoU_score=0.438, loss=0.562]\n"
          ]
        },
        {
          "name": "stdout",
          "output_type": "stream",
          "text": [
            "Avg Train Loss = 0.8057842254638672, Avg Train IoU = 0.19421567022800446, Avg Val Loss = 0.8097643852233887, Avg Val IoU = 0.19023564457893372  \n",
            "=> saved best model\n",
            "\n"
          ]
        },
        {
          "name": "stderr",
          "output_type": "stream",
          "text": [
            "EPOCH: 2/5 - Training: 100%|██████████| 63/63 [05:43<00:00,  5.46s/it, IoU_score=0.233, loss=0.767]\n",
            "             - Validation: 100%|██████████| 5/5 [00:50<00:00, 10.10s/it, IoU_score=0.438, loss=0.562]\n"
          ]
        },
        {
          "name": "stdout",
          "output_type": "stream",
          "text": [
            "Avg Train Loss = 0.8058115243911743, Avg Train IoU = 0.19418847560882568, Avg Val Loss = 0.8097643852233887, Avg Val IoU = 0.19023564457893372  \n",
            "\n"
          ]
        },
        {
          "name": "stderr",
          "output_type": "stream",
          "text": [
            "EPOCH: 3/5 - Training: 100%|██████████| 63/63 [05:45<00:00,  5.48s/it, IoU_score=0.182, loss=0.818]\n",
            "             - Validation: 100%|██████████| 5/5 [00:49<00:00,  9.92s/it, IoU_score=0.438, loss=0.562]\n"
          ]
        },
        {
          "name": "stdout",
          "output_type": "stream",
          "text": [
            "Avg Train Loss = 0.8062129020690918, Avg Train IoU = 0.19378729164600372, Avg Val Loss = 0.8097643852233887, Avg Val IoU = 0.19023564457893372  \n",
            "\n"
          ]
        },
        {
          "name": "stderr",
          "output_type": "stream",
          "text": [
            "EPOCH: 4/5 - Training: 100%|██████████| 63/63 [05:50<00:00,  5.56s/it, IoU_score=0.234, loss=0.766]\n",
            "             - Validation: 100%|██████████| 5/5 [00:49<00:00,  9.88s/it, IoU_score=0.438, loss=0.562]\n"
          ]
        },
        {
          "name": "stdout",
          "output_type": "stream",
          "text": [
            "Avg Train Loss = 0.8058038949966431, Avg Train IoU = 0.1941962093114853, Avg Val Loss = 0.8097643852233887, Avg Val IoU = 0.19023564457893372  \n",
            "\n"
          ]
        },
        {
          "name": "stderr",
          "output_type": "stream",
          "text": [
            "EPOCH: 5/5 - Training: 100%|██████████| 63/63 [05:47<00:00,  5.51s/it, IoU_score=0.14, loss=0.86]\n",
            "             - Validation: 100%|██████████| 5/5 [00:49<00:00,  9.98s/it, IoU_score=0.438, loss=0.562]\n"
          ]
        },
        {
          "name": "stdout",
          "output_type": "stream",
          "text": [
            "Avg Train Loss = 0.8065523505210876, Avg Train IoU = 0.19344770908355713, Avg Val Loss = 0.8097643852233887, Avg Val IoU = 0.19023564457893372  \n",
            "\n",
            "Best val_loss = 0.8097643852233887 , Best val_score = 0.19023564457893372 at Epoch 1.\n"
          ]
        }
      ],
      "source": [
        "# Model Paths\n",
        "best_model_path = os.path.join(models_path, \"finetuning_0.0001_best_fcn.pth\")\n",
        "checkpoint_model_path = os.path.join(models_path, \"finetuning_0.0001_checkpoint_fcn.pth\")\n",
        "\n",
        "# Predictions Path\n",
        "predictions_path = os.path.join(fcn_val_predictions_path, \"Finetuning\")\n",
        "\n",
        "# Choose learning rate\n",
        "initial_lr = 0.0001\n",
        "\n",
        "# Create model\n",
        "model = FCN_VGG16().to(DEVICE)\n",
        "\n",
        "# Train model\n",
        "model, History = train(model, 5, small_train_loader, small_val_loader, \n",
        "          best_model_path, checkpoint_model_path, predictions_path,\n",
        "          load_from_checkpoint=None,\n",
        "          initial_lr=initial_lr)"
      ]
    },
    {
      "cell_type": "markdown",
      "source": [
        ">> ### Training from scratch "
      ],
      "metadata": {
        "id": "BOCOrwgYlIbD"
      }
    },
    {
      "cell_type": "code",
      "execution_count": null,
      "metadata": {
        "colab": {
          "base_uri": "https://localhost:8080/"
        },
        "id": "rFaneYoSjZ6I",
        "outputId": "43734ce0-b239-4d6e-c9d1-2c8e02f4f5ea"
      },
      "outputs": [
        {
          "output_type": "stream",
          "name": "stdout",
          "text": [
            "=> loaded checkpoint '/content/drive/MyDrive/ISIC-2017/Models/trial_best_fcn.pth'\n",
            "=> loaded checkpoint '/content/drive/MyDrive/ISIC-2017/Models/trial_checkpoint_fcn.pth'\n",
            "Model has been trained for 45 epochs with best_IoU = 0.1902 and best_loss = 0.8098 at epoch 1\n",
            "\n"
          ]
        },
        {
          "output_type": "stream",
          "name": "stderr",
          "text": [
            "EPOCH: 46/50 - Training: 100%|██████████| 63/63 [08:27<00:00,  8.06s/it, IoU_score=0.236, loss=0.764]\n",
            "             - Validation: 100%|██████████| 5/5 [01:17<00:00, 15.56s/it, IoU_score=0.438, loss=0.562]\n"
          ]
        },
        {
          "output_type": "stream",
          "name": "stdout",
          "text": [
            "Avg Train Loss = 0.8057842254638672, Avg Train IoU = 0.19421567022800446, Avg Val Loss = 0.8097643852233887, Avg Val IoU = 0.19023564457893372  \n",
            "\n"
          ]
        },
        {
          "output_type": "stream",
          "name": "stderr",
          "text": [
            "EPOCH: 47/50 - Training: 100%|██████████| 63/63 [03:47<00:00,  3.61s/it, IoU_score=0.233, loss=0.767]\n",
            "             - Validation: 100%|██████████| 5/5 [00:36<00:00,  7.37s/it, IoU_score=0.438, loss=0.562]\n"
          ]
        },
        {
          "output_type": "stream",
          "name": "stdout",
          "text": [
            "Avg Train Loss = 0.8058115243911743, Avg Train IoU = 0.19418847560882568, Avg Val Loss = 0.8097643852233887, Avg Val IoU = 0.19023564457893372  \n",
            "\n"
          ]
        },
        {
          "output_type": "stream",
          "name": "stderr",
          "text": [
            "EPOCH: 48/50 - Training: 100%|██████████| 63/63 [03:48<00:00,  3.62s/it, IoU_score=0.182, loss=0.818]\n",
            "             - Validation: 100%|██████████| 5/5 [00:36<00:00,  7.38s/it, IoU_score=0.438, loss=0.562]\n"
          ]
        },
        {
          "output_type": "stream",
          "name": "stdout",
          "text": [
            "Avg Train Loss = 0.8062129020690918, Avg Train IoU = 0.19378729164600372, Avg Val Loss = 0.8097643852233887, Avg Val IoU = 0.19023564457893372  \n",
            "\n"
          ]
        },
        {
          "output_type": "stream",
          "name": "stderr",
          "text": [
            "EPOCH: 49/50 - Training: 100%|██████████| 63/63 [03:54<00:00,  3.73s/it, IoU_score=0.234, loss=0.766]\n",
            "             - Validation: 100%|██████████| 5/5 [00:36<00:00,  7.38s/it, IoU_score=0.438, loss=0.562]\n"
          ]
        },
        {
          "output_type": "stream",
          "name": "stdout",
          "text": [
            "Avg Train Loss = 0.8058038949966431, Avg Train IoU = 0.1941962093114853, Avg Val Loss = 0.8097643852233887, Avg Val IoU = 0.19023564457893372  \n",
            "\n"
          ]
        },
        {
          "output_type": "stream",
          "name": "stderr",
          "text": [
            "EPOCH: 50/50 - Training: 100%|██████████| 63/63 [03:51<00:00,  3.67s/it, IoU_score=0.14, loss=0.86]\n",
            "             - Validation: 100%|██████████| 5/5 [00:36<00:00,  7.38s/it, IoU_score=0.438, loss=0.562]\n"
          ]
        },
        {
          "output_type": "stream",
          "name": "stdout",
          "text": [
            "Avg Train Loss = 0.8065523505210876, Avg Train IoU = 0.19344770908355713, Avg Val Loss = 0.8097643852233887, Avg Val IoU = 0.19023564457893372  \n",
            "\n",
            "Best val_loss = 0.8097643852233887 , Best val_score = 0.19023564457893372 at Epoch 1.\n"
          ]
        }
      ],
      "source": [
        "# Model Paths\n",
        "best_model_path = os.path.join(models_path, \"trial_best_fcn.pth\")\n",
        "checkpoint_model_path = os.path.join(models_path, \"trial_checkpoint_fcn.pth\")\n",
        "\n",
        "# Predictions Path\n",
        "predictions_path = os.path.join(fcn_val_predictions_path, \"Trial\")\n",
        "\n",
        "# Choose learning rate\n",
        "initial_lr = 1e-3\n",
        "\n",
        "# Create model\n",
        "model = FCN_VGG16().to(DEVICE)\n",
        "\n",
        "# Train model\n",
        "model, History = train(model, 50, train_loader, val_loader, \n",
        "          best_model_path, checkpoint_model_path, predictions_path,\n",
        "          load_from_checkpoint='last',\n",
        "          initial_lr=initial_lr)"
      ]
    },
    {
      "cell_type": "markdown",
      "source": [
        "Get Train Results for best epoch"
      ],
      "metadata": {
        "id": "1u48E5dibOXK"
      }
    },
    {
      "cell_type": "code",
      "source": [
        "# Best Model Path\n",
        "model_path = os.path.join(models_path, \"trial_checkpoint_fcn.pth\")\n",
        "\n",
        "# Load Model\n",
        "model = FCN_VGG16().to(DEVICE)\n",
        "model, optimizer, scaler, states = load_checkpoint(model, model_path)\n",
        "History = states['history']\n",
        "\n",
        "# Train Loss and train accuracy at best epoch\n",
        "print(History[\"train_loss\"][0])\n",
        "print(History[\"train_IoU\"][0]*100,'%')"
      ],
      "metadata": {
        "colab": {
          "base_uri": "https://localhost:8080/"
        },
        "id": "GvPhvNDnbM-z",
        "outputId": "c054acb0-797d-4500-b070-4f792924cf6c"
      },
      "execution_count": null,
      "outputs": [
        {
          "output_type": "stream",
          "name": "stdout",
          "text": [
            "=> loaded checkpoint '/content/drive/MyDrive/ISIC-2017/Models/trial_checkpoint_fcn.pth'\n",
            "0.8057842\n",
            "19.421567022800446 %\n"
          ]
        }
      ]
    },
    {
      "cell_type": "markdown",
      "source": [
        ">> ### Training using ImageNet weights"
      ],
      "metadata": {
        "id": "jzPybrt8lXhG"
      }
    },
    {
      "cell_type": "code",
      "source": [
        "# Model Paths\n",
        "best_model_path = os.path.join(models_path, \"pretrained_best_fcn.pth\")\n",
        "checkpoint_model_path = os.path.join(models_path, \"pretrained_checkpoint_fcn.pth\")\n",
        "\n",
        "# Predictions Path\n",
        "predictions_path = os.path.join(fcn_val_predictions_path, \"Pretrained\")\n",
        "\n",
        "# Choose learning rate\n",
        "initial_lr = 1e-4\n",
        "\n",
        "# Create model\n",
        "model = FCN_VGG16(pretrained=True).to(DEVICE)\n",
        "\n",
        "# Train model\n",
        "model, History = train(model, 50, train_loader, val_loader, \n",
        "          best_model_path, checkpoint_model_path, predictions_path,\n",
        "          load_from_checkpoint='best',\n",
        "          initial_lr=initial_lr)"
      ],
      "metadata": {
        "colab": {
          "base_uri": "https://localhost:8080/"
        },
        "id": "salFbi0LzYkH",
        "outputId": "419ad329-fb2c-4980-f809-daf7609b4496"
      },
      "execution_count": null,
      "outputs": [
        {
          "output_type": "stream",
          "name": "stdout",
          "text": [
            "=> loaded checkpoint '/content/drive/MyDrive/ISIC-2017/Models/pretrained_best_fcn.pth'\n",
            "Model has been trained for 5 epochs with best_IoU = 0.1891 and best_loss = 0.8109 at epoch 5\n",
            "\n"
          ]
        },
        {
          "output_type": "stream",
          "name": "stderr",
          "text": [
            "EPOCH: 6/50 - Training: 100%|██████████| 63/63 [03:20<00:00,  3.19s/it, IoU_score=0.0203, loss=0.98]\n",
            "             - Validation: 100%|██████████| 5/5 [00:36<00:00,  7.30s/it, IoU_score=0, loss=1]\n"
          ]
        },
        {
          "output_type": "stream",
          "name": "stdout",
          "text": [
            "\n",
            "Avg Validation Loss= 1.0, Avg Validation IoU = 0.0\n",
            "\n"
          ]
        },
        {
          "output_type": "stream",
          "name": "stderr",
          "text": [
            "EPOCH: 7/50 - Training: 100%|██████████| 63/63 [03:21<00:00,  3.19s/it, IoU_score=3.12, loss=-2.12]\n",
            "             - Validation: 100%|██████████| 5/5 [00:36<00:00,  7.32s/it, IoU_score=0.444, loss=0.556]\n"
          ]
        },
        {
          "output_type": "stream",
          "name": "stdout",
          "text": [
            "\n",
            "Avg Validation Loss= 0.7686507105827332, Avg Validation IoU = 0.23134927451610565\n",
            "=> saved best model\n",
            "\n"
          ]
        },
        {
          "output_type": "stream",
          "name": "stderr",
          "text": [
            "EPOCH: 8/50 - Training: 100%|██████████| 63/63 [03:17<00:00,  3.13s/it, IoU_score=5.02, loss=-4.02]\n",
            "             - Validation: 100%|██████████| 5/5 [00:36<00:00,  7.31s/it, IoU_score=0.298, loss=0.702]\n"
          ]
        },
        {
          "output_type": "stream",
          "name": "stdout",
          "text": [
            "\n",
            "Avg Validation Loss= 0.8678284883499146, Avg Validation IoU = 0.13217148184776306\n",
            "\n"
          ]
        },
        {
          "output_type": "stream",
          "name": "stderr",
          "text": [
            "EPOCH: 9/50 - Training: 100%|██████████| 63/63 [03:19<00:00,  3.17s/it, IoU_score=0.327, loss=0.673]\n",
            "             - Validation: 100%|██████████| 5/5 [00:36<00:00,  7.22s/it, IoU_score=0.416, loss=0.584]\n"
          ]
        },
        {
          "output_type": "stream",
          "name": "stdout",
          "text": [
            "\n",
            "Avg Validation Loss= 0.8147791028022766, Avg Validation IoU = 0.1852208822965622\n",
            "\n"
          ]
        },
        {
          "output_type": "stream",
          "name": "stderr",
          "text": [
            "EPOCH: 10/50 - Training: 100%|██████████| 63/63 [03:21<00:00,  3.20s/it, IoU_score=0.369, loss=0.631]\n",
            "             - Validation: 100%|██████████| 5/5 [00:35<00:00,  7.20s/it, IoU_score=0.418, loss=0.582]\n"
          ]
        },
        {
          "output_type": "stream",
          "name": "stdout",
          "text": [
            "\n",
            "Avg Validation Loss= 0.8143162727355957, Avg Validation IoU = 0.18568377196788788\n",
            "\n"
          ]
        },
        {
          "output_type": "stream",
          "name": "stderr",
          "text": [
            "EPOCH: 11/50 - Training: 100%|██████████| 63/63 [03:19<00:00,  3.16s/it, IoU_score=0.217, loss=0.783]\n",
            "             - Validation: 100%|██████████| 5/5 [00:36<00:00,  7.25s/it, IoU_score=0.418, loss=0.582]\n"
          ]
        },
        {
          "output_type": "stream",
          "name": "stdout",
          "text": [
            "\n",
            "Avg Validation Loss= 0.814315915107727, Avg Validation IoU = 0.18568412959575653\n",
            "\n"
          ]
        },
        {
          "output_type": "stream",
          "name": "stderr",
          "text": [
            "EPOCH: 12/50 - Training: 100%|██████████| 63/63 [03:16<00:00,  3.12s/it, IoU_score=0.201, loss=0.799]\n",
            "             - Validation: 100%|██████████| 5/5 [00:36<00:00,  7.28s/it, IoU_score=0.418, loss=0.582]\n"
          ]
        },
        {
          "output_type": "stream",
          "name": "stdout",
          "text": [
            "\n",
            "Avg Validation Loss= 0.814315915107727, Avg Validation IoU = 0.18568412959575653\n",
            "\n"
          ]
        },
        {
          "output_type": "stream",
          "name": "stderr",
          "text": [
            "EPOCH: 13/50 - Training: 100%|██████████| 63/63 [03:18<00:00,  3.15s/it, IoU_score=0.188, loss=0.812]\n",
            "             - Validation: 100%|██████████| 5/5 [00:36<00:00,  7.20s/it, IoU_score=0.418, loss=0.582]\n"
          ]
        },
        {
          "output_type": "stream",
          "name": "stdout",
          "text": [
            "\n",
            "Avg Validation Loss= 0.814315915107727, Avg Validation IoU = 0.18568412959575653\n",
            "\n"
          ]
        },
        {
          "output_type": "stream",
          "name": "stderr",
          "text": [
            "EPOCH: 14/50 - Training: 100%|██████████| 63/63 [03:19<00:00,  3.16s/it, IoU_score=0.264, loss=0.736]\n",
            "             - Validation: 100%|██████████| 5/5 [00:36<00:00,  7.30s/it, IoU_score=0.418, loss=0.582]\n"
          ]
        },
        {
          "output_type": "stream",
          "name": "stdout",
          "text": [
            "\n",
            "Avg Validation Loss= 0.814315915107727, Avg Validation IoU = 0.18568412959575653\n",
            "\n"
          ]
        },
        {
          "output_type": "stream",
          "name": "stderr",
          "text": [
            "EPOCH: 15/50 - Training: 100%|██████████| 63/63 [03:20<00:00,  3.18s/it, IoU_score=0.381, loss=0.619]\n",
            "             - Validation: 100%|██████████| 5/5 [00:36<00:00,  7.26s/it, IoU_score=0.418, loss=0.582]\n"
          ]
        },
        {
          "output_type": "stream",
          "name": "stdout",
          "text": [
            "\n",
            "Avg Validation Loss= 0.814315915107727, Avg Validation IoU = 0.18568411469459534\n",
            "\n"
          ]
        },
        {
          "output_type": "stream",
          "name": "stderr",
          "text": [
            "EPOCH: 16/50 - Training: 100%|██████████| 63/63 [03:16<00:00,  3.13s/it, IoU_score=0.628, loss=0.372]\n",
            "             - Validation: 100%|██████████| 5/5 [00:36<00:00,  7.25s/it, IoU_score=0.418, loss=0.582]\n"
          ]
        },
        {
          "output_type": "stream",
          "name": "stdout",
          "text": [
            "\n",
            "Avg Validation Loss= 0.8143157958984375, Avg Validation IoU = 0.1856841892004013\n",
            "\n"
          ]
        },
        {
          "output_type": "stream",
          "name": "stderr",
          "text": [
            "EPOCH: 17/50 - Training: 100%|██████████| 63/63 [03:15<00:00,  3.10s/it, IoU_score=0.463, loss=0.537]\n",
            "             - Validation: 100%|██████████| 5/5 [00:36<00:00,  7.22s/it, IoU_score=0.418, loss=0.582]\n"
          ]
        },
        {
          "output_type": "stream",
          "name": "stdout",
          "text": [
            "\n",
            "Avg Validation Loss= 0.814315915107727, Avg Validation IoU = 0.18568412959575653\n",
            "\n"
          ]
        },
        {
          "output_type": "stream",
          "name": "stderr",
          "text": [
            "EPOCH: 18/50 - Training: 100%|██████████| 63/63 [03:15<00:00,  3.10s/it, IoU_score=0.269, loss=0.731]\n",
            "             - Validation: 100%|██████████| 5/5 [00:35<00:00,  7.17s/it, IoU_score=0.418, loss=0.582]\n"
          ]
        },
        {
          "output_type": "stream",
          "name": "stdout",
          "text": [
            "\n",
            "Avg Validation Loss= 0.814315915107727, Avg Validation IoU = 0.18568412959575653\n",
            "\n"
          ]
        },
        {
          "output_type": "stream",
          "name": "stderr",
          "text": [
            "EPOCH: 19/50 - Training: 100%|██████████| 63/63 [03:16<00:00,  3.11s/it, IoU_score=0.443, loss=0.557]\n",
            "             - Validation: 100%|██████████| 5/5 [00:35<00:00,  7.20s/it, IoU_score=0.418, loss=0.582]\n"
          ]
        },
        {
          "output_type": "stream",
          "name": "stdout",
          "text": [
            "\n",
            "Avg Validation Loss= 0.8143159747123718, Avg Validation IoU = 0.18568406999111176\n",
            "\n"
          ]
        },
        {
          "output_type": "stream",
          "name": "stderr",
          "text": [
            "EPOCH: 20/50 - Training: 100%|██████████| 63/63 [03:17<00:00,  3.13s/it, IoU_score=0.252, loss=0.748]\n",
            "             - Validation: 100%|██████████| 5/5 [00:35<00:00,  7.18s/it, IoU_score=0.418, loss=0.582]\n"
          ]
        },
        {
          "output_type": "stream",
          "name": "stdout",
          "text": [
            "\n",
            "Avg Validation Loss= 0.8143159747123718, Avg Validation IoU = 0.18568404018878937\n",
            "\n"
          ]
        },
        {
          "output_type": "stream",
          "name": "stderr",
          "text": [
            "EPOCH: 21/50 - Training: 100%|██████████| 63/63 [03:14<00:00,  3.09s/it, IoU_score=0.493, loss=0.507]\n",
            "             - Validation: 100%|██████████| 5/5 [00:36<00:00,  7.25s/it, IoU_score=0.418, loss=0.582]\n"
          ]
        },
        {
          "output_type": "stream",
          "name": "stdout",
          "text": [
            "\n",
            "Avg Validation Loss= 0.814315915107727, Avg Validation IoU = 0.18568412959575653\n",
            "\n"
          ]
        },
        {
          "output_type": "stream",
          "name": "stderr",
          "text": [
            "EPOCH: 22/50 - Training: 100%|██████████| 63/63 [03:14<00:00,  3.09s/it, IoU_score=0.296, loss=0.704]\n",
            "             - Validation: 100%|██████████| 5/5 [00:35<00:00,  7.13s/it, IoU_score=0.418, loss=0.582]\n"
          ]
        },
        {
          "output_type": "stream",
          "name": "stdout",
          "text": [
            "\n",
            "Avg Validation Loss= 0.814315915107727, Avg Validation IoU = 0.18568412959575653\n",
            "\n"
          ]
        },
        {
          "output_type": "stream",
          "name": "stderr",
          "text": [
            "EPOCH: 23/50 - Training: 100%|██████████| 63/63 [03:20<00:00,  3.19s/it, IoU_score=0.542, loss=0.458]\n",
            "             - Validation: 100%|██████████| 5/5 [00:34<00:00,  6.99s/it, IoU_score=0.418, loss=0.582]\n"
          ]
        },
        {
          "output_type": "stream",
          "name": "stdout",
          "text": [
            "\n",
            "Avg Validation Loss= 0.814315915107727, Avg Validation IoU = 0.18568411469459534\n",
            "\n"
          ]
        },
        {
          "output_type": "stream",
          "name": "stderr",
          "text": [
            "EPOCH: 24/50 - Training: 100%|██████████| 63/63 [03:13<00:00,  3.08s/it, IoU_score=0.433, loss=0.567]\n",
            "             - Validation: 100%|██████████| 5/5 [00:35<00:00,  7.02s/it, IoU_score=0.418, loss=0.582]\n"
          ]
        },
        {
          "output_type": "stream",
          "name": "stdout",
          "text": [
            "\n",
            "Avg Validation Loss= 0.814315915107727, Avg Validation IoU = 0.18568408489227295\n",
            "\n"
          ]
        },
        {
          "output_type": "stream",
          "name": "stderr",
          "text": [
            "EPOCH: 25/50 - Training: 100%|██████████| 63/63 [03:17<00:00,  3.13s/it, IoU_score=0.282, loss=0.718]\n",
            "             - Validation: 100%|██████████| 5/5 [00:36<00:00,  7.26s/it, IoU_score=0.418, loss=0.582]\n"
          ]
        },
        {
          "output_type": "stream",
          "name": "stdout",
          "text": [
            "\n",
            "Avg Validation Loss= 0.814315915107727, Avg Validation IoU = 0.18568411469459534\n",
            "\n"
          ]
        },
        {
          "output_type": "stream",
          "name": "stderr",
          "text": [
            "EPOCH: 26/50 - Training: 100%|██████████| 63/63 [03:18<00:00,  3.15s/it, IoU_score=0.617, loss=0.383]\n",
            "             - Validation: 100%|██████████| 5/5 [00:36<00:00,  7.23s/it, IoU_score=0.418, loss=0.582]\n"
          ]
        },
        {
          "output_type": "stream",
          "name": "stdout",
          "text": [
            "\n",
            "Avg Validation Loss= 0.8143159747123718, Avg Validation IoU = 0.18568404018878937\n",
            "\n"
          ]
        },
        {
          "output_type": "stream",
          "name": "stderr",
          "text": [
            "EPOCH: 27/50 - Training: 100%|██████████| 63/63 [03:17<00:00,  3.14s/it, IoU_score=0.231, loss=0.769]\n",
            "             - Validation: 100%|██████████| 5/5 [00:36<00:00,  7.21s/it, IoU_score=0.418, loss=0.582]\n"
          ]
        },
        {
          "output_type": "stream",
          "name": "stdout",
          "text": [
            "\n",
            "Avg Validation Loss= 0.814315915107727, Avg Validation IoU = 0.18568406999111176\n",
            "\n"
          ]
        },
        {
          "output_type": "stream",
          "name": "stderr",
          "text": [
            "EPOCH: 28/50 - Training: 100%|██████████| 63/63 [03:16<00:00,  3.12s/it, IoU_score=0.594, loss=0.406]\n",
            "             - Validation: 100%|██████████| 5/5 [00:35<00:00,  7.18s/it, IoU_score=0.418, loss=0.582]\n"
          ]
        },
        {
          "output_type": "stream",
          "name": "stdout",
          "text": [
            "\n",
            "Avg Validation Loss= 0.814315915107727, Avg Validation IoU = 0.18568411469459534\n",
            "\n"
          ]
        },
        {
          "output_type": "stream",
          "name": "stderr",
          "text": [
            "EPOCH: 29/50 - Training: 100%|██████████| 63/63 [03:14<00:00,  3.09s/it, IoU_score=0.272, loss=0.728]\n",
            "             - Validation: 100%|██████████| 5/5 [00:35<00:00,  7.16s/it, IoU_score=0.418, loss=0.582]\n"
          ]
        },
        {
          "output_type": "stream",
          "name": "stdout",
          "text": [
            "\n",
            "Avg Validation Loss= 0.8143159747123718, Avg Validation IoU = 0.18568406999111176\n",
            "\n"
          ]
        },
        {
          "output_type": "stream",
          "name": "stderr",
          "text": [
            "EPOCH: 30/50 - Training: 100%|██████████| 63/63 [03:18<00:00,  3.14s/it, IoU_score=0.389, loss=0.611]\n",
            "             - Validation: 100%|██████████| 5/5 [00:36<00:00,  7.21s/it, IoU_score=0.418, loss=0.582]\n"
          ]
        },
        {
          "output_type": "stream",
          "name": "stdout",
          "text": [
            "\n",
            "Avg Validation Loss= 0.8143159747123718, Avg Validation IoU = 0.18568401038646698\n",
            "\n"
          ]
        },
        {
          "output_type": "stream",
          "name": "stderr",
          "text": [
            "EPOCH: 31/50 - Training: 100%|██████████| 63/63 [03:15<00:00,  3.10s/it, IoU_score=0.477, loss=0.523]\n",
            "             - Validation: 100%|██████████| 5/5 [00:35<00:00,  7.13s/it, IoU_score=0.418, loss=0.582]\n"
          ]
        },
        {
          "output_type": "stream",
          "name": "stdout",
          "text": [
            "\n",
            "Avg Validation Loss= 0.814315915107727, Avg Validation IoU = 0.18568408489227295\n",
            "\n"
          ]
        },
        {
          "output_type": "stream",
          "name": "stderr",
          "text": [
            "EPOCH: 32/50 - Training: 100%|██████████| 63/63 [03:15<00:00,  3.10s/it, IoU_score=0.419, loss=0.581]\n",
            "             - Validation: 100%|██████████| 5/5 [00:35<00:00,  7.20s/it, IoU_score=0.418, loss=0.582]\n"
          ]
        },
        {
          "output_type": "stream",
          "name": "stdout",
          "text": [
            "\n",
            "Avg Validation Loss= 0.8143159747123718, Avg Validation IoU = 0.18568406999111176\n",
            "\n"
          ]
        },
        {
          "output_type": "stream",
          "name": "stderr",
          "text": [
            "EPOCH: 33/50 - Training: 100%|██████████| 63/63 [03:17<00:00,  3.14s/it, IoU_score=0.291, loss=0.709]\n",
            "             - Validation: 100%|██████████| 5/5 [00:35<00:00,  7.14s/it, IoU_score=0.418, loss=0.582]\n"
          ]
        },
        {
          "output_type": "stream",
          "name": "stdout",
          "text": [
            "\n",
            "Avg Validation Loss= 0.8143159747123718, Avg Validation IoU = 0.18568408489227295\n",
            "\n"
          ]
        },
        {
          "output_type": "stream",
          "name": "stderr",
          "text": [
            "EPOCH: 34/50 - Training: 100%|██████████| 63/63 [03:16<00:00,  3.12s/it, IoU_score=0.203, loss=0.797]\n",
            "             - Validation: 100%|██████████| 5/5 [00:35<00:00,  7.19s/it, IoU_score=0.418, loss=0.582]\n"
          ]
        },
        {
          "output_type": "stream",
          "name": "stdout",
          "text": [
            "\n",
            "Avg Validation Loss= 0.814315915107727, Avg Validation IoU = 0.18568411469459534\n",
            "\n"
          ]
        },
        {
          "output_type": "stream",
          "name": "stderr",
          "text": [
            "EPOCH: 35/50 - Training: 100%|██████████| 63/63 [03:21<00:00,  3.20s/it, IoU_score=0.35, loss=0.65]\n",
            "             - Validation: 100%|██████████| 5/5 [00:35<00:00,  7.16s/it, IoU_score=0.418, loss=0.582]\n"
          ]
        },
        {
          "output_type": "stream",
          "name": "stdout",
          "text": [
            "\n",
            "Avg Validation Loss= 0.814315915107727, Avg Validation IoU = 0.18568412959575653\n",
            "\n"
          ]
        },
        {
          "output_type": "stream",
          "name": "stderr",
          "text": [
            "EPOCH: 36/50 - Training: 100%|██████████| 63/63 [03:14<00:00,  3.09s/it, IoU_score=0.444, loss=0.556]\n",
            "             - Validation: 100%|██████████| 5/5 [00:35<00:00,  7.10s/it, IoU_score=0.418, loss=0.582]\n"
          ]
        },
        {
          "output_type": "stream",
          "name": "stdout",
          "text": [
            "\n",
            "Avg Validation Loss= 0.814315915107727, Avg Validation IoU = 0.18568408489227295\n",
            "\n"
          ]
        },
        {
          "output_type": "stream",
          "name": "stderr",
          "text": [
            "EPOCH: 37/50 - Training: 100%|██████████| 63/63 [03:15<00:00,  3.10s/it, IoU_score=0.612, loss=0.388]\n",
            "             - Validation: 100%|██████████| 5/5 [00:35<00:00,  7.09s/it, IoU_score=0.418, loss=0.582]\n"
          ]
        },
        {
          "output_type": "stream",
          "name": "stdout",
          "text": [
            "\n",
            "Avg Validation Loss= 0.814315915107727, Avg Validation IoU = 0.18568411469459534\n",
            "\n"
          ]
        },
        {
          "output_type": "stream",
          "name": "stderr",
          "text": [
            "EPOCH: 38/50 - Training: 100%|██████████| 63/63 [03:17<00:00,  3.14s/it, IoU_score=0.337, loss=0.663]\n",
            "             - Validation: 100%|██████████| 5/5 [00:36<00:00,  7.21s/it, IoU_score=0.418, loss=0.582]\n"
          ]
        },
        {
          "output_type": "stream",
          "name": "stdout",
          "text": [
            "\n",
            "Avg Validation Loss= 0.814315915107727, Avg Validation IoU = 0.18568411469459534\n",
            "\n"
          ]
        },
        {
          "output_type": "stream",
          "name": "stderr",
          "text": [
            "EPOCH: 39/50 - Training: 100%|██████████| 63/63 [03:16<00:00,  3.12s/it, IoU_score=0.415, loss=0.585]\n",
            "             - Validation: 100%|██████████| 5/5 [00:35<00:00,  7.13s/it, IoU_score=0.418, loss=0.582]\n"
          ]
        },
        {
          "output_type": "stream",
          "name": "stdout",
          "text": [
            "\n",
            "Avg Validation Loss= 0.8143159747123718, Avg Validation IoU = 0.1856839954853058\n",
            "\n"
          ]
        },
        {
          "output_type": "stream",
          "name": "stderr",
          "text": [
            "EPOCH: 40/50 - Training: 100%|██████████| 63/63 [03:14<00:00,  3.09s/it, IoU_score=0.407, loss=0.593]\n",
            "             - Validation: 100%|██████████| 5/5 [00:36<00:00,  7.21s/it, IoU_score=0.418, loss=0.582]\n"
          ]
        },
        {
          "output_type": "stream",
          "name": "stdout",
          "text": [
            "\n",
            "Avg Validation Loss= 0.814315915107727, Avg Validation IoU = 0.18568412959575653\n",
            "\n"
          ]
        },
        {
          "output_type": "stream",
          "name": "stderr",
          "text": [
            "EPOCH: 41/50 - Training: 100%|██████████| 63/63 [03:19<00:00,  3.17s/it, IoU_score=0.297, loss=0.703]\n",
            "             - Validation: 100%|██████████| 5/5 [00:36<00:00,  7.21s/it, IoU_score=0.418, loss=0.582]\n"
          ]
        },
        {
          "output_type": "stream",
          "name": "stdout",
          "text": [
            "\n",
            "Avg Validation Loss= 0.814315915107727, Avg Validation IoU = 0.18568408489227295\n",
            "\n"
          ]
        },
        {
          "output_type": "stream",
          "name": "stderr",
          "text": [
            "EPOCH: 42/50 - Training: 100%|██████████| 63/63 [03:18<00:00,  3.16s/it, IoU_score=0.441, loss=0.559]\n",
            "             - Validation: 100%|██████████| 5/5 [00:36<00:00,  7.22s/it, IoU_score=0.418, loss=0.582]\n"
          ]
        },
        {
          "output_type": "stream",
          "name": "stdout",
          "text": [
            "\n",
            "Avg Validation Loss= 0.814315915107727, Avg Validation IoU = 0.18568412959575653\n",
            "\n"
          ]
        },
        {
          "output_type": "stream",
          "name": "stderr",
          "text": [
            "EPOCH: 43/50 - Training: 100%|██████████| 63/63 [03:17<00:00,  3.13s/it, IoU_score=0.416, loss=0.584]\n",
            "             - Validation: 100%|██████████| 5/5 [00:36<00:00,  7.29s/it, IoU_score=0.418, loss=0.582]\n"
          ]
        },
        {
          "output_type": "stream",
          "name": "stdout",
          "text": [
            "\n",
            "Avg Validation Loss= 0.8143159747123718, Avg Validation IoU = 0.18568406999111176\n",
            "\n"
          ]
        },
        {
          "output_type": "stream",
          "name": "stderr",
          "text": [
            "EPOCH: 44/50 - Training: 100%|██████████| 63/63 [03:21<00:00,  3.20s/it, IoU_score=0.377, loss=0.623]\n",
            "             - Validation: 100%|██████████| 5/5 [00:36<00:00,  7.24s/it, IoU_score=0.418, loss=0.582]\n"
          ]
        },
        {
          "output_type": "stream",
          "name": "stdout",
          "text": [
            "\n",
            "Avg Validation Loss= 0.814315915107727, Avg Validation IoU = 0.18568408489227295\n",
            "\n"
          ]
        },
        {
          "output_type": "stream",
          "name": "stderr",
          "text": [
            "EPOCH: 45/50 - Training: 100%|██████████| 63/63 [03:18<00:00,  3.15s/it, IoU_score=0.486, loss=0.514]\n",
            "             - Validation: 100%|██████████| 5/5 [00:36<00:00,  7.25s/it, IoU_score=0.418, loss=0.582]\n"
          ]
        },
        {
          "output_type": "stream",
          "name": "stdout",
          "text": [
            "\n",
            "Avg Validation Loss= 0.8143159747123718, Avg Validation IoU = 0.18568406999111176\n",
            "\n"
          ]
        },
        {
          "output_type": "stream",
          "name": "stderr",
          "text": [
            "EPOCH: 46/50 - Training: 100%|██████████| 63/63 [03:16<00:00,  3.12s/it, IoU_score=0.477, loss=0.523]\n",
            "             - Validation: 100%|██████████| 5/5 [00:36<00:00,  7.25s/it, IoU_score=0.418, loss=0.582]\n"
          ]
        },
        {
          "output_type": "stream",
          "name": "stdout",
          "text": [
            "\n",
            "Avg Validation Loss= 0.8143159747123718, Avg Validation IoU = 0.18568404018878937\n",
            "\n"
          ]
        },
        {
          "output_type": "stream",
          "name": "stderr",
          "text": [
            "EPOCH: 47/50 - Training: 100%|██████████| 63/63 [03:21<00:00,  3.20s/it, IoU_score=0.396, loss=0.604]\n",
            "             - Validation: 100%|██████████| 5/5 [00:36<00:00,  7.30s/it, IoU_score=0.418, loss=0.582]\n"
          ]
        },
        {
          "output_type": "stream",
          "name": "stdout",
          "text": [
            "\n",
            "Avg Validation Loss= 0.814315915107727, Avg Validation IoU = 0.18568415939807892\n",
            "\n"
          ]
        },
        {
          "output_type": "stream",
          "name": "stderr",
          "text": [
            "EPOCH: 48/50 - Training: 100%|██████████| 63/63 [03:19<00:00,  3.17s/it, IoU_score=0.937, loss=0.063]\n",
            "             - Validation: 100%|██████████| 5/5 [00:36<00:00,  7.24s/it, IoU_score=0.418, loss=0.582]\n"
          ]
        },
        {
          "output_type": "stream",
          "name": "stdout",
          "text": [
            "\n",
            "Avg Validation Loss= 0.8143159747123718, Avg Validation IoU = 0.1856839954853058\n",
            "\n"
          ]
        },
        {
          "output_type": "stream",
          "name": "stderr",
          "text": [
            "EPOCH: 49/50 - Training: 100%|██████████| 63/63 [03:21<00:00,  3.19s/it, IoU_score=0.29, loss=0.71]\n",
            "             - Validation: 100%|██████████| 5/5 [00:36<00:00,  7.26s/it, IoU_score=0.418, loss=0.582]\n"
          ]
        },
        {
          "output_type": "stream",
          "name": "stdout",
          "text": [
            "\n",
            "Avg Validation Loss= 0.814315915107727, Avg Validation IoU = 0.18568411469459534\n",
            "\n"
          ]
        },
        {
          "output_type": "stream",
          "name": "stderr",
          "text": [
            "EPOCH: 50/50 - Training: 100%|██████████| 63/63 [03:18<00:00,  3.16s/it, IoU_score=0.311, loss=0.689]\n",
            "             - Validation: 100%|██████████| 5/5 [00:36<00:00,  7.30s/it, IoU_score=0.418, loss=0.582]\n"
          ]
        },
        {
          "output_type": "stream",
          "name": "stdout",
          "text": [
            "\n",
            "Avg Validation Loss= 0.8143157958984375, Avg Validation IoU = 0.1856842041015625\n",
            "\n",
            "Best val_loss = 0.7686507105827332 , Best val_score = 0.23134927451610565 at Epoch 7.\n"
          ]
        }
      ]
    },
    {
      "cell_type": "markdown",
      "source": [
        "Get Train Results for best epoch"
      ],
      "metadata": {
        "id": "j_0gKrtCcC15"
      }
    },
    {
      "cell_type": "code",
      "source": [
        "# Best Model Path\n",
        "model_path = os.path.join(models_path, \"pretrained_checkpoint_fcn.pth\")\n",
        "\n",
        "# Load Model\n",
        "model = FCN_VGG16().to(DEVICE)\n",
        "model, optimizer, scaler, states = load_checkpoint(model, model_path)\n",
        "History = states['history']\n",
        "\n",
        "# Train Loss and train accuracy at best epoch\n",
        "print(History[\"train_loss\"][6])\n",
        "print(History[\"train_IoU\"][6]*100,'%')"
      ],
      "metadata": {
        "colab": {
          "base_uri": "https://localhost:8080/"
        },
        "id": "VJwDZYeFb7BP",
        "outputId": "bf9f8006-c8c1-4363-fc0d-9940cdee035e"
      },
      "execution_count": null,
      "outputs": [
        {
          "output_type": "stream",
          "name": "stdout",
          "text": [
            "=> loaded checkpoint '/content/drive/MyDrive/ISIC-2017/Models/pretrained_checkpoint_fcn.pth'\n",
            "0.3492568\n",
            "65.07432460784912 %\n"
          ]
        }
      ]
    },
    {
      "cell_type": "markdown",
      "source": [
        "# 8. Test"
      ],
      "metadata": {
        "id": "20WlUu_8ehwj"
      }
    },
    {
      "cell_type": "markdown",
      "source": [
        "Dataset and dataloader"
      ],
      "metadata": {
        "id": "AzOWFP8L9Pjt"
      }
    },
    {
      "cell_type": "code",
      "source": [
        "test_dataset = ISIC_Dataset(directory = test_dir, transform = train_transform)\n",
        "\n",
        "print(f\"[INFO] found {len(test_dataset)} examples in the test set...\")\n",
        "\n",
        "# create the test data loader\n",
        "test_loader = DataLoader(\n",
        "    test_dataset,\n",
        "    batch_size=BATCH_SIZE,\n",
        "    num_workers=NUM_WORKERS,\n",
        "    pin_memory=PIN_MEMORY,\n",
        "    shuffle=False,\n",
        ")"
      ],
      "metadata": {
        "colab": {
          "base_uri": "https://localhost:8080/"
        },
        "id": "h4hoaBKI9OUa",
        "outputId": "38d8b579-a4ae-4053-a8a7-d5b413a1d7d9"
      },
      "execution_count": null,
      "outputs": [
        {
          "output_type": "stream",
          "name": "stdout",
          "text": [
            "[INFO] found 600 examples in the test set...\n"
          ]
        }
      ]
    },
    {
      "cell_type": "markdown",
      "source": [
        "> ## 1. Best UNet Model"
      ],
      "metadata": {
        "id": "38hSQvGh880M"
      }
    },
    {
      "cell_type": "code",
      "source": [
        "# Best Model Path (To be edited)\n",
        "best_model_path = os.path.join(models_path, \"trial_best_unet.pth\")\n",
        "\n",
        "# Load Model\n",
        "model = UNet().to(DEVICE)\n",
        "model, optimizer, scaler, states = load_checkpoint(model, best_model_path)\n",
        "\n",
        "# Test\n",
        "loss, IoU = test(model,test_loader, unet_test_predictions_path)"
      ],
      "metadata": {
        "id": "tiJrKymBeie0",
        "colab": {
          "base_uri": "https://localhost:8080/"
        },
        "outputId": "f0d83120-cacb-418d-ce09-230efa160139"
      },
      "execution_count": null,
      "outputs": [
        {
          "output_type": "stream",
          "name": "stdout",
          "text": [
            "=> loaded checkpoint '/content/drive/MyDrive/ISIC-2017/Models/trial_best_unet.pth'\n"
          ]
        },
        {
          "output_type": "stream",
          "name": "stderr",
          "text": [
            "Testing: : 100%|██████████| 19/19 [02:46<00:00,  8.77s/it, IoU_score=0.714, loss=0.287]"
          ]
        },
        {
          "output_type": "stream",
          "name": "stdout",
          "text": [
            "\n",
            "Avg Test Loss = 0.3576013445854187, Avg Test IoU = 0.6424763202667236\n"
          ]
        },
        {
          "output_type": "stream",
          "name": "stderr",
          "text": [
            "\n"
          ]
        }
      ]
    },
    {
      "cell_type": "markdown",
      "source": [
        "> ## 2. Best FCN Model"
      ],
      "metadata": {
        "id": "3dl7iNwr9Jnw"
      }
    },
    {
      "cell_type": "code",
      "source": [
        "# Best Model Path (TO BE ADDED)\n",
        "best_model_path = os.path.join(models_path, \"pretrained_best_fcn.pth\")\n",
        "\n",
        "\n",
        "# Load Model\n",
        "model = FCN_VGG16(pretrained=True).to(DEVICE)\n",
        "model, optimizer, scaler, states = load_checkpoint(model, best_model_path)\n",
        "\n",
        "# Test\n",
        "loss, IoU = test(model,test_loader,fcn_test_predictions_path)"
      ],
      "metadata": {
        "id": "AAjEC7LQ9Jnx",
        "colab": {
          "base_uri": "https://localhost:8080/",
          "height": 136,
          "referenced_widgets": [
            "280f4bb6755b4834afa2ddcb1e23c8f3",
            "726b04fd754c4c11b70cfa7093fccefb",
            "b799ba145d2a407787befd92c21a28c8",
            "fcdcf75b7b6b43e085716a17d37149c6",
            "9ac6b8c4cc074e74ac5bd81202baa392",
            "3aa6f32479c54da1b103c354b77d7326",
            "fc7b480c2d2d4bbba6f60488687b8bba",
            "a23ab99d262341d89e3d1b448057594a",
            "676312b6730848bc829f133b4a356e4e",
            "7bbd2404ee82433ba5417fba5645d831",
            "ca5437eede2e4104930ca1e1a6665746"
          ]
        },
        "outputId": "43a0983e-542b-4a7c-efd6-3883cb4c6535"
      },
      "execution_count": null,
      "outputs": [
        {
          "output_type": "stream",
          "name": "stderr",
          "text": [
            "Downloading: \"https://download.pytorch.org/models/vgg16-397923af.pth\" to /root/.cache/torch/hub/checkpoints/vgg16-397923af.pth\n"
          ]
        },
        {
          "output_type": "display_data",
          "data": {
            "application/vnd.jupyter.widget-view+json": {
              "model_id": "280f4bb6755b4834afa2ddcb1e23c8f3",
              "version_minor": 0,
              "version_major": 2
            },
            "text/plain": [
              "  0%|          | 0.00/528M [00:00<?, ?B/s]"
            ]
          },
          "metadata": {}
        },
        {
          "output_type": "stream",
          "name": "stdout",
          "text": [
            "=> loaded checkpoint '/content/drive/MyDrive/ISIC-2017/Models/pretrained_best_fcn.pth'\n"
          ]
        },
        {
          "output_type": "stream",
          "name": "stderr",
          "text": [
            "Testing: : 100%|██████████| 19/19 [05:06<00:00, 16.13s/it, IoU_score=0.0446, loss=0.943]"
          ]
        },
        {
          "output_type": "stream",
          "name": "stdout",
          "text": [
            "\n",
            "Avg Test Loss = 0.7741149067878723, Avg Test IoU = 0.2086348980665207\n"
          ]
        },
        {
          "output_type": "stream",
          "name": "stderr",
          "text": [
            "\n"
          ]
        }
      ]
    }
  ]
}